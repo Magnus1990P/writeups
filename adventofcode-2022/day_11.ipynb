{
 "cells": [
  {
   "attachments": {},
   "cell_type": "markdown",
   "metadata": {},
   "source": [
    "--- Day 11: Monkey in the Middle ---\n",
    "==="
   ]
  },
  {
   "cell_type": "code",
   "execution_count": null,
   "metadata": {},
   "outputs": [],
   "source": [
    "import math\n",
    "\n",
    "with open(\"files/input_11.txt\") as datafile:\n",
    "    raw_text = datafile.read()\n",
    "\n",
    "temp = [monkey for monkey in raw_text.split(\"\\n\\n\")]\n",
    "monkeys = []\n",
    "for data in temp:\n",
    "    monkey = {}\n",
    "    lines = data.split(\"\\n\")\n",
    "\n",
    "    monkey[\"items\"] = [int(item.strip()) for item in lines[1][lines[1].find(\":\")+2:].split(\",\")]\n",
    "    monkey[\"operations\"] = [item.strip() for item in lines[2][lines[2].rfind(\"=\")+2:].split(\" \")]\n",
    "    monkey[\"test\"] = int(lines[3][lines[3].rfind(\" \"):])\n",
    "    monkey[\"true\"] = int(lines[4][lines[4].rfind(\" \"):])\n",
    "    monkey[\"false\"] = int(lines[5][lines[5].rfind(\" \"):])\n",
    "    monkey[\"count\"] = 0\n",
    "    monkeys.append(monkey)\n",
    "\n",
    "def calc_worry_level(ops, old):\n",
    "  new = 0\n",
    "  a = old if ops[0]==\"old\" else int(ops[0].strip())\n",
    "  b = old if ops[2]==\"old\" else int(ops[2].strip())\n",
    "  if ops[1] == \"+\":\n",
    "    new = a+b\n",
    "  elif ops[1] == \"*\":\n",
    "    new = a*b\n",
    "  return new\n",
    "\n",
    "for round_count in range(0,20):\n",
    "  for index,monkey in enumerate(monkeys):\n",
    "    while len(monkey[\"items\"]) > 0:\n",
    "      val = monkey[\"items\"].pop(0)\n",
    "      nVal = calc_worry_level(monkey[\"operations\"], val)\n",
    "      nVal = int(nVal/3)\n",
    "      monkey[\"count\"] += 1\n",
    "      rcv = monkey[\"true\"] if (nVal%monkey[\"test\"]) == 0 else monkey[\"false\"]\n",
    "      monkeys[rcv][\"items\"].append(nVal)\n",
    "\n",
    "counts = [monkey[\"count\"] for index,monkey in enumerate(monkeys)]\n",
    "counts.sort()\n",
    "\n",
    "print(math.prod(counts[-2:]))"
   ]
  },
  {
   "attachments": {},
   "cell_type": "markdown",
   "metadata": {},
   "source": [
    "--- Part Two ---\n",
    "==="
   ]
  },
  {
   "cell_type": "code",
   "execution_count": 28,
   "metadata": {},
   "outputs": [
    {
     "name": "stdout",
     "output_type": "stream",
     "text": [
      "<generator object <genexpr> at 0x7f31cc1ae7a0>\n",
      "23612457316\n"
     ]
    }
   ],
   "source": [
    "import math\n",
    "\n",
    "with open(\"files/input_11.txt\") as datafile:\n",
    "    raw_text = datafile.read()\n",
    "\n",
    "def calc_worry_level(ops, old):\n",
    "  a = old if ops[0]==\"old\" else ops[0]\n",
    "  b = old if ops[2]==\"old\" else ops[2]\n",
    "  return (a+b) if ops[1] == \"+\" else (a*b)\n",
    "\n",
    "monkeys = []\n",
    "for data in [monkey for monkey in raw_text.split(\"\\n\\n\")]:\n",
    "    monkey = {}\n",
    "    lines = data.split(\"\\n\")\n",
    "    \n",
    "    monkey[\"items\"] = [int(item.strip()) for item in lines[1][lines[1].find(\":\")+2:].split(\",\")]\n",
    "    monkey[\"operations\"] = []\n",
    "    for op in [item.strip() for item in lines[2][lines[2].rfind(\"=\")+2:].split(\" \")]:\n",
    "      monkey[\"operations\"].append(int(op) if op.isdigit() else op)\n",
    "    \n",
    "    monkey[\"test\"] = int(lines[3][lines[3].rfind(\" \"):])\n",
    "    monkey[\"true\"] = int(lines[4][lines[4].rfind(\" \"):])\n",
    "    monkey[\"false\"] = int(lines[5][lines[5].rfind(\" \"):])\n",
    "    monkey[\"count\"] = 0\n",
    "\n",
    "    monkeys.append(monkey)\n",
    "\n",
    "mod_test = math.prod(monkey[\"test\"] for monkey in monkeys)\n",
    "\n",
    "for round_count in range(0,10000):\n",
    "  for monkey in monkeys:\n",
    "    while len(monkey[\"items\"]) > 0:\n",
    "      monkey[\"count\"] += 1\n",
    "      nVal = calc_worry_level(monkey[\"operations\"], monkey[\"items\"].pop(0))\n",
    "      nVal = nVal % mod_test\n",
    "      rcv = monkey[\"true\"] if (nVal%monkey[\"test\"]) == 0 else monkey[\"false\"]\n",
    "      monkeys[rcv][\"items\"].append(nVal)\n",
    "  \n",
    "counts = [monkey[\"count\"] for index,monkey in enumerate(monkeys)]\n",
    "counts.sort()\n",
    "\n",
    "[print(monkey[\"count\"] for monkey in monkeys)]\n",
    "print(math.prod(counts[-2:]))"
   ]
  }
 ],
 "metadata": {
  "kernelspec": {
   "display_name": "Python 3.10.6 64-bit",
   "language": "python",
   "name": "python3"
  },
  "language_info": {
   "codemirror_mode": {
    "name": "ipython",
    "version": 3
   },
   "file_extension": ".py",
   "mimetype": "text/x-python",
   "name": "python",
   "nbconvert_exporter": "python",
   "pygments_lexer": "ipython3",
   "version": "3.10.6"
  },
  "orig_nbformat": 4,
  "vscode": {
   "interpreter": {
    "hash": "916dbcbb3f70747c44a77c7bcd40155683ae19c65e1c03b4aa3499c5328201f1"
   }
  }
 },
 "nbformat": 4,
 "nbformat_minor": 2
}
