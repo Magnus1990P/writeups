{
 "cells": [
  {
   "attachments": {},
   "cell_type": "markdown",
   "metadata": {},
   "source": [
    "--- Day 9: Rope Bridge ---\n",
    "===\n",
    "\n",
    "- Registers initial state `x = 1`\n",
    "- `addx V`\n",
    "    - Takes two cycles to complete.\n",
    "    - After two cycles, the X register is increased by the value V. (V can be negative.)\n",
    "- `noop`\n",
    "    - Takes one cycle to complete.\n",
    "    - It has no other effect.\n",
    "\n",
    "**Find the signal strength during the 20th, 60th, 100th, 140th, 180th, and 220th cycles. What is the sum of these six signal strengths?**"
   ]
  },
  {
   "cell_type": "code",
   "execution_count": 95,
   "metadata": {},
   "outputs": [
    {
     "data": {
      "text/plain": [
       "16480"
      ]
     },
     "execution_count": 95,
     "metadata": {},
     "output_type": "execute_result"
    }
   ],
   "source": [
    "import numpy as np\n",
    "raw_text = \"\"\"noop\n",
    "addx 3\n",
    "addx -5\"\"\"\n",
    "\n",
    "with open(\"files/input_10.txt\") as datafile:\n",
    "    raw_text = datafile.read()\n",
    "\n",
    "OPS = raw_text.strip().split(\"\\n\")\n",
    "\n",
    "reg_x = 1\n",
    "reg_x_ts = []\n",
    "op_index = 0\n",
    "pause = True\n",
    "while op_index < len(OPS):\n",
    "    op = OPS[op_index]\n",
    "    reg_x_ts.append(reg_x)\n",
    "    if op == \"noop\":\n",
    "        op_index += 1\n",
    "        pause = True\n",
    "    else:\n",
    "        if pause:\n",
    "            value = int(op[op.rfind(\" \"):])\n",
    "            pause = False\n",
    "        else:\n",
    "            reg_x += value\n",
    "            pause = True\n",
    "            op_index += 1\n",
    "\n",
    "sum([(index+1)*val for index,val in enumerate(reg_x_ts) if (index+1) in [20,60,100,140,180,220] ])"
   ]
  },
  {
   "attachments": {},
   "cell_type": "markdown",
   "metadata": {},
   "source": [
    "--- Part Two ---\n",
    "---\n",
    "The time-series recorded data shows the signal of a sprite.  if the time-series value falls within the clock cycle value of $\\plusminus 1$ it is considered a high-value and a lit pixel.\n",
    "\n",
    "The CRT is 6x40 and every 40th clock cycle represent a new row of pixels.\n",
    "\n",
    "**Render the image given by your program. What eight capital letters appear on your CRT?**"
   ]
  },
  {
   "cell_type": "code",
   "execution_count": 93,
   "metadata": {},
   "outputs": [
    {
     "name": "stdout",
     "output_type": "stream",
     "text": [
      "###..#....####.####.#..#.#....###..###..\n",
      "#..#.#....#....#....#..#.#....#..#.#..#.\n",
      "#..#.#....###..###..#..#.#....#..#.###..\n",
      "###..#....#....#....#..#.#....###..#..#.\n",
      "#....#....#....#....#..#.#....#....#..#.\n",
      "#....####.####.#.....##..####.#....###..\n"
     ]
    },
    {
     "data": {
      "text/plain": [
       "[None, None, None, None, None, None]"
      ]
     },
     "execution_count": 93,
     "metadata": {},
     "output_type": "execute_result"
    }
   ],
   "source": [
    "import numpy as np\n",
    "\n",
    "CRT = np.zeros((240))\n",
    "\n",
    "for cycle,sprite_loc in enumerate(reg_x_ts):\n",
    "    A = [a for a in [0,40,80,120,160,200] if a <= cycle ]\n",
    "    adds = 0 if not A else max(A)\n",
    "    sprite_arr = [(sprite_loc+adds+index)%240 for index in [-1,0,1] ]\n",
    "    \n",
    "    if (cycle%240) in sprite_arr:\n",
    "        CRT[cycle] = 1\n",
    "\n",
    "CRT_txt = list(map(str,map(int,CRT)))\n",
    "C2 = [CRT_txt[i:i+40] for i in range(0,240,40)]\n",
    "\n",
    "[print(\"\".join(c).replace(\"1\",\"#\").replace(\"0\",\".\")) for c in C2]"
   ]
  }
 ],
 "metadata": {
  "kernelspec": {
   "display_name": "Python 3.10.6 64-bit",
   "language": "python",
   "name": "python3"
  },
  "language_info": {
   "codemirror_mode": {
    "name": "ipython",
    "version": 3
   },
   "file_extension": ".py",
   "mimetype": "text/x-python",
   "name": "python",
   "nbconvert_exporter": "python",
   "pygments_lexer": "ipython3",
   "version": "3.10.6 (main, Nov 14 2022, 16:10:14) [GCC 11.3.0]"
  },
  "orig_nbformat": 4,
  "vscode": {
   "interpreter": {
    "hash": "916dbcbb3f70747c44a77c7bcd40155683ae19c65e1c03b4aa3499c5328201f1"
   }
  }
 },
 "nbformat": 4,
 "nbformat_minor": 2
}
