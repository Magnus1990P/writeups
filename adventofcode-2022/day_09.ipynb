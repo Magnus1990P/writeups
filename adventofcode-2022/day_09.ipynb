{
 "cells": [
  {
   "attachments": {},
   "cell_type": "markdown",
   "metadata": {},
   "source": [
    "--- Day 9: Rope Bridge ---\n",
    "===\n",
    "\n",
    "So, there are 13 positions the tail visited at least once.\n",
    "\n",
    "Simulate your complete hypothetical series of motions. How many positions does the tail of the rope visit at least once?"
   ]
  },
  {
   "cell_type": "code",
   "execution_count": 173,
   "metadata": {},
   "outputs": [
    {
     "name": "stdout",
     "output_type": "stream",
     "text": [
      "6314\n"
     ]
    }
   ],
   "source": [
    "import numpy as np\n",
    "raw_text = \"\"\"R 4\n",
    "U 4\n",
    "L 3\n",
    "D 1\n",
    "R 4\n",
    "D 1\n",
    "L 5\n",
    "R 2\"\"\"\n",
    "\n",
    "with open(\"files/input_09.txt\") as datafile:\n",
    "    raw_text = datafile.read()\n",
    "\n",
    "def update_position(piece,direction):\n",
    "    if direction in \"LR\":\n",
    "        piece[1] += -1 if direction==\"L\" else 1\n",
    "    elif direction in \"DU\":\n",
    "        piece[0] += 1 if direction==\"D\" else -1\n",
    "    return piece\n",
    "\n",
    "\n",
    "moves = [[move[0],int(move[2:])] for move in raw_text.split(\"\\n\")]\n",
    "\n",
    "head_pos = [0,0] # Y,X\n",
    "tail_pos = [0,0] # Y,X\n",
    "\n",
    "head_trail = []\n",
    "tail_trail = []\n",
    "\n",
    "head_trail.append(head_pos[:])\n",
    "tail_trail.append(tail_pos[:])\n",
    "for direction,spaces in moves:\n",
    "    count = spaces\n",
    "    while count > 0:\n",
    "        count -= 1\n",
    "        head_pos = update_position(head_pos, direction)\n",
    "        head_trail.append(head_pos[:])\n",
    "        \n",
    "        d_Y = head_pos[0]-tail_pos[0]\n",
    "        d_X = head_pos[1]-tail_pos[1]\n",
    "        d_Y_abs = abs(d_Y)\n",
    "        d_X_abs = abs(d_X)\n",
    "\n",
    "        if (d_Y_abs==2 and d_X_abs==1) or (d_X_abs==2 and d_Y_abs==1): #diag\n",
    "            tail_pos = update_position(tail_pos, \"U\") if d_Y < 0 else update_position(tail_pos, \"D\")\n",
    "            tail_pos = update_position(tail_pos, \"R\") if d_X > 0 else update_position(tail_pos, \"L\")\n",
    "        \n",
    "        elif d_Y_abs==2 and d_X_abs==0: #Y\n",
    "            tail_pos = update_position(tail_pos, \"U\") if d_Y < 0 else update_position(tail_pos, \"D\")\n",
    "\n",
    "        elif d_X_abs==2 and d_Y_abs==0: #X\n",
    "            tail_pos = update_position(tail_pos, \"R\") if d_X > 0 else update_position(tail_pos, \"L\")\n",
    "        \n",
    "        tail_trail.append(tail_pos[:])\n",
    "        \n",
    "        d_Y = head_pos[0]-tail_pos[0]\n",
    "        d_X = head_pos[1]-tail_pos[1]\n",
    "        d_Y_abs = abs(d_Y)\n",
    "        d_X_abs = abs(d_X)\n",
    "\n",
    "\n",
    "a = set([f\"{coord[0]},{coord[1]}\" for coord in tail_trail])\n",
    "print(len(a))"
   ]
  },
  {
   "attachments": {},
   "cell_type": "markdown",
   "metadata": {},
   "source": []
  },
  {
   "cell_type": "code",
   "execution_count": 237,
   "metadata": {},
   "outputs": [
    {
     "name": "stdout",
     "output_type": "stream",
     "text": [
      "2504\n",
      "\n"
     ]
    }
   ],
   "source": [
    "import numpy as np\n",
    "raw_text = \"\"\"R 5\n",
    "U 8\n",
    "L 8\n",
    "D 3\n",
    "R 17\n",
    "D 10\n",
    "L 25\n",
    "U 20\"\"\"\n",
    "\n",
    "with open(\"files/input_09.txt\") as datafile:\n",
    "    raw_text = datafile.read()\n",
    "\n",
    "def update_position(piece,direction):\n",
    "    if direction in \"LR\":\n",
    "        piece[1] += -1 if direction==\"L\" else 1\n",
    "    elif direction in \"DU\":\n",
    "        piece[0] += 1 if direction==\"D\" else -1\n",
    "    return piece\n",
    "\n",
    "moves = [[move[0],int(move[2:])] for move in raw_text.split(\"\\n\")]\n",
    "\n",
    "knot_pos = np.zeros((10,2)) # Y,X\n",
    "trails = [[[0,0]] for pos in knot_pos]\n",
    "\n",
    "for direction,spaces in moves:\n",
    "    count = spaces\n",
    "    while count > 0:\n",
    "        count -= 1\n",
    "        knot_pos[0] = update_position(knot_pos[0], direction)\n",
    "        trails[0].append([int(knot_pos[0][0]),int(knot_pos[0][1])])\n",
    "        \n",
    "        for index in range(1,10):\n",
    "            d_Y = knot_pos[index-1][0]-knot_pos[index][0]\n",
    "            d_X = knot_pos[index-1][1]-knot_pos[index][1]\n",
    "            d_Y_abs = abs(d_Y)\n",
    "            d_X_abs = abs(d_X)\n",
    "\n",
    "            if (d_Y_abs==2 and d_X_abs>=1) or (d_X_abs==2 and d_Y_abs>=1): #diag\n",
    "                knot_pos[index] = update_position(knot_pos[index], \"U\") if d_Y < 0 else update_position(knot_pos[index], \"D\")\n",
    "                knot_pos[index] = update_position(knot_pos[index], \"R\") if d_X > 0 else update_position(knot_pos[index], \"L\")\n",
    "            \n",
    "            elif d_Y_abs==2 and d_X_abs==0: #Y\n",
    "                knot_pos[index] = update_position(knot_pos[index], \"U\") if d_Y < 0 else update_position(knot_pos[index], \"D\")\n",
    "\n",
    "            elif d_X_abs==2 and d_Y_abs==0: #X\n",
    "                knot_pos[index] = update_position(knot_pos[index], \"R\") if d_X > 0 else update_position(knot_pos[index], \"L\")\n",
    "\n",
    "            trails[index].append([int(knot_pos[index][0]),int(knot_pos[index][1])])\n",
    "\n",
    "a = set([f\"{coord[0]},{coord[1]}\" for coord in trails[-1]])\n",
    "print(len(a))\n",
    "print()"
   ]
  }
 ],
 "metadata": {
  "kernelspec": {
   "display_name": "Python 3.10.6 64-bit",
   "language": "python",
   "name": "python3"
  },
  "language_info": {
   "codemirror_mode": {
    "name": "ipython",
    "version": 3
   },
   "file_extension": ".py",
   "mimetype": "text/x-python",
   "name": "python",
   "nbconvert_exporter": "python",
   "pygments_lexer": "ipython3",
   "version": "3.10.6 (main, Nov 14 2022, 16:10:14) [GCC 11.3.0]"
  },
  "orig_nbformat": 4,
  "vscode": {
   "interpreter": {
    "hash": "916dbcbb3f70747c44a77c7bcd40155683ae19c65e1c03b4aa3499c5328201f1"
   }
  }
 },
 "nbformat": 4,
 "nbformat_minor": 2
}
