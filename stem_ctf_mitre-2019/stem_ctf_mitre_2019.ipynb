{
 "cells": [
  {
   "attachments": {},
   "cell_type": "markdown",
   "metadata": {},
   "source": [
    "# STEM CTF MITRE 2019"
   ]
  },
  {
   "attachments": {},
   "cell_type": "markdown",
   "metadata": {},
   "source": [
    "### 59 - Binary 50\n",
    "\n",
    "The solution is simple, just run strings on the binary and grep for the stat of the flag.\n",
    "\n",
    "```bash\n",
    "$ strings challenge | grep MCA\n",
    "MCA{y3ah_sur3_here_y0u_g0}\n",
    "```"
   ]
  },
  {
   "attachments": {},
   "cell_type": "markdown",
   "metadata": {},
   "source": [
    "### 61 - Grab bag 100\n",
    "The original image has blown out background, either too black or too white. Guessing this meant some data whas hidden there as the image was viewable, as is.\n",
    "\n",
    "Found a threshold function in convert and ran it for white, and the first part appeared.  Figured out how to run the black threshold at the website below, and tried that as well. \n",
    "https://imagemagick.org/script/command-line-options.php#black-threshold\n",
    "\n",
    "\n",
    "`convert Scaredy_Cat.png -white-threshold 0% white.png`  \n",
    "`convert Scaredy_Cat.png -black-threshold 100% black.png`\n",
    "\n",
    "\n",
    "![Alt text](./solution_61_white.png \"a title\")\n",
    "![Alt text](./solution_61_black.png \"a title\")\n"
   ]
  },
  {
   "attachments": {},
   "cell_type": "markdown",
   "metadata": {},
   "source": [
    "### 62 - Grab bag 100\n",
    "A recursive loop of decompressing a archive ~500 times, based on archive type, in order to get the flag."
   ]
  },
  {
   "cell_type": "code",
   "execution_count": null,
   "metadata": {
    "vscode": {
     "languageId": "shellscript"
    }
   },
   "outputs": [],
   "source": [
    "#!/bin/bash\n",
    "#URL FOR file signatures https://www.garykessler.net/library/file_sigs.html\n",
    "FNAME=flag\n",
    "TRUE=1\n",
    "C=0\n",
    "ZERO=\"000\"\n",
    "\n",
    "while [[ $TRUE -lt 502 ]]; do\n",
    "\tif [[ $C -lt 10 ]]; then\n",
    "\t\tZERO=\"000\"\n",
    "\telif [[ $C -lt 100 ]]; then\n",
    "\t\tZERO=\"00\"\n",
    "\telif [[ $C -lt 1000 ]]; then\n",
    "\t\tZERO=\"0\"\n",
    "\telse\n",
    "\t\tZERO=\"\"\n",
    "\tfi\n",
    "\n",
    "\t##Grab filesignature\n",
    "\tFHEAD=$(hd \"$FNAME\" | head -n1 | awk -F\" \" '{print $2$3$4}')\n",
    "\n",
    "\techo -n \"$FHEAD\t\t$FNAME\t\t\"\n",
    "\n",
    "\tif [[ $FHEAD == \"1f8b08\" ]]; then\n",
    "\t\t#GZ\n",
    "\t\tgzip --decompress \"$FNAME\" --stdout > \"flag_$ZERO$C\"\n",
    "\t\techo \"gzip\"\n",
    "\telif [[ $FHEAD == \"425a68\" ]]; then\n",
    "\t\t#BZ2\n",
    "\t\tbzip2 --decompress \"$FNAME\" --stdout > \"flag_$ZERO$C\"\n",
    "\t\techo \"bz2\"\n",
    "\telif [[ $FHEAD == \"504b03\" ]]; then\n",
    "\t\t#ZIP \n",
    "\t\tgunzip -c \"$FNAME\" > \"flag_$ZERO$C\"\n",
    "\t\techo \"ZIP\"\n",
    "\telse\n",
    "\t\t#base64\n",
    "\t\tcat \"$FNAME\" | base64 --decode > \"flag_$ZERO$C\"\n",
    "\t\techo \"b64\"\n",
    "\tfi\n",
    "\t\n",
    "\tFNAME=\"flag_$ZERO$C\"\n",
    "\t\n",
    "\t((C=$C+1))\n",
    "\t((TRUE=$TRUE+1))\n",
    "done"
   ]
  },
  {
   "attachments": {},
   "cell_type": "markdown",
   "metadata": {},
   "source": [
    "### 77 - Web 50\n",
    "- Accessing the site gave Certificate error request.\n",
    "- Granting a permission did nothing as the page eventually reloaded itself.\n",
    "- Checking the certificate gave the \"Certificate Subject Alt Name\"  \n",
    "    \"DNS Name: 138.247.13.115.xip.io\"\n",
    "- Trying the dns name instead also gave nothing, but a unable to connect error\n",
    "- Putting it in HTTPS, as it has a certificate grants us the flag  \n",
    "    **Flag:** `MCA{shuHeimoowaiF5a}`\n",
    "\n",
    "![Alt text](./solution_77_web_50.png \"a title\")"
   ]
  },
  {
   "attachments": {},
   "cell_type": "markdown",
   "metadata": {},
   "source": [
    "### 81 - Linux 50\n",
    "\n",
    "The task is to break out of an RBASH and find the flag, and trying standard commands resulted in failures where nothing was allowed.\n",
    "\n",
    "After looking for information I found the following presentation.  \n",
    "https://speakerdeck.com/knaps/escape-from-shellcatraz-breaking-out-of-restricted-unix-shells?slide=9\n",
    "\n",
    "Using it I broke out after trying Step 4, by issuing a command prior to establishing a shell  \n",
    "`ssh ctf@138.247.13.108 -t \"bash --noprofile\"`\n",
    "\n",
    "Then finding the flag was harder as the server does not have locate, but it was located in plaintext in the root directory.  \n",
    "```\n",
    "jollyjackson@jollyjackson-laptop:~/Downloads$ ssh ctf@138.247.13.108 -t \"bash --noprofile\"\n",
    "ctf@502b04eba365:~$ cd /root/\n",
    "ctf@502b04eba365:/root$ cat flag.txt \n",
    "MCA{ieHaisoh4eif2ae}\n",
    "ctf@502b04eba365:/root$ \n",
    "```"
   ]
  }
 ],
 "metadata": {
  "language_info": {
   "name": "python"
  },
  "orig_nbformat": 4
 },
 "nbformat": 4,
 "nbformat_minor": 2
}
