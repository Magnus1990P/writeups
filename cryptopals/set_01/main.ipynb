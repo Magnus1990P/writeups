{
 "cells": [
  {
   "attachments": {},
   "cell_type": "markdown",
   "metadata": {},
   "source": [
    "# Crypto Challenge Set 1\n",
    "\n",
    "This is the **qualifying set**. We picked the exercises in it to ramp developers up gradually into coding cryptography, but also to verify that we were working with people who were ready to write code.\n",
    "\n",
    "This set is **relatively easy**. With one exception, most of these exercises should take only a couple minutes. But don't beat yourself up if it takes longer than that. It took Alex two weeks to get through the set!\n",
    "\n",
    "If you've written any crypto code in the past, you're going to feel like skipping a lot of this. **Don't skip them**. At least two of them (we won't say which) are important stepping stones to later attacks.\n",
    "\n",
    "1. Convert hex to base64\n",
    "1. Fixed XOR\n",
    "1. Single-byte XOR cipher\n",
    "1. Detect single-character XOR\n",
    "1. Implement repeating-key XOR\n",
    "1. Break repeating-key XOR\n",
    "1. AES in ECB mode\n",
    "1. Detect AES in ECB mode"
   ]
  },
  {
   "attachments": {},
   "cell_type": "markdown",
   "metadata": {},
   "source": [
    "## 1 - Convert hex to base64\n",
    "\n",
    "String: \"49276d206b696c6c696e6720796f757220627261696e206c696b65206120706f69736f6e6f7573206d757368726f6f6d\"\n",
    "Should produce: SSdtIGtpbGxpbmcgeW91ciBicmFpbiBsaWtlIGEgcG9pc29ub3VzIG11c2hyb29t\n"
   ]
  },
  {
   "cell_type": "code",
   "execution_count": null,
   "metadata": {},
   "outputs": [],
   "source": [
    "import base64\n",
    "ptext_hex = \"0x49276d206b696c6c696e6720796f757220627261696e206c696b65206120706f69736f6e6f7573206d757368726f6f6d\"\n",
    "ptext_bytes = bytes.fromhex(ptext_hex[2:])\n",
    "print( base64.b64encode(ptext_bytes) )"
   ]
  },
  {
   "attachments": {},
   "cell_type": "markdown",
   "metadata": {},
   "source": [
    "## 2 - Fixed XOR\n",
    "Write a function that takes two equal-length buffers and produces their XOR combination.\n",
    "\n",
    "If your function works properly, then when you feed it the string:\n",
    "`1c0111001f010100061a024b53535009181c`\n",
    "\n",
    "... after hex decoding, and when XOR'd against:\n",
    "`686974207468652062756c6c277320657965`\n",
    "\n",
    "... should produce:\n",
    "`746865206b696420646f6e277420706c6179`"
   ]
  },
  {
   "cell_type": "code",
   "execution_count": null,
   "metadata": {},
   "outputs": [],
   "source": [
    "hex_a = 0x1c0111001f010100061a024b53535009181c\n",
    "hex_b = 0x686974207468652062756c6c277320657965\n",
    "def xor(hex_a, hex_b):\n",
    "    hex_c = hex_a ^ hex_b\n",
    "    return hex_c\n",
    "print( hex(xor(hex_a, hex_b)) )"
   ]
  },
  {
   "attachments": {},
   "cell_type": "markdown",
   "metadata": {},
   "source": [
    "## 3 - Single-byte XOR cipher\n",
    "The hex encoded string:\n",
    "`1b37373331363f78151b7f2b783431333d78397828372d363c78373e783a393b3736`\n",
    "... has been XOR'd against a single character. Find the key, decrypt the message.\n",
    "\n",
    "You can do this by hand. But don't: write code to do it for you.\n",
    "\n",
    "How? Devise some method for \"scoring\" a piece of English plaintext. Character frequency is a good metric. Evaluate each output and choose the one with the best score.    "
   ]
  },
  {
   "cell_type": "code",
   "execution_count": null,
   "metadata": {},
   "outputs": [],
   "source": [
    "cbytes = bytes.fromhex(\"1b37373331363f78151b7f2b783431333d78397828372d363c78373e783a393b3736\")\n",
    "print(cbytes.decode(\"ASCII\"))\n",
    "\n",
    "k = {}\n",
    "\n",
    "for char in string.ascii_lowercase+string.ascii_uppercase:\n",
    "    tptext = \"\"\n",
    "    for CB in cbytes:\n",
    "        tptext += chr(CB^ord(char) )\n",
    "    k.update({char:tptext})\n",
    "    print(\"{:<3}{}\".format(char,tptext.replace(\"\\n\",\"+\").replace(\"\\r\",\"+\")))"
   ]
  },
  {
   "attachments": {},
   "cell_type": "markdown",
   "metadata": {},
   "source": [
    "## 4 - Detect single-character XOR\n",
    "One of the 60-character strings in this file has been encrypted by single-character XOR.\n",
    "\n",
    "Find it.\n",
    "\n",
    "(Your code from #3 should help.)"
   ]
  },
  {
   "cell_type": "code",
   "execution_count": null,
   "metadata": {},
   "outputs": [],
   "source": [
    "CCC = string.ascii_lowercase+string.ascii_uppercase+\"0123456789 .-,\"\n",
    "with open(\"4.txt\",\"r\") as fh:\n",
    "    for line in fh.read().strip().split():\n",
    "        cbytes = bytes.fromhex(line)\n",
    "        K = {}\n",
    "        for c in range(0,256):\n",
    "            tptext = \"\".join(chr(CB^c) for CB in cbytes)\n",
    "            K.update({c:tptext})\n",
    "    \n",
    "        for k in K.keys():\n",
    "            K[k] = K[k].replace(\"\\n\",\"\").replace(\"\\r\",\"\")\n",
    "            i = 0\n",
    "            for c in K[k]:\n",
    "                if c not in CCC:\n",
    "                    i += 1\n",
    "            if i < 1:\n",
    "                print(line, cbytes.hex())\n",
    "                print(\"{} {} {}\".format(\" \"*30, k, K[k]))"
   ]
  },
  {
   "attachments": {},
   "cell_type": "markdown",
   "metadata": {},
   "source": [
    "## 5 - Implement repeating-key XOR\n",
    "Here is the opening stanza of an important work of the English language:\n",
    "\n",
    "Burning 'em, if you ain't quick and nimble\n",
    "I go crazy when I hear a cymbal\n",
    "Encrypt it, under the key \"ICE\", using repeating-key XOR.\n",
    "\n",
    "In repeating-key XOR, you'll sequentially apply each byte of the key; the first byte of plaintext will be XOR'd against I, the next C, the next E, then I again for the 4th byte, and so on.\n",
    "\n",
    "It should come out to:\n",
    "- `0b3637272a2b2e63622c2e69692a23693a2a3c6324202d623d63343c2a26226324272765272`\n",
    "- `a282b2f20430a652e2c652a3124333a653e2b2027630c692b20283165286326302e27282f`\n",
    "\n",
    "\n",
    "Encrypt a bunch of stuff using your repeating-key XOR function. Encrypt your mail. Encrypt your password file. Your .sig file. Get a feel for it. I promise, we aren't wasting your time with this."
   ]
  },
  {
   "cell_type": "code",
   "execution_count": null,
   "metadata": {},
   "outputs": [],
   "source": [
    "KEY = \"ICE\".encode(\"ASCII\")\n",
    "\n",
    "PTEXT = \"\"\"Burning 'em, if you ain't quick and nimble\n",
    "I go crazy when I hear a cymbal\"\"\"\n",
    "PTEXT = PTEXT.encode(\"ASCII\")\n",
    "\n",
    "print(PTEXT)\n",
    "print(KEY)\n",
    "\n",
    "def repeat_xor(key, data):\n",
    "    i = 0\n",
    "    out = b\"\"\n",
    "    for PB in data:\n",
    "        out += (PB^key[i%len(key)]).to_bytes(1, \"big\")\n",
    "        i+=1\n",
    "    return out\n",
    "\n",
    "a = repeat_xor(KEY, PTEXT)\n",
    "a.hex()"
   ]
  },
  {
   "attachments": {},
   "cell_type": "markdown",
   "metadata": {},
   "source": [
    "6 - Break repeating-key XOR\n",
    "===\n"
   ]
  },
  {
   "cell_type": "code",
   "execution_count": null,
   "metadata": {},
   "outputs": [],
   "source": [
    "def str2bin(C):\n",
    "    if type(C) is str:\n",
    "        return \"{}{}\".format(\"0\"*(8-len(C)), C)\n",
    "    elif type(C) is bytes:\n",
    "        res = [str2bin(str(bin(c))[2:]) for c in C]\n",
    "        return \"\".join(res)\n",
    "\n",
    "def aXORb(A, B):\n",
    "    C = str(bin(A^B))[2:]\n",
    "    return C\n",
    "\n",
    "def hamming_distance(A, B):\n",
    "    if len(A) != len(B):\n",
    "        return -1\n",
    "    d = 0\n",
    "    for i in range(0, len(A)):\n",
    "        for c in aXORb(A[i],B[i]):\n",
    "            if c==\"1\":\n",
    "                d+=1\n",
    "    return d\n",
    "\n",
    "print(hamming_distance( b\"this is a test\", b\"wokka wokka!!!\" ))\n",
    "print(str2bin(b\"this is a test\"))\n",
    "\n",
    "\n",
    "import base64\n",
    "with open(\"6.txt\",\"r\") as fh:\n",
    "    tmp = fh.read().replace(\"\\n\",\"\")\n",
    "cipher = base64.b64decode(tmp)\n",
    "\n",
    "KEYSIZE_MAX = 40\n",
    "KEYSIZE_MIN = 2\n",
    "\n",
    "K = []\n",
    "K_PROB = [-1, 30*10]\n",
    "\n",
    "for KEYSIZE in range(KEYSIZE_MIN, KEYSIZE_MAX):\n",
    "    hd = hamming_distance( cipher[:KEYSIZE], cipher[KEYSIZE:KEYSIZE*2] )\n",
    "    K.append( [KEYSIZE, hd, hd/KEYSIZE] )\n",
    "\n",
    "min_index = 0\n",
    "for index,k in enumerate(K):\n",
    "    if K[min_index][2] >= k[2]:\n",
    "        min_index = index\n",
    "print(f\"Min keysize {K[min_index][0]} -  {K[min_index][1]} -  {K[min_index][2]}\")\n",
    "ks = K[min_index][0]\n",
    "m = 0\n",
    "cipher_ks = []\n",
    "ki=0\n",
    "print(len(cipher))\n",
    "while ki+ks < len(cipher):\n",
    "    cipher_ks.append( cipher[ki : ki+ks] )\n",
    "    m += 1\n",
    "    ki += ks\n",
    "\n",
    "cipher_blk = []\n",
    "for i in range(ks):\n",
    "    cipher_blk.append( [blk[i] for blk in cipher_ks] )\n",
    "\n",
    "import string\n",
    "alphabet = string.ascii_uppercase+string.ascii_lowercase+string.digits\n",
    "for blk in cipher_blk:\n",
    "    blk_str = \"\".join([chr(b) for b in blk])\n",
    "    print(blk_str)\n",
    "    for a in alphabet:\n",
    "        print(\n",
    "            hamming_distance(\n",
    "                            \"\".join(),\n",
    "                            \"{}\".format(a*len(blk))\n",
    "                        )\n",
    "        )"
   ]
  }
 ],
 "metadata": {
  "kernelspec": {
   "display_name": "Python 3.10.6 64-bit",
   "language": "python",
   "name": "python3"
  },
  "language_info": {
   "codemirror_mode": {
    "name": "ipython",
    "version": 3
   },
   "file_extension": ".py",
   "mimetype": "text/x-python",
   "name": "python",
   "nbconvert_exporter": "python",
   "pygments_lexer": "ipython3",
   "version": "3.10.6"
  },
  "vscode": {
   "interpreter": {
    "hash": "916dbcbb3f70747c44a77c7bcd40155683ae19c65e1c03b4aa3499c5328201f1"
   }
  }
 },
 "nbformat": 4,
 "nbformat_minor": 4
}
