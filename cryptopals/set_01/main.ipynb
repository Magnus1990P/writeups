{
 "cells": [
  {
   "cell_type": "markdown",
   "metadata": {},
   "source": [
    "# Crypto Challenge Set 1\n",
    "\n",
    "This is the **qualifying set**. We picked the exercises in it to ramp developers up gradually into coding cryptography, but also to verify that we were working with people who were ready to write code.\n",
    "\n",
    "This set is **relatively easy**. With one exception, most of these exercises should take only a couple minutes. But don't beat yourself up if it takes longer than that. It took Alex two weeks to get through the set!\n",
    "\n",
    "If you've written any crypto code in the past, you're going to feel like skipping a lot of this. **Don't skip them**. At least two of them (we won't say which) are important stepping stones to later attacks.\n",
    "\n",
    "1. Convert hex to base64\n",
    "1. Fixed XOR\n",
    "1. Single-byte XOR cipher\n",
    "1. Detect single-character XOR\n",
    "1. Implement repeating-key XOR\n",
    "1. Break repeating-key XOR\n",
    "1. AES in ECB mode\n",
    "1. Detect AES in ECB mode"
   ]
  },
  {
   "cell_type": "markdown",
   "metadata": {},
   "source": [
    "## 1 - Convert hex to base64\n",
    "\n",
    "String: \"49276d206b696c6c696e6720796f757220627261696e206c696b65206120706f69736f6e6f7573206d757368726f6f6d\"\n",
    "Should produce: SSdtIGtpbGxpbmcgeW91ciBicmFpbiBsaWtlIGEgcG9pc29ub3VzIG11c2hyb29t\n"
   ]
  },
  {
   "cell_type": "code",
   "execution_count": 17,
   "metadata": {},
   "outputs": [
    {
     "name": "stdout",
     "output_type": "stream",
     "text": [
      "b'SSdtIGtpbGxpbmcgeW91ciBicmFpbiBsaWtlIGEgcG9pc29ub3VzIG11c2hyb29t'\n"
     ]
    }
   ],
   "source": [
    "import base64\n",
    "ptext_hex = \"0x49276d206b696c6c696e6720796f757220627261696e206c696b65206120706f69736f6e6f7573206d757368726f6f6d\"\n",
    "ptext_bytes = bytes.fromhex(ptext_hex[2:])\n",
    "print( base64.b64encode(ptext_bytes) )"
   ]
  },
  {
   "cell_type": "markdown",
   "metadata": {},
   "source": [
    "## 2 - Fixed XOR\n",
    "Write a function that takes two equal-length buffers and produces their XOR combination.\n",
    "\n",
    "If your function works properly, then when you feed it the string:\n",
    "`1c0111001f010100061a024b53535009181c`\n",
    "\n",
    "... after hex decoding, and when XOR'd against:\n",
    "`686974207468652062756c6c277320657965`\n",
    "\n",
    "... should produce:\n",
    "`746865206b696420646f6e277420706c6179`"
   ]
  },
  {
   "cell_type": "code",
   "execution_count": 44,
   "metadata": {},
   "outputs": [
    {
     "name": "stdout",
     "output_type": "stream",
     "text": [
      "0x746865206b696420646f6e277420706c6179\n"
     ]
    }
   ],
   "source": [
    "hex_a = 0x1c0111001f010100061a024b53535009181c\n",
    "hex_b = 0x686974207468652062756c6c277320657965\n",
    "\n",
    "def xor(hex_a, hex_b):\n",
    "    hex_c = hex_a ^ hex_b\n",
    "    return hex_c\n",
    "\n",
    "print( hex(xor(hex_a, hex_b)) )"
   ]
  },
  {
   "cell_type": "markdown",
   "metadata": {},
   "source": [
    "## 3 - Single-byte XOR cipher\n",
    "The hex encoded string:\n",
    "`1b37373331363f78151b7f2b783431333d78397828372d363c78373e783a393b3736`\n",
    "... has been XOR'd against a single character. Find the key, decrypt the message.\n",
    "\n",
    "You can do this by hand. But don't: write code to do it for you.\n",
    "\n",
    "How? Devise some method for \"scoring\" a piece of English plaintext. Character frequency is a good metric. Evaluate each output and choose the one with the best score.    "
   ]
  },
  {
   "cell_type": "code",
   "execution_count": 144,
   "metadata": {},
   "outputs": [
    {
     "name": "stdout",
     "output_type": "stream",
     "text": [
      "\u001b77316?x\u0015\u001b+x413=x9x(7-6<x7>x:9;76\n",
      "a  zVVRPW^\u0019tz\u001e\n",
      "J\u0019UPR\\\u0019X\u0019IVLW]\u0019V_\u0019[XZVW\n",
      "b  yUUQST]\u001awy\u001d\n",
      "I\u001aVSQ_\u001a[\u001aJUOT^\u001aU\\\u001aX[YUT\n",
      "c  xTTPRU\\\u001bvx\u001c\n",
      "H\u001bWRP^\u001bZ\u001bKTNU_\u001bT]\u001bYZXTU\n",
      "d  SSWUR[\u001c\n",
      "q\u001bO\u001c\n",
      "PUWY\u001c\n",
      "]\u001c\n",
      "LSIRX\u001c\n",
      "SZ\u001c\n",
      "^]_SR\n",
      "e  ~RRVTSZ\u001d\n",
      "p~\u001aN\u001d\n",
      "QTVX\u001d\n",
      "\\\u001d\n",
      "MRHSY\u001d\n",
      "R[\u001d\n",
      "_\\^RS\n",
      "f  }QQUWPY\u001e\n",
      "s}\u0019M\u001e\n",
      "RWU[\u001e\n",
      "_\u001e\n",
      "NQKPZ\u001e\n",
      "QX\u001e\n",
      "\\_]QP\n",
      "g  |PPTVQX\u001fr|\u0018L\u001fSVTZ\u001f^\u001fOPJQ[\u001fPY\u001f]^\\PQ\n",
      "h  s__[Y^W\u0010}s\u0017C\u0010\\Y[U\u0010Q\u0010@_E^T\u0010_V\u0010RQS_^\n",
      "i  r^^ZX_V\u0011|r\u0016B\u0011]XZT\u0011P\u0011A^D_U\u0011^W\u0011SPR^_\n",
      "j  q]]Y[\\U\u0012q\u0015A\u0012^[YW\u0012S\u0012B]G\\V\u0012]T\u0012PSQ]\\\n",
      "k  p\\\\XZ]T\u0013~p\u0014@\u0013_ZXV\u0013R\u0013C\\F]W\u0013\\U\u0013QRP\\]\n",
      "l  w[[_]ZS\u0014yw\u0013G\u0014X]_Q\u0014U\u0014D[AZP\u0014[R\u0014VUW[Z\n",
      "m  vZZ^\\[R\u0015xv\u0012F\u0015Y\\^P\u0015T\u0015EZ@[Q\u0015ZS\u0015WTVZ[\n",
      "n  uYY]_XQ\u0016{u\u0011E\u0016Z_]S\u0016W\u0016FYCXR\u0016YP\u0016TWUYX\n",
      "o  tXX\\^YP\u0017zt\u0010D\u0017[^\\R\u0017V\u0017GXBYS\u0017XQ\u0017UVTXY\n",
      "p  kGGCAFek\u000fDACXG]FGJIKGF\n",
      "q  jFFB@GN\tdj\u000eZ\tE@BL\tH\tYF\\GM\tFO\tKHJFG\n",
      "r  iEEACDM+gi+Y+FCAO+K+ZE_DN+EL+HKIED\n",
      "s  hDD@BEL\u000b\n",
      "fh\f\n",
      "X\u000b\n",
      "GB@N\u000b\n",
      "J\u000b\n",
      "[D^EO\u000b\n",
      "DM\u000b\n",
      "IJHDE\n",
      "t  oCCGEBK\f\n",
      "ao\u000b\n",
      "_\f\n",
      "@EGI\f\n",
      "M\f\n",
      "\\CYBH\f\n",
      "CJ\f\n",
      "NMOCB\n",
      "u  nBBFDCJ+`n+^+ADFH+L+]BXCI+BK+OLNBC\n",
      "v  mAAEG@I\u000ecm\t]\u000eBGEK\u000eO\u000e^A[@J\u000eAH\u000eLOMA@\n",
      "w  l@@DFAH\u000fb\\\u000fCFDJ\u000fN\u000f_@ZAK\u000f@I\u000fMNL@A\n",
      "x  cOOKING\u0000mc\u0007S\u0000LIKE\u0000A\u0000POUND\u0000OF\u0000BACON\n",
      "y  bNNJHOF\u0001lb\u0006R\u0001MHJD\u0001@\u0001QNTOE\u0001NG\u0001C@BNO\n",
      "z  aMMIKLE\u0002oa\u0005Q\u0002NKIG\u0002C\u0002RMWLF\u0002MD\u0002@CAML\n",
      "A  Zvvrpw~9TZ>j9upr|9x9ivlw}9v9{xzvw\n",
      "B  Yuuqst}:WY=i:vsq:{:juot~:u|:x{yut\n",
      "C  Xttpru|;VX<h;wrp~;z;ktnu;t};yzxtu\n",
      "D  _sswur{<Q_;o<puwy<}<lsirx<sz<~}sr\n",
      "E  ^rrvtsz=P^:n=qtvx=|=mrhsy=r{=|~rs\n",
      "F  ]qquwpy>S]9m>rwu{>>nqkpz>qx>|}qp\n",
      "G  \\pptvqx?R\\8l?svtz?~?opjq{?py?}~|pq\n",
      "H  S{y~w0]S7c0|y{u0q0`e~t0v0rqs~\n",
      "I  R~~zxv1\\R6b1}xzt1p1a~du1~w1spr~\n",
      "J  Q}}y{|u2_Q5a2~{yw2s2b}g|v2}t2psq}|\n",
      "K  P||xz}t3^P4`3zxv3r3c|f}w3|u3qrp|}\n",
      "L  W{{}zs4YW3g4x}q4u4d{azp4{r4vuw{z\n",
      "M  Vzz~|{r5XV2f5y|~p5t5ez`{q5zs5wtvz{\n",
      "N  Uyy}xq6[U1e6z}s6w6fycxr6yp6twuyx\n",
      "O  Txx|~yp7ZT0d7{~|r7v7gxbys7xq7uvtxy\n",
      "P  Kggcafo(EK/{(dacm(i(xg}fl(gn(jikgf\n",
      "Q  Jffb`gn)DJ.z)e`bl)h)yf|gm)fo)khjfg\n",
      "R  Ieeacdm*GI-y*fcao*k*zedn*el*hkied\n",
      "S  Hdd`bel+FH,x+gb`n+j+{d~eo+dm+ijhde\n",
      "T  Occgebk,AO+,`egi,m,|cybh,cj,nmocb\n",
      "U  Nbbfdcj-@N*~-adfh-l-}bxci-bk-olnbc\n",
      "V  Maaeg`i.CM)}.bgek.o.~a{`j.ah.loma`\n",
      "W  L``dfah/BL(|/cfdj/n/`zak/`i/mnl`a\n",
      "X  Cooking MC's like a pound of bacon\n",
      "Y  Bnnjhof!LB&r!mhjd!`!qntoe!ng!c`bno\n",
      "Z  Ammikle\"OA%q\"nkig\"c\"rmwlf\"md\"`caml\n"
     ]
    }
   ],
   "source": [
    "cbytes = bytes.fromhex(\"1b37373331363f78151b7f2b783431333d78397828372d363c78373e783a393b3736\")\n",
    "print(cbytes.decode(\"ASCII\"))\n",
    "\n",
    "k = {}\n",
    "\n",
    "for char in string.ascii_lowercase+string.ascii_uppercase:\n",
    "    tptext = \"\"\n",
    "    for CB in cbytes:\n",
    "        tptext += chr(CB^ord(char) )\n",
    "    k.update({char:tptext})\n",
    "    print(\"{:<3}{}\".format(char,tptext.replace(\"\\n\",\"+\").replace(\"\\r\",\"+\")))"
   ]
  },
  {
   "cell_type": "markdown",
   "metadata": {},
   "source": [
    "## 4 - Detect single-character XOR\n",
    "One of the 60-character strings in this file has been encrypted by single-character XOR.\n",
    "\n",
    "Find it.\n",
    "\n",
    "(Your code from #3 should help.)"
   ]
  },
  {
   "cell_type": "code",
   "execution_count": 176,
   "metadata": {},
   "outputs": [
    {
     "name": "stdout",
     "output_type": "stream",
     "text": [
      "7b5a4215415d544115415d5015455447414c155c46155f4058455c5b523f 7b5a4215415d544115415d5015455447414c155c46155f4058455c5b523f\n",
      "                               53 Now that the party is jumping\n"
     ]
    }
   ],
   "source": [
    "CCC = string.ascii_lowercase+string.ascii_uppercase+\"0123456789 .-,\"\n",
    "with open(\"4.txt\",\"r\") as fh:\n",
    "    for line in fh.read().strip().split():\n",
    "        cbytes = bytes.fromhex(line)\n",
    "        K = {}\n",
    "        for c in range(0,256):\n",
    "            tptext = \"\"\n",
    "            for CB in cbytes:\n",
    "                tptext += chr(CB^c)\n",
    "            K.update({c:tptext})\n",
    "    \n",
    "        for k in K.keys():\n",
    "            K[k] = K[k].replace(\"\\n\",\"\").replace(\"\\r\",\"\")\n",
    "            i = 0\n",
    "            for c in K[k]:\n",
    "                if c not in CCC:\n",
    "                    i += 1\n",
    "            if i < 1:\n",
    "                print(line, cbytes.hex())\n",
    "                print(\"{} {} {}\".format(\" \"*30, k, K[k]))\n",
    "            \n",
    "        \n",
    "        \n",
    "        \n"
   ]
  },
  {
   "cell_type": "markdown",
   "metadata": {},
   "source": [
    "## 5 - Implement repeating-key XOR\n",
    "Here is the opening stanza of an important work of the English language:\n",
    "\n",
    "Burning 'em, if you ain't quick and nimble\n",
    "I go crazy when I hear a cymbal\n",
    "Encrypt it, under the key \"ICE\", using repeating-key XOR.\n",
    "\n",
    "In repeating-key XOR, you'll sequentially apply each byte of the key; the first byte of plaintext will be XOR'd against I, the next C, the next E, then I again for the 4th byte, and so on.\n",
    "\n",
    "It should come out to:\n",
    "- `0b3637272a2b2e63622c2e69692a23693a2a3c6324202d623d63343c2a26226324272765272`\n",
    "- `a282b2f20430a652e2c652a3124333a653e2b2027630c692b20283165286326302e27282f`\n",
    "\n",
    "\n",
    "Encrypt a bunch of stuff using your repeating-key XOR function. Encrypt your mail. Encrypt your password file. Your .sig file. Get a feel for it. I promise, we aren't wasting your time with this."
   ]
  },
  {
   "cell_type": "code",
   "execution_count": 204,
   "metadata": {},
   "outputs": [
    {
     "name": "stdout",
     "output_type": "stream",
     "text": [
      "b\"Burning 'em, if you ain't quick and nimble\\nI go crazy when I hear a cymbal\"\n",
      "b'ICE'\n"
     ]
    },
    {
     "data": {
      "text/plain": [
       "'0b3637272a2b2e63622c2e69692a23693a2a3c6324202d623d63343c2a26226324272765272a282b2f20430a652e2c652a3124333a653e2b2027630c692b20283165286326302e27282f'"
      ]
     },
     "execution_count": 204,
     "metadata": {},
     "output_type": "execute_result"
    }
   ],
   "source": [
    "KEY = \"ICE\".encode(\"ASCII\")\n",
    "\n",
    "PTEXT = \"\"\"Burning 'em, if you ain't quick and nimble\n",
    "I go crazy when I hear a cymbal\"\"\"\n",
    "PTEXT = PTEXT.encode(\"ASCII\")\n",
    "\n",
    "print(PTEXT)\n",
    "print(KEY)\n",
    "\n",
    "def repeat_xor(key, data):\n",
    "    i = 0\n",
    "    out = b\"\"\n",
    "    for PB in data:\n",
    "        out += (PB^key[i%len(key)]).to_bytes(1, \"big\")\n",
    "        i+=1\n",
    "    return out\n",
    "\n",
    "a = repeat_xor(KEY, PTEXT)\n",
    "a.hex()\n",
    "\n"
   ]
  },
  {
   "cell_type": "markdown",
   "metadata": {},
   "source": [
    "6 - Break repeating-key XOR\n",
    "===\n"
   ]
  },
  {
   "cell_type": "code",
   "execution_count": 58,
   "metadata": {},
   "outputs": [
    {
     "name": "stdout",
     "output_type": "stream",
     "text": [
      "37\n",
      "0111010001101000011010010111001100100000011010010111001100100000011000010010000001110100011001010111001101110100\n",
      "Min keysize 5 -  6 -  1.2\n",
      "2876\n",
      "\u000e\u000b\u0007N\u000b\u0000\u001fM\u000eAGOB\f\u0006*Y\u00071:\u001a\u001d\u0001A1\u0006\u000bI\u001b\u0007NT\u0019\u0016i\u0002\u0007\u0001\u0002\u001b6TN;\u000f\u0000\u001cTO\f\u000e=I\n",
      "\u0016\u0000\u00000\u001ab R\u0011N\u0006\u000b\u0017\u001deGJAE\u0010\u0013.Ndt\u0003AR\u0000\n",
      "\t\t0I\u0006\u0002\u0007\u0010_\u001dES@OM\n",
      "!\u001aY\u0017\u001bANCR\u0011\u000e1\u0006\u001b\u0004\u0017\u0000\u001aN\u0006\u0016M\u001bAG\u0001\u0017HL=:=N6\u0015\u0007\u0016\u00056\u0006\u0006I\u00136UNE\u001dM\u0002Y(A\u0013\u0019\u001b#P\n",
      "A6\u001b\u0007\n",
      "\u001d\u0011\u001a\u001d\n",
      ";\u0019\u0018\u0004\u001b\u0015SN!'W\u000f;\u0001NR\u001deE\n",
      "A,\u0006O\u001a\u0017\u0013MS\u0005?SmP\u0016\u001b\u0019\u0005N\u00075\u0006\u0013\u0001\u001a\u001b\n",
      "T\u0013\u001c\u0001\n",
      "k=\u0006\u0018I\u001b=O\u000bB\u001d\f\u000e\u0000\u000fN\u0002\u0000R6y\u001c0\u0001AR\u0013\u00070\u0000\u0007\u0019\u001cT\u001a\u0001\u0004KM\u0006y@S\u001cI\u00075t\u000f\u0000\u0006\u001d\u0000\n",
      "A1\u0006\u0007I\u001c\u0018\u001a\n",
      "E\u0012\tH\u0000mS\u0000\u0000\u0017bc\u0001:\u0002d+\u0011\fE\u0015xIH\f\u0017\u0000\u001a\u0006\u0011:\t\n",
      "G\u000eO=E\u001fI\u0015\u0018RS\u0005\u0010\u0011B\u001cM/I\u001d\u001c\u0006=\u001aBI\u001dN\u0000\n",
      "\u0010\u001cbI\n",
      "-\u001aK\u0001\u001d\u0000\u00001,\u000fH\n",
      "\u0017T\u001a\u0002\u0000\u0001\f\u000eN\u0012WE\u0010\u0013n\u0000>\u0000\u0011\u001dO\u0000\u0016\u0006\u001cR\u0011\u001aN&\u001c\u0002\u0001A\u0006N\u0010\n"
     ]
    },
    {
     "ename": "TypeError",
     "evalue": "str.join() takes exactly one argument (0 given)",
     "output_type": "error",
     "traceback": [
      "\u001b[0;31m---------------------------------------------------------------------------\u001b[0m",
      "\u001b[0;31mTypeError\u001b[0m                                 Traceback (most recent call last)",
      "Cell \u001b[0;32mIn [58], line 68\u001b[0m\n\u001b[1;32m     64\u001b[0m \u001b[39mprint\u001b[39m(blk_str)\n\u001b[1;32m     65\u001b[0m \u001b[39mfor\u001b[39;00m a \u001b[39min\u001b[39;00m alphabet:\n\u001b[1;32m     66\u001b[0m     \u001b[39mprint\u001b[39m(\n\u001b[1;32m     67\u001b[0m         hamming_distance(\n\u001b[0;32m---> 68\u001b[0m                         \u001b[39m\"\u001b[39m\u001b[39m\"\u001b[39m\u001b[39m.\u001b[39mjoin(),\n\u001b[1;32m     69\u001b[0m                         \u001b[39m\"\u001b[39m\u001b[39m{}\u001b[39;00m\u001b[39m\"\u001b[39m\u001b[39m.\u001b[39mformat(a\u001b[39m*\u001b[39m\u001b[39mlen\u001b[39m(blk))\n\u001b[1;32m     70\u001b[0m                     )\n\u001b[1;32m     71\u001b[0m     )\n",
      "\u001b[0;31mTypeError\u001b[0m: str.join() takes exactly one argument (0 given)"
     ]
    }
   ],
   "source": [
    "def str2bin(C):\n",
    "    if type(C) is str:\n",
    "        return \"{}{}\".format(\"0\"*(8-len(C)), C)\n",
    "    elif type(C) is bytes:\n",
    "        res = [str2bin(str(bin(c))[2:]) for c in C]\n",
    "        return \"\".join(res)\n",
    "\n",
    "def aXORb(A, B):\n",
    "    C = str(bin(A^B))[2:]\n",
    "    return C\n",
    "\n",
    "def hamming_distance(A, B):\n",
    "    if len(A) != len(B):\n",
    "        return -1\n",
    "    d = 0\n",
    "    for i in range(0, len(A)):\n",
    "        for c in aXORb(A[i],B[i]):\n",
    "            if c==\"1\":\n",
    "                d+=1\n",
    "    return d\n",
    "\n",
    "print(hamming_distance( b\"this is a test\", b\"wokka wokka!!!\" ))\n",
    "print(str2bin(b\"this is a test\"))\n",
    "\n",
    "\n",
    "import base64\n",
    "with open(\"6.txt\",\"r\") as fh:\n",
    "    tmp = fh.read().replace(\"\\n\",\"\")\n",
    "cipher = base64.b64decode(tmp)\n",
    "\n",
    "KEYSIZE_MAX = 40\n",
    "KEYSIZE_MIN = 2\n",
    "\n",
    "K = []\n",
    "K_PROB = [-1, 30*10]\n",
    "\n",
    "for KEYSIZE in range(KEYSIZE_MIN, KEYSIZE_MAX):\n",
    "    hd = hamming_distance( cipher[:KEYSIZE], cipher[KEYSIZE:KEYSIZE*2] )\n",
    "    K.append( [KEYSIZE, hd, hd/KEYSIZE] )\n",
    "\n",
    "min_index = 0\n",
    "for index,k in enumerate(K):\n",
    "    if K[min_index][2] >= k[2]:\n",
    "        min_index = index\n",
    "print(f\"Min keysize {K[min_index][0]} -  {K[min_index][1]} -  {K[min_index][2]}\")\n",
    "ks = K[min_index][0]\n",
    "m = 0\n",
    "cipher_ks = []\n",
    "ki=0\n",
    "print(len(cipher))\n",
    "while ki+ks < len(cipher):\n",
    "    cipher_ks.append( cipher[ki : ki+ks] )\n",
    "    m += 1\n",
    "    ki += ks\n",
    "\n",
    "cipher_blk = []\n",
    "for i in range(ks):\n",
    "    cipher_blk.append( [blk[i] for blk in cipher_ks] )\n",
    "\n",
    "import string\n",
    "alphabet = string.ascii_uppercase+string.ascii_lowercase+string.digits\n",
    "for blk in cipher_blk:\n",
    "    blk_str = \"\".join([chr(b) for b in blk])\n",
    "    print(blk_str)\n",
    "    for a in alphabet:\n",
    "        print(\n",
    "            hamming_distance(\n",
    "                            \"\".join(),\n",
    "                            \"{}\".format(a*len(blk))\n",
    "                        )\n",
    "        )\n",
    "\n"
   ]
  }
 ],
 "metadata": {
  "kernelspec": {
   "display_name": "Python 3.10.6 64-bit",
   "language": "python",
   "name": "python3"
  },
  "language_info": {
   "codemirror_mode": {
    "name": "ipython",
    "version": 3
   },
   "file_extension": ".py",
   "mimetype": "text/x-python",
   "name": "python",
   "nbconvert_exporter": "python",
   "pygments_lexer": "ipython3",
   "version": "3.10.6"
  },
  "vscode": {
   "interpreter": {
    "hash": "916dbcbb3f70747c44a77c7bcd40155683ae19c65e1c03b4aa3499c5328201f1"
   }
  }
 },
 "nbformat": 4,
 "nbformat_minor": 4
}
