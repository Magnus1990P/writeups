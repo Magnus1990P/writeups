{
 "cells": [
  {
   "cell_type": "code",
   "execution_count": 41,
   "metadata": {},
   "outputs": [
    {
     "name": "stdout",
     "output_type": "stream",
     "text": [
      "170: 248^170=82 => R == key: 0xaa\n",
      "160: 243^160=83 => S == key: 0xa0\n",
      "145: 201^145=88 => X == key: 0x91\n",
      "158: 221^158=67 => C == key: 0x9e\n",
      "148: 239^148=123 => { == key: 0x94\n",
      "128: 239^128=81 => Q == key: 0x80\n",
      "129: 239^129=80 => P == key: 0x81\n",
      "130: 239^130=83 => S == key: 0x82\n",
      "131: 239^131=82 => R == key: 0x83\n",
      "132: 239^132=85 => U == key: 0x84\n",
      "133: 239^133=84 => T == key: 0x85\n",
      "134: 239^134=87 => W == key: 0x86\n",
      "135: 239^135=86 => V == key: 0x87\n",
      "136: 239^136=89 => Y == key: 0x88\n",
      "137: 239^137=88 => X == key: 0x89\n",
      "139: 239^139=90 => Z == key: 0x8b\n",
      "142: 239^142=95 => _ == key: 0x8e\n",
      "144: 239^144=65 => A == key: 0x90\n",
      "146: 239^146=67 => C == key: 0x92\n",
      "147: 239^147=66 => B == key: 0x93\n",
      "148: 239^148=69 => E == key: 0x94\n",
      "149: 239^149=68 => D == key: 0x95\n",
      "150: 239^150=71 => G == key: 0x96\n",
      "151: 239^151=70 => F == key: 0x97\n",
      "152: 239^152=73 => I == key: 0x98\n",
      "153: 239^153=72 => H == key: 0x99\n",
      "154: 239^154=75 => K == key: 0x9a\n",
      "155: 239^155=74 => J == key: 0x9b\n",
      "156: 239^156=77 => M == key: 0x9c\n",
      "157: 239^157=76 => L == key: 0x9d\n",
      "158: 239^158=79 => O == key: 0x9e\n",
      "159: 239^159=78 => N == key: 0x9f\n",
      "170: 239^170=123 => { == key: 0xaa\n",
      "172: 239^172=125 => } == key: 0xac\n",
      "252: 239^252=45 => - == key: 0xfc\n"
     ]
    }
   ],
   "source": [
    "import string\n",
    "cipher = \"f8f3c9ddefd1f5c8feeef1c7dec8f8edcbefc3ccfdc1f6fdf5d3f0f8f1c7cbcef5c1fafddcc5e3c1f6fdf5ccf4fffffdce81b0bfb5e5\"\n",
    "cipher_list = []\n",
    "for i in range(0,len(cipher),2):\n",
    "    cipher_list.append(int(cipher[i:i+2],16))\n",
    "\n",
    "key = [170,160,145,158,148]\n",
    "\n",
    "alpha = string.ascii_uppercase+\"-_{}\"\n",
    "\n",
    "for i,k in enumerate(key):\n",
    "    p = cipher_list[i] ^ k\n",
    "    print(f\"{k}: {cipher_list[i]}^{k}={p} => {chr(p)} == key: {hex(k)}\")\n",
    "\n",
    "for k in range(0x100):\n",
    "    p = cipher_list[len(key)] ^ k\n",
    "    if chr(p) in alpha:\n",
    "        print(f\"{k}: {cipher_list[i]}^{k}={p} => {chr(p)} == key: {hex(k)}\")\n"
   ]
  }
 ],
 "metadata": {
  "kernelspec": {
   "display_name": "Python 3",
   "language": "python",
   "name": "python3"
  },
  "language_info": {
   "codemirror_mode": {
    "name": "ipython",
    "version": 3
   },
   "file_extension": ".py",
   "mimetype": "text/x-python",
   "name": "python",
   "nbconvert_exporter": "python",
   "pygments_lexer": "ipython3",
   "version": "3.11.2"
  },
  "orig_nbformat": 4
 },
 "nbformat": 4,
 "nbformat_minor": 2
}
