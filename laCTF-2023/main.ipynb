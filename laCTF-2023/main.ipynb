{
 "cells": [
  {
   "attachments": {},
   "cell_type": "markdown",
   "metadata": {},
   "source": [
    "## web/college-tour\n",
    "Scavenger hunt.\n",
    "\n",
    "### Flag parts\n",
    "1. A comment in the index site. `<!-- lactf{1_j03_4}-->`\n",
    "2. Source code of index site. The `alt` attribute of the image element - `lactf{2_nd_j0}`\n",
    "3. Hidden in the CSS file. `lactf{3_S3phI}`\n",
    "4. Source code of index site. The `src` attribute of the iframe with PDF - `lactf{4_n3_bR}.pdf`\n",
    "5. Stored as a cookie, and hardcoded in the JS. `lactf{5_U1n_s}`\n",
    "6. Hidden mode of JS darkmode function. Revealed in JS or by running the JS darkmode function. `lactf{6_AY_hi}`\n",
    "\n",
    "Combined `lactf{j03_4nd_j0S3phIn3_bRU1n_sAY_hi}`"
   ]
  },
  {
   "cell_type": "code",
   "execution_count": null,
   "metadata": {},
   "outputs": [],
   "source": [
    "from itertools import cycle\n",
    "pt = b\"Long ago, the four nations lived together in harmony ...\"\n",
    "\n",
    "#key = cycle(b\"lactf{??????????????}\")\n",
    "key = cycle(b\"lactf{AABBCCDDEEFFGG}\")\n",
    "\n",
    "ct = \"\"\n",
    "for i in range(len(pt)):\n",
    "    b = (pt[i] ^ next(key))\n",
    "    ct += f'{b:02x}'\n",
    "\n",
    "ct = \"200e0d13461a055b4e592b0054543902462d1000042b045f1c407f18581b56194c150c13030f0a5110593606111c3e1f5e305e174571431e\"\n",
    "print(\"ct =\", ct)\n",
    "ptt = \"\"\n",
    "from string import ascii_lowercase, ascii_uppercase\n",
    "for letter in ascii_uppercase+ascii_lowercase:\n",
    "    key = cycle(b\"lactf{bkleffefe}\")\n",
    "    for i in range(0,len(ct),2):\n",
    "        a = ct[i:i+2]\n",
    "        a_int = int(a, 16)\n",
    "        k = next(key)\n",
    "        b = (a_int ^ k)\n",
    "        ptt += chr(b)\n",
    "    print(f\"ptt() =\", ptt)\n",
    "    print()"
   ]
  },
  {
   "cell_type": "code",
   "execution_count": null,
   "metadata": {},
   "outputs": [],
   "source": [
    "jsconv = \"\"\n",
    "a = []\n",
    "with open(\"caterpillar.js\", \"r\") as js:\n",
    "    for line in js:\n",
    "        if \"-~\" not in line:\n",
    "            jsconv+=line\n",
    "            continue\n",
    "        c = -1\n",
    "        text = line[line.find(\"-~\"):]\n",
    "        while text[:2] == \"-~\":\n",
    "            c+=1\n",
    "            text = text[2:]\n",
    "        d = -1\n",
    "        text = text[text.find(\"-~\"):]\n",
    "        while text[:2] == \"-~\":\n",
    "            d+=1\n",
    "            text = text[2:]\n",
    "        a.append([c,d])\n",
    "flag = list(\"lactf{XXXXXXXXXXXXXXXXXXXXXXXXXXXXXXXXXXXXXXXXXXXXXXXX}\")\n",
    "for findex in range(len(flag)):\n",
    "    for aa in a:\n",
    "        if findex not in aa:\n",
    "            continue\n",
    "        b = aa[1] if aa[0] == findex else aa[0]\n",
    "        flag[b%len(flag)] = flag[findex]\n",
    "print(\"\".join(flag))"
   ]
  }
 ],
 "metadata": {
  "kernelspec": {
   "display_name": "Python 3",
   "language": "python",
   "name": "python3"
  },
  "language_info": {
   "codemirror_mode": {
    "name": "ipython",
    "version": 3
   },
   "file_extension": ".py",
   "mimetype": "text/x-python",
   "name": "python",
   "nbconvert_exporter": "python",
   "pygments_lexer": "ipython3",
   "version": "3.10.6"
  },
  "orig_nbformat": 4,
  "vscode": {
   "interpreter": {
    "hash": "c261aea317cc0286b3b3261fbba9abdec21eaa57589985bb7a274bf54d6cc0a7"
   }
  }
 },
 "nbformat": 4,
 "nbformat_minor": 2
}
