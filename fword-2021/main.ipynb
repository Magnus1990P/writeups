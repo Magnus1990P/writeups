{
 "cells": [
  {
   "cell_type": "markdown",
   "metadata": {},
   "source": [
    "# 2021 - FWord CTF\n",
    "\n",
    "## Info\n",
    "- URL: [https://ctf.fword.tech/]\n",
    "- Uname: HackITGuys\n",
    "- Email: [locofim425@mnqlm.com]\n",
    "- Pword: 0x80Hack:)\n",
    "- Team name: HackITGuys\n",
    "- Team pword: 0x80Hack:)\n",
    "- API key: 248bf87979d04d4496cfb66e2b39ca2c508c5503cacf902539e258f7a8f0b8a0\n"
   ]
  },
  {
   "cell_type": "code",
   "execution_count": null,
   "metadata": {},
   "outputs": [],
   "source": []
  }
 ],
 "metadata": {
  "kernelspec": {
   "display_name": "Python 3",
   "language": "python",
   "name": "python3"
  },
  "language_info": {
   "codemirror_mode": {
    "name": "ipython",
    "version": 3
   },
   "file_extension": ".py",
   "mimetype": "text/x-python",
   "name": "python",
   "nbconvert_exporter": "python",
   "pygments_lexer": "ipython3",
   "version": "3.8.5"
  }
 },
 "nbformat": 4,
 "nbformat_minor": 4
}
