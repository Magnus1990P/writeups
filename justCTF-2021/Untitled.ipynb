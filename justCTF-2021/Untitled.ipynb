{
 "cells": [
  {
   "cell_type": "markdown",
   "metadata": {},
   "source": [
    "## Read file"
   ]
  },
  {
   "cell_type": "code",
   "execution_count": 19,
   "metadata": {},
   "outputs": [],
   "source": [
    "pdf_raw = None\n",
    "with open(\"challenge.pdf\", \"rb\") as data:\n",
    "    pdf_raw = data.read().strip()\n"
   ]
  },
  {
   "cell_type": "markdown",
   "metadata": {},
   "source": [
    "##  convert PDF to serialized JSON object\n",
    "\n",
    "Fileformat documentation for PDF v1.5\n",
    "https://docs.fileformat.com/pdf/"
   ]
  },
  {
   "cell_type": "code",
   "execution_count": 73,
   "metadata": {},
   "outputs": [
    {
     "name": "stdout",
     "output_type": "stream",
     "text": [
      "b'%PDF-1.5\\n%\\xd0\\xd4\\xc5\\xd8\\n% `file` sometimes lies\\n% and `readelf -p .note` might be useful later\\n9999'\n",
      "################################################################################\n",
      "1824\n",
      "1724\n",
      "\n",
      "\t b'/Length'  -  b'1680'\n",
      "\t b'/Length'  -  1680\n",
      "\n",
      "################################################################################\n",
      "3541\n",
      "1708\n",
      "\n",
      "\t b'/Length'  -  b'1637'\n",
      "\t b'/Length'  -  1637\n",
      "\n",
      "\t b'/Filter'  -  b'/FlateDecode'\n",
      "\t b'/Filter'  -  b'/FlateDecode'\n",
      "\n",
      "################################################################################\n",
      "3660\n",
      "111\n",
      "\n",
      "\t b'/Type'  -  b'/Page'\n",
      "\t b'/Type'  -  b'/Page'\n",
      "\n",
      "\t b'/Contents'  -  b'10 0 R'\n"
     ]
    },
    {
     "ename": "AttributeError",
     "evalue": "'bytes' object has no attribute 'isinteger'",
     "output_type": "error",
     "traceback": [
      "\u001b[1;31m---------------------------------------------------------------------------\u001b[0m",
      "\u001b[1;31mAttributeError\u001b[0m                            Traceback (most recent call last)",
      "\u001b[1;32m<ipython-input-73-15c8cf501b3a>\u001b[0m in \u001b[0;36m<module>\u001b[1;34m\u001b[0m\n\u001b[0;32m     98\u001b[0m     \u001b[0mprint\u001b[0m\u001b[1;33m(\u001b[0m\u001b[1;34m\"#\"\u001b[0m\u001b[1;33m*\u001b[0m\u001b[1;36m80\u001b[0m\u001b[1;33m)\u001b[0m\u001b[1;33m\u001b[0m\u001b[1;33m\u001b[0m\u001b[0m\n\u001b[0;32m     99\u001b[0m \u001b[1;33m\u001b[0m\u001b[0m\n\u001b[1;32m--> 100\u001b[1;33m     \u001b[0mpdf_object\u001b[0m \u001b[1;33m=\u001b[0m \u001b[0mparse_pdf_element_struct\u001b[0m\u001b[1;33m(\u001b[0m \u001b[0mpdf_raw_element\u001b[0m\u001b[1;33m,\u001b[0m \u001b[0mpdf_search_index\u001b[0m \u001b[1;33m)\u001b[0m\u001b[1;33m\u001b[0m\u001b[1;33m\u001b[0m\u001b[0m\n\u001b[0m\u001b[0;32m    101\u001b[0m     \u001b[0mx\u001b[0m\u001b[1;33m+=\u001b[0m\u001b[1;36m1\u001b[0m\u001b[1;33m\u001b[0m\u001b[1;33m\u001b[0m\u001b[0m\n\u001b[0;32m    102\u001b[0m     \u001b[1;32mif\u001b[0m \u001b[0mx\u001b[0m \u001b[1;33m>\u001b[0m \u001b[1;36m2\u001b[0m\u001b[1;33m:\u001b[0m\u001b[1;33m\u001b[0m\u001b[1;33m\u001b[0m\u001b[0m\n",
      "\u001b[1;32m<ipython-input-73-15c8cf501b3a>\u001b[0m in \u001b[0;36mparse_pdf_element_struct\u001b[1;34m(pdf_raw_element, pdf_search_index)\u001b[0m\n\u001b[0;32m     81\u001b[0m     \u001b[0mhead\u001b[0m \u001b[1;33m=\u001b[0m \u001b[1;33m{\u001b[0m\u001b[1;33m}\u001b[0m\u001b[1;33m\u001b[0m\u001b[1;33m\u001b[0m\u001b[0m\n\u001b[0;32m     82\u001b[0m     \u001b[1;32mfor\u001b[0m \u001b[0melement\u001b[0m \u001b[1;32min\u001b[0m \u001b[0mpdf_raw_head\u001b[0m\u001b[1;33m.\u001b[0m\u001b[0mstrip\u001b[0m\u001b[1;33m(\u001b[0m\u001b[1;33m)\u001b[0m\u001b[1;33m.\u001b[0m\u001b[0msplit\u001b[0m\u001b[1;33m(\u001b[0m\u001b[1;34mb\"\\n\"\u001b[0m\u001b[1;33m)\u001b[0m\u001b[1;33m:\u001b[0m\u001b[1;33m\u001b[0m\u001b[1;33m\u001b[0m\u001b[0m\n\u001b[1;32m---> 83\u001b[1;33m         \u001b[0mkey\u001b[0m\u001b[1;33m,\u001b[0m\u001b[0mval\u001b[0m \u001b[1;33m=\u001b[0m \u001b[0mparse_pdf_element\u001b[0m\u001b[1;33m(\u001b[0m \u001b[0melement\u001b[0m \u001b[1;33m)\u001b[0m\u001b[1;33m\u001b[0m\u001b[1;33m\u001b[0m\u001b[0m\n\u001b[0m\u001b[0;32m     84\u001b[0m         \u001b[0mhead\u001b[0m\u001b[1;33m.\u001b[0m\u001b[0mupdate\u001b[0m\u001b[1;33m(\u001b[0m\u001b[1;33m{\u001b[0m\u001b[0mkey\u001b[0m \u001b[1;33m:\u001b[0m \u001b[0mval\u001b[0m \u001b[1;33m}\u001b[0m\u001b[1;33m)\u001b[0m\u001b[1;33m\u001b[0m\u001b[1;33m\u001b[0m\u001b[0m\n\u001b[0;32m     85\u001b[0m \u001b[1;33m\u001b[0m\u001b[0m\n",
      "\u001b[1;32m<ipython-input-73-15c8cf501b3a>\u001b[0m in \u001b[0;36mparse_pdf_element\u001b[1;34m(element)\u001b[0m\n\u001b[0;32m     52\u001b[0m             \u001b[0mv\u001b[0m \u001b[1;33m=\u001b[0m \u001b[1;33m[\u001b[0m\u001b[1;33m]\u001b[0m\u001b[1;33m\u001b[0m\u001b[1;33m\u001b[0m\u001b[0m\n\u001b[0;32m     53\u001b[0m             \u001b[1;32mfor\u001b[0m \u001b[0mb\u001b[0m \u001b[1;32min\u001b[0m \u001b[0ma\u001b[0m\u001b[1;33m:\u001b[0m\u001b[1;33m\u001b[0m\u001b[1;33m\u001b[0m\u001b[0m\n\u001b[1;32m---> 54\u001b[1;33m                 \u001b[1;32mif\u001b[0m \u001b[0mb\u001b[0m\u001b[1;33m.\u001b[0m\u001b[0misinteger\u001b[0m\u001b[1;33m(\u001b[0m\u001b[1;33m)\u001b[0m\u001b[1;33m:\u001b[0m\u001b[1;33m\u001b[0m\u001b[1;33m\u001b[0m\u001b[0m\n\u001b[0m\u001b[0;32m     55\u001b[0m                     \u001b[0mv\u001b[0m\u001b[1;33m.\u001b[0m\u001b[0mappend\u001b[0m\u001b[1;33m(\u001b[0m \u001b[0mint\u001b[0m\u001b[1;33m(\u001b[0m\u001b[0mb\u001b[0m\u001b[1;33m)\u001b[0m \u001b[1;33m)\u001b[0m\u001b[1;33m\u001b[0m\u001b[1;33m\u001b[0m\u001b[0m\n\u001b[0;32m     56\u001b[0m                 \u001b[1;32melse\u001b[0m\u001b[1;33m:\u001b[0m\u001b[1;33m\u001b[0m\u001b[1;33m\u001b[0m\u001b[0m\n",
      "\u001b[1;31mAttributeError\u001b[0m: 'bytes' object has no attribute 'isinteger'"
     ]
    }
   ],
   "source": [
    "import sys\n",
    "\n",
    "PDF = []\n",
    "\n",
    "with open(\"challenge.pdf\", \"rb\") as f:\n",
    "    data = f.read()\n",
    "\n",
    "tag_obj_start = b\"obj\\n\"\n",
    "tag_obj_end   = b\"endobj\\n\"\n",
    "tag_header_start = b\"\\x3c\\x3c\"\n",
    "tag_header_end    = b\"\\x3e\\x3e\"\n",
    "tag_stream_start = b\"\\x06stream\"\n",
    "tag_stream_end   = b\"\\nendstream\"\n",
    "\n",
    "header_tags = {b\"/Length\":int, b\"/Filter\":\"tag\", \n",
    "               b\"/FlateDecode\":\"\", b\"/Type\":\"tag\", \n",
    "               b\"/Contents\":list, b\"/Resources\":list, \n",
    "               b\"/MediaBox\":list, b\"/Parent\":list, \n",
    "               b\"/Group\":list}\n",
    "\n",
    "#Finds the first tag\n",
    "#@return: bytestring on successs\n",
    "#@return: None on error\n",
    "def find_next_tag( pdf_index_start=0 ):\n",
    "    tag_index_start = pdf_raw[pdf_index_start:].find( tag_obj_start )\n",
    "    if tag_index_start == -1:  #find returns -1 on failure\n",
    "        return None, -1\n",
    "    tag_index_start += pdf_index_start   #absolute index\n",
    "    \n",
    "    tag_index_end = pdf_raw[tag_index_start+len(tag_start):].find( tag_obj_end )\n",
    "    if tag_index_end == -1:  #find returns -1 on failure\n",
    "        return None, -1\n",
    "    tag_index_end += tag_index_start + len(tag_end)  #absolute index\n",
    "    \n",
    "    return pdf_raw[tag_index_start:tag_index_end], tag_index_end+len(tag_end)\n",
    "\n",
    "\n",
    "def parse_pdf_element(element):\n",
    "    i = element.find(b\"\\x20\")\n",
    "    k = element[:i].strip()\n",
    "    v = element[i:].strip()\n",
    "    \n",
    "    print(\"\\t\", k, \" - \", v)\n",
    "    t = str\n",
    "    if k in header_tags.keys():\n",
    "        if header_tags[k] == int:\n",
    "            v = int(v)\n",
    "        elif header_tags[k] == list:\n",
    "            if v[0] == 91:\n",
    "                v = v[1:-1]\n",
    "            a = v.split(b\" \")\n",
    "            v = []\n",
    "            for b in a:\n",
    "                if b.isinteger():\n",
    "                    v.append( int(b) )\n",
    "                else:\n",
    "                    v.append( b )\n",
    "        elif header_tags[k] == \"tag\":\n",
    "            pass\n",
    "        else:\n",
    "            v = None\n",
    "        \n",
    "    print(\"\\t\", k, \" - \", v)\n",
    "    print()\n",
    "    return k, v\n",
    "\n",
    "\n",
    "def parse_pdf_element_struct(pdf_raw_element, pdf_search_index):\n",
    "    print( pdf_search_index )\n",
    "    print( len(pdf_raw_element) )\n",
    "    print()\n",
    "    \n",
    "    HEAD = None\n",
    "    index_head_start = 5\n",
    "    if pdf_raw_element[3:5] != tag_header_start:\n",
    "        index_head_start = pdf_raw_element.find(tag_header_start)+len(tag_header_start)\n",
    "    index_head_end   = pdf_raw_element.find(tag_header_end)\n",
    "    \n",
    "    pdf_raw_head = pdf_raw_element[index_head_start : index_head_end]\n",
    "    \n",
    "    head = {}\n",
    "    for element in pdf_raw_head.strip().split(b\"\\n\"):\n",
    "        key,val = parse_pdf_element( element )\n",
    "        head.update({key : val })\n",
    "        \n",
    "    \n",
    "    \n",
    "\n",
    "x = 0\n",
    "print(pdf_raw[0:90])\n",
    "pdf_search_index = 0\n",
    "while pdf_search_index != -1 and pdf_search_index < len(pdf_raw):\n",
    "    pdf_search_index_last = pdf_search_index\n",
    "    pdf_raw_element, pdf_search_index = find_next_tag(pdf_search_index)\n",
    "    if pdf_search_index == -1:\n",
    "        print( \"pdf_search_index returned -1, starting at index: \" + pdf_search_index)\n",
    "        break\n",
    "    print(\"#\"*80)\n",
    "    \n",
    "    pdf_object = parse_pdf_element_struct( pdf_raw_element, pdf_search_index )\n",
    "    x+=1\n",
    "    if x > 2:\n",
    "        break\n",
    "    \n",
    "\n"
   ]
  },
  {
   "cell_type": "markdown",
   "metadata": {},
   "source": [
    "## Extract ruby service"
   ]
  },
  {
   "cell_type": "code",
   "execution_count": 18,
   "metadata": {},
   "outputs": [],
   "source": [
    "\n",
    "\n",
    "#out = open(\"ruby_pdf.txt\",\"w\")\n",
    "#for c in HEX.replace(\"\\n\",\"\").replace(\"  \",\" \").strip().split(\" \"):\n",
    "#    out.write( chr( int(c,16) ) )\n",
    "#out.close()"
   ]
  }
 ],
 "metadata": {
  "kernelspec": {
   "display_name": "Python 3",
   "language": "python",
   "name": "python3"
  },
  "language_info": {
   "codemirror_mode": {
    "name": "ipython",
    "version": 3
   },
   "file_extension": ".py",
   "mimetype": "text/x-python",
   "name": "python",
   "nbconvert_exporter": "python",
   "pygments_lexer": "ipython3",
   "version": "3.8.5"
  }
 },
 "nbformat": 4,
 "nbformat_minor": 4
}
