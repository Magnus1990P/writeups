{
 "cells": [
  {
   "cell_type": "markdown",
   "metadata": {},
   "source": [
    "# CTF Kins 2023"
   ]
  },
  {
   "cell_type": "markdown",
   "metadata": {},
   "source": [
    "Nettverk\n",
    "---\n",
    "1. Dump - Flag resided as a comment  \n",
    "    Flag: `ctf(kommentar)`\n",
    "1. Korrupt - Invalid file header signature  \n",
    "    Flag: `ctf(chopping!)`\n",
    "1. N/A\n",
    "1. Contraband - Utført, husker ikke hvordan"
   ]
  },
  {
   "cell_type": "code",
   "execution_count": null,
   "metadata": {},
   "outputs": [],
   "source": [
    "import json\n",
    "with open(\"files/contraband_arp.json\", \"r\") as jfile:\n",
    "    arp = json.load(jfile)\n",
    "\n",
    "data = []\n",
    "for packet in arp:\n",
    "    data.extend([int(val,16) for val in packet[\"_source\"][\"layers\"][\"icmp\"][\"data\"][\"data.data\"].strip().split(\":\")])\n",
    "\n",
    "with open(\"test.bin\", \"wb\") as out:\n",
    "    for val in data:\n",
    "        out.write( val.to_bytes() )"
   ]
  },
  {
   "cell_type": "code",
   "execution_count": null,
   "metadata": {},
   "outputs": [],
   "source": [
    "with open(\"files/file.txt\") as in_file:\n",
    "    data = in_file.read()\n",
    "\n",
    "parsed_data = []\n",
    "index = 0\n",
    "while index < len(data):\n",
    "    current_value = data[index]\n",
    "    if current_value == \"\\\\\":\n",
    "        second = data[index+1]\n",
    "        if second == \"x\":\n",
    "            value = int(data[index+2:index+4], 16)\n",
    "            #print(data[index:index+4], data[index+2:index+4], value)\n",
    "            index += 4\n",
    "        else:\n",
    "            if second == \"r\":\n",
    "                value = \"\\r\"\n",
    "            elif second == \"n\":\n",
    "                value = \"\\n\"\n",
    "            elif second == \"t\":\n",
    "                value = \"\\t\"\n",
    "            elif second == \"\\\\\":\n",
    "                value = \"\\\\\"\n",
    "            elif second == \"'\":\n",
    "                value = \"'\"\n",
    "            else:\n",
    "                print(f\"FUCK {data[index:index+2]}\")\n",
    "            value = ord(value)\n",
    "            index += 2\n",
    "    else:\n",
    "        value = ord(current_value)\n",
    "        index += 1\n",
    "    parsed_data.append(value)\n",
    "\n",
    "with open(\"test.zip\", \"wb\") as out:\n",
    "    for val in parsed_data:\n",
    "        out.write( val.to_bytes() )"
   ]
  },
  {
   "cell_type": "markdown",
   "metadata": {},
   "source": [
    "Forensics\n",
    "---\n",
    "1. Stego - Gjemt i iTXT-felt, som en del av XML photoshop description\n",
    "    Flag: `ctf(magic_bytes)`\n",
    "1. N/A\n",
    "1. N/A\n",
    "1. Password checker - Decompilet executable og pyc-fila i en online decompiler som returnerte python scriptet.  Python scriptet gjorde en henting av et DNS record som med manipulasjoner inneholdt flagget.  \n",
    "    Flag: `ctf(4d2545506e02a814)`"
   ]
  },
  {
   "cell_type": "code",
   "execution_count": null,
   "metadata": {},
   "outputs": [],
   "source": [
    "import hashlib\n",
    "domain = 'algebra.hr'\n",
    "result = \"google-site-verification=HX5XmPLwGj9YizbWKaEH8MZ00FaKyPZdu6Yze_EWeKY\"[25:]\n",
    "result_enc = result.encode()\n",
    "md5 = hashlib.md5(result_enc)\n",
    "md5.hexdigest()[::-1]\n",
    "correct_input = md5.hexdigest()[::-1]\n",
    "print(f\"You entered the correct password!\\nTask Flag is:\\nFlag {correct_input[::2]}\")"
   ]
  },
  {
   "cell_type": "markdown",
   "metadata": {},
   "source": [
    "Passordhasher\n",
    "---\n",
    "1. Etter genering av ordliste basert på `https://kins.no` med alfanumeriske ord, kjøres denne gjennom hashcat med bruteforce basert på best-64 rules i tillegg.  \n",
    "1. N/A\n",
    "1. N/A\n",
    "1. N/A"
   ]
  },
  {
   "cell_type": "markdown",
   "metadata": {},
   "source": [
    "Lett blanding\n",
    "---\n",
    "1. Gatenavn 1 - Lillehammer  \n",
    "    Flag: `ctf(gamlevegen)`\n",
    "1. Gatenavn 2 - Veiholmen smøla, Feskarkjerringa  \n",
    "    Flag: `ctf(veiholmen)`\n",
    "1. Holy PDF - Javascript med obfuskering gjemt i PDF-en\n",
    "1. File.out - Recursive multi type ZIP archive  \n",
    "    Flag: `ctf(zippety-zip)`"
   ]
  },
  {
   "cell_type": "markdown",
   "metadata": {},
   "source": [
    "Kryptografi\n",
    "---\n",
    "Svarene for 1-3 er hentet ut fra decryption scriptet under.  Svar for oppg. 4 er vist i neste script\n",
    "1. RSA e - Finn e, krever bruteforcing, men man har alle verdiene bare finn ut hvordan dekryptere RSA  \n",
    "    Flag: `ctf(241)`\n",
    "1. RSA dekryptering - Feil metode i 1, finn svaret etter dekryptering er utført  \n",
    "    Flag: `ctf(byron)`\n",
    "1. Bruk svaret av d for e=241 som er svaret i 1  \n",
    "    Flag: `ctf(2747837490320318128246025995849948849334055280624446917915166186436995544551526157313339106102061302508001522763225768931376745795618880577302719540615722868828537091779422546144645958352238251541361)`\n",
    "1. OTP - To sett med binære data, ciphertext og en One Time Pad code. Messag = (cipher XOR otp)  \n",
    "    Flag: `ctf(vivaladirtleague)`"
   ]
  },
  {
   "cell_type": "code",
   "execution_count": null,
   "metadata": {},
   "outputs": [],
   "source": [
    "#Decryption script for task 1-3\n",
    "from Crypto.Util.number import inverse, long_to_bytes\n",
    "import codecs\n",
    "\n",
    "p = 7108367798844883504104205951772749001384740661000820304631509940066037343592284696405223942805951071\n",
    "q = 7763489147663517090723479740288069323137580726521829624240350551170354428349248897397142955788772701\n",
    "C = [22951670488075327499387449825631565211838814121935478731216021208434746762736492280450847641019903172819515582216000476122808712504535354950671624040804734120666448128768089451928945017414063244673158,\n",
    "\t4494752091608319647157589566675928160104987650222564569022786700993518056706154958776096356815147254058266897781506512903305208826074266122947856602867766869506333617153704037098521396494164437007818,\n",
    "\t7353207879831552079917912149843401788181147134542653175684858235549064427499070276836300848061699995598228508013237947558902726513940809198839435250655684196743267830974182754626901850396534965700786,\n",
    "\t35655272443115501110682254166238943176717639848318973150027631791510872923214806801044687684978459547606468861739161451758417930672874567781002290708627445014562993672096824213778446755424353757449193,\n",
    "\t8428757627014661882488236229274080079809835402957781898140981354039121125612125574980356703309271581663112759922225836720883673254137370783768781497421907231786420193897036959153649990785100366715846,\n",
    "\t23539170684239924684121409871937180152955483343615804139486881894755032033003161718735877099649297529294094624715349602529001947281153202199479827790215913301378382410317064811084736172837408214386889,\n",
    "\t2245563897751989976783693696406058641411103385768048079672656800138390993141641964536590448876489406306387346450640685825304051397298254348070016407842404833875329554334057181178216893467622710600186,\n",
    "\t43391751556641818833793570830138368092878172204455754574756930503607927602893059985143609100777029695816896425626106785729885716003868953018247865606126466317110494616714493906692816165832315254440471,\n",
    "\t24860948386017869470376111852295273039398987396260216573356233838446935039901346709473924704825036159779545708465848028202540707604708424108000526448693482644549269093246674928262277126471859817229194,\n",
    "\t24635915102847860107122681234195728701731735028076603606835624138365678524646669222360175894358746451291001436911730230115435392734363545384154228106893841397086871875347249468726368628468794863425066]\n",
    "\n",
    "n = p*q\n",
    "phi = (q-1)*(p-1)\n",
    "\n",
    "for e in range(241,242):\n",
    "    try:\n",
    "        d = inverse(e, phi)\n",
    "        print(f\"ctf({d})\")\n",
    "    except:\n",
    "        continue\n",
    "    \n",
    "    print(f\"e={e}\")\n",
    "    for index,c in enumerate(C):\n",
    "        M = pow(c, d, n)\n",
    "        try:\n",
    "            print(f\"C[{index}] ASCII:\", long_to_bytes(M).decode())\n",
    "        except:\n",
    "            continue\n",
    "    print(\"==================================\")"
   ]
  },
  {
   "cell_type": "code",
   "execution_count": null,
   "metadata": {},
   "outputs": [],
   "source": [
    "#Decryption script for task 4, the One-Time-Pad\n",
    "C = [int(b,2) for b in \"00011011 00001110 00011010 00010100 00000111 00001101 00000101 00001110 00010011 00010111 00011110 00000011 00000101 00010010 00001111 00010100\".split(\" \")]\n",
    "OTP = [int(b,2) for b in \"01101101 01100111 01101100 01110101 01101011 01101100 01100001 01100111 01100001 01100011 01110010 01100110 01100100 01110101 01111010 01110001\".split(\" \")]\n",
    "\n",
    "comb = zip(C,OTP)\n",
    "for c,o in comb:\n",
    "    XOR = c^o\n",
    "    print(chr(c), chr(o), chr(XOR))"
   ]
  },
  {
   "cell_type": "markdown",
   "metadata": {},
   "source": [
    "Enkoding og obfuskering\n",
    "---\n",
    "1. Enkoding - Base85 med magic fra cyberchef\n",
    "    Flag: `ctf(happymonday)`\n",
    "1. Obfuskering 1 - Hex dump, skrevet baklengs  \n",
    "    Flag: `ctf(heavy_shit)`\n",
    "1. N/A\n",
    "1. Obfuskering 3 - Powershell script med gjemt innhold, affine cipher. Bare disarm scriptet og la den kjøre og printe variabelen  \n",
    "    Flag: `ctf(gizmo)`"
   ]
  }
 ],
 "metadata": {
  "kernelspec": {
   "display_name": "Python 3",
   "language": "python",
   "name": "python3"
  },
  "language_info": {
   "codemirror_mode": {
    "name": "ipython",
    "version": 3
   },
   "file_extension": ".py",
   "mimetype": "text/x-python",
   "name": "python",
   "nbconvert_exporter": "python",
   "pygments_lexer": "ipython3",
   "version": "3.11.5"
  },
  "orig_nbformat": 4
 },
 "nbformat": 4,
 "nbformat_minor": 2
}
