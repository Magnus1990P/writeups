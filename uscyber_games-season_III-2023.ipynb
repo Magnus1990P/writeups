{
 "cells": [
  {
   "attachments": {},
   "cell_type": "markdown",
   "metadata": {},
   "source": [
    "# USCyber Games\n",
    "## Season III - 2023"
   ]
  },
  {
   "attachments": {},
   "cell_type": "markdown",
   "metadata": {},
   "source": [
    "### Archiveception [Forensics]\n",
    "1. Untar start_layer.gz archive yields two files\n",
    "2. Bzip2\n",
    "3. 7z yields password protected 7z archive and the password in a plaintext file\n",
    "4. 7z extracts the flag.txt file  \n",
    "**Flag:** `uscg_open{d0wNw4rd_15_7h3_0n1y_w4y_f0rw4rD}`\n",
    "\n",
    "### Metadata [Forensics]\n",
    "Strings yields the string comment with the flag in plaintext.  \n",
    "**Flag:** `flag{334_shards_of_hail_fall_ominously}`\n",
    "\n",
    "### Word [Forensics]\n",
    "String is hidden in error image as metadata tag.  \n",
    "**Flag:** `USCG{parliamentary_carpet}`\n",
    "\n",
    "### Viginere [Crypto]\n",
    "Just reversing the Vigneere encryption and running it in reverse 1000 times.  \n",
    "**Flag:** `uscg{morerepetitionsdoesntmeansafer}`"
   ]
  },
  {
   "cell_type": "code",
   "execution_count": null,
   "metadata": {},
   "outputs": [],
   "source": [
    "#Vigenere\n",
    "\n",
    "def decrypt(key, ciphertext):\n",
    "    plaintext = [chr(((ord(c)-ord(k))%26)+97) for c,k in zip(ciphertext,key)]\n",
    "    return \"\".join(plaintext)\n",
    "\n",
    "key = \"raaojpkaufmsrez\"\n",
    "flag = \"tmjuefrwtvjirfx\"\n",
    "for i in range(1000):\n",
    "    key = decrypt(flag, key)\n",
    "    flag = decrypt(key, flag)\n",
    "print(key)\n",
    "print(flag)"
   ]
  },
  {
   "attachments": {},
   "cell_type": "markdown",
   "metadata": {},
   "source": [
    "### The First Digram Substitution Cipher [Crypto]\n",
    "The cipher is a Digram Substitution Cipher, the playfair cipher.  Bruteforcing is easy for the little keyspace.\n",
    "Generating all keys, while doing some backtracking when encountering errors seemed to the trick.  Yielding a subset of the plaintext set, which was searchable.\n",
    "\n",
    "**Flag:** `uscg{THIS_CIPHER_WAS_ONCE_REJECTED_FOR_ITS_PERCEIVED_COMPLEXITY}`"
   ]
  },
  {
   "cell_type": "code",
   "execution_count": null,
   "metadata": {},
   "outputs": [],
   "source": [
    "import string\n",
    "from pycipher import Playfair\n",
    "\n",
    "secret = \"SRJEEUJLTCDWWEIETCSINEOSFGTLMEOJTCENJUWNLEPICOUKFR\".lower()\n",
    "KEY = list(\"CH_R_ESWTO_BD__IJ__P_____\".lower())\n",
    "REM = [val for val in string.ascii_lowercase if val not in KEY and val != \"q\"]\n",
    "\n",
    "def rec(key, alph):\n",
    "    if \"_\" not in key:\n",
    "        decoded = Playfair(\"\".join(key)).decipher(secret)\n",
    "        if decoded.startswith(\"THISCIPHERWASO\"):\n",
    "            print(\"\".join(key), decoded)\n",
    "            return 0\n",
    "        return 5\n",
    "    mod_idx = key.index(\"_\")\n",
    "    for val in alph:\n",
    "        if val in key:\n",
    "            continue\n",
    "        key[mod_idx] = val\n",
    "        ret = rec(key, alph)\n",
    "        key[mod_idx] = \"_\"\n",
    "        if ret != 0:\n",
    "            return ret-1\n",
    "    return 0\n",
    "rec(KEY, REM)"
   ]
  },
  {
   "attachments": {},
   "cell_type": "markdown",
   "metadata": {},
   "source": [
    "### Table Tennis\n",
    "The PCAP file contains a Ping Pong session.  However, the \"Window Size Scaling factor\" appears to be harbouring regular ASCII data.  \n",
    "These packets are only sent from the user with the `ping` messages, and words like `ls`, `base64` and `flag` appears.\n",
    "\n",
    "Extracting all packages to text format with all contents, We can filter out all rows, not starting with the `00 30` byte index, and continue fiddling down the text until we get something like below which, when concatenating the two first chars of each line becomes, `ls flag base64 dXNjZ3tMMG9rMW5HX3RocjB1Z0hfVGgzX3cxbkRvV30=`, and translates into `uscg{L0ok1nG_thr0ugH_Th3_w1nDoW}`\n",
    "\n",
    "```\n",
    "lsW..........8..\n",
    "\n",
    "fl]..........9..\n",
    "agb..........9..\n",
    "\n",
    "baa..........:..\n",
    "sePr.........:..\n",
    "64...........;..\n",
    "\n",
    "dX_^.........<..\n",
    "NjuB.........<..\n",
    "Z3in.........=..\n",
    "tMOI.........=..\n",
    "MGvE.........=..\n",
    "9r...........=..\n",
    "MWv..........>..\n",
    "5H.$.........>..\n",
    "X3k..........?..\n",
    "Rop..........?..\n",
    "cj_..........?..\n",
    "B1...........@..\n",
    "Z0i..........@..\n",
    "hfZ..........@..\n",
    "VGl..........A..\n",
    "gz[..........A..\n",
    "X3j..........A..\n",
    "cx_..........B..\n",
    "bk`..........B..\n",
    "Rvpu.........C..\n",
    "V3l..........C..\n",
    "0=...........C..\n",
    "```"
   ]
  },
  {
   "attachments": {},
   "cell_type": "markdown",
   "metadata": {},
   "source": [
    "\n",
    "`qMtStnD3Q-1e3-yYXCKOHcPagm-qiGkcnJcDuzOoac8`"
   ]
  },
  {
   "attachments": {},
   "cell_type": "markdown",
   "metadata": {},
   "source": [
    "### Semaphore\n",
    "The conversation contains a bunch of erronuous TCP packets from A to B.  \n",
    "Looking at the packets, we see the TCP flags appears to be readable, ASCII values.  \n",
    "Exporting the entire conversation to JSON, then filtering out the TCP flag values, and grabbing the last byte of each we get a sequence of byte values, which converts into ASCII characters.\n",
    "\n",
    "After converting, concatenating and decoding the bytearray using Base64, we get a text with the flag\n",
    "\n",
    "**Flag:** `USCG{s3map4h0r3_tcp_f1ag5}`"
   ]
  },
  {
   "cell_type": "code",
   "execution_count": null,
   "metadata": {},
   "outputs": [],
   "source": [
    "#Semaphore\n",
    "\n",
    "import json\n",
    "import base64\n",
    "with open(\"semaphore.json\") as jsonfile:\n",
    "    data = json.load(jsonfile)\n",
    "content = bytearray()\n",
    "for packet in data:\n",
    "    tcp_flag_str = packet[\"_source\"][\"layers\"][\"tcp\"][\"tcp.flags\"][-2:]\n",
    "    tcp_flag_int = int(tcp_flag_str, 16)\n",
    "    tcp_flag_byte = bytes.fromhex(tcp_flag_str)\n",
    "    content.append(tcp_flag_int)\n",
    "print(content)\n",
    "print()\n",
    "print(base64.b64decode(content))"
   ]
  },
  {
   "attachments": {},
   "cell_type": "markdown",
   "metadata": {},
   "source": [
    "### Rumble In The Jumble\n",
    "\n",
    "The file is encoded using a substitution cipher for the key space `[A-Za-z]`.  By analysing a standard ELF file we can generate a partial translation table which is shown below.  \n",
    "```\n",
    "Key space: abcdefghijklmnopqrstuvwxyzABCDEFGHIJKLMNOPQRSTUVWXYZ\n",
    "Translate: pbrisgm.ydfaeohvxl.c..tnzuF.CGPJ.R.BM.ES.TLNDU.QI...\n",
    "```\n",
    "\n",
    "In the file we find the flag string which needs to be deciphered.\n",
    "```\n",
    "00002000: 0100 0200 0000 0000 446e 6e6a 2046 6e62  ........Dnnj Fnb\n",
    "00002010: 2120 506f 6d20 6b72 6c66 2064 653a 2054  ! Pom krlf de: T\n",
    "00002020: 4e43 447b 6b31 7133 6a5f 776f 335f 757a  NCD{k1q3j_wo3_uz\n",
    "00002030: 6738 7233 357d 0000 011b 033b 2c00 0000  g8r35}.....;,...\n",
    "```\n",
    "\n",
    "Using the transposition table we get\n",
    "```\n",
    "Dnnj Fnb! Pom krlf de: TNCD{k1q3j_wo3_uzg8r35}\n",
    "Good Job! The flag is: USCG{f1x3d_th3_jum8l35}\n",
    "```\n"
   ]
  }
 ],
 "metadata": {
  "kernelspec": {
   "display_name": "Python 3",
   "language": "python",
   "name": "python3"
  },
  "language_info": {
   "codemirror_mode": {
    "name": "ipython",
    "version": 3
   },
   "file_extension": ".py",
   "mimetype": "text/x-python",
   "name": "python",
   "nbconvert_exporter": "python",
   "pygments_lexer": "ipython3",
   "version": "3.10.6"
  },
  "orig_nbformat": 4
 },
 "nbformat": 4,
 "nbformat_minor": 2
}
