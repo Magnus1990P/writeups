{
 "cells": [
  {
   "attachments": {},
   "cell_type": "markdown",
   "id": "2d99b9ac-da38-4ff4-a0df-02d616afcbe2",
   "metadata": {},
   "source": [
    "# PicoCTF\n",
    "Chinese Remainder Theorem\n",
    "\n",
    "The main issue is to get **d**, because it must be calculated as d = e mod (lambda(n)).\n",
    "Where **lambda(n)**, n=pq, is the **lcm(p-1,q-1)**, least common multiple.\n",
    "\n",
    "In this task, the dp and dq is given, as well as q and p. Meaning the hard part is bypassed and is just a decryption of the cryptogram with the key using the Chinese remainder theorem.\n",
    "\n",
    "- c: Cryptogram\n",
    "- p: Key - co-prime number 1\n",
    "- q: Key - co-prime number 2\n",
    "- dp: d mod (p-1)\n",
    "- dq:  d mod (q-1)\n",
    "- Qinv: Inverse of q mod (p)"
   ]
  },
  {
   "cell_type": "code",
   "execution_count": null,
   "id": "70b9eb08-1587-4347-9d3d-04b589a62f4f",
   "metadata": {},
   "outputs": [],
   "source": [
    "c  = 95272795986475189505518980251137003509292621140166383887854853863720692420204142448424074834657149326853553097626486371206617513769930277580823116437975487148956107509247564965652417450550680181691869432067892028368985007229633943149091684419834136214793476910417359537696632874045272326665036717324623992885\n",
    "p  = 11387480584909854985125335848240384226653929942757756384489381242206157197986555243995335158328781970310603060671486688856263776452654268043936036556215243\n",
    "q  = 12972222875218086547425818961477257915105515705982283726851833508079600460542479267972050216838604649742870515200462359007315431848784163790312424462439629\n",
    "dp = 8191957726161111880866028229950166742224147653136894248088678244548815086744810656765529876284622829884409590596114090872889522887052772791407131880103961\n",
    "dq = 3570695757580148093370242608506191464756425954703930236924583065811730548932270595568088372441809535917032142349986828862994856575730078580414026791444659"
   ]
  },
  {
   "cell_type": "code",
   "execution_count": null,
   "id": "fb133b1d-cd5f-4725-8c23-e8a6e707d836",
   "metadata": {},
   "outputs": [],
   "source": [
    "import numpy as np\n",
    "\n",
    "Qinv  = pow(q, -1, p)\n",
    "m1 = pow(c, dp, p)\n",
    "m2 = pow(c, dq, q)\n",
    "\n",
    "if m1 < m2:\n",
    "    h = (Qinv * ((m1 + (np.ceil(q/p)*p)) - m2 )) % p\n",
    "else:\n",
    "    h = (Qinv * (m1-m2)) % p\n",
    "m = m2 + h*q\n",
    "print( bytes.fromhex( hex(m)[2:] ) )"
   ]
  }
 ],
 "metadata": {
  "kernelspec": {
   "display_name": "Python 3",
   "language": "python",
   "name": "python3"
  },
  "language_info": {
   "codemirror_mode": {
    "name": "ipython",
    "version": 3
   },
   "file_extension": ".py",
   "mimetype": "text/x-python",
   "name": "python",
   "nbconvert_exporter": "python",
   "pygments_lexer": "ipython3",
   "version": "3.9.2"
  }
 },
 "nbformat": 4,
 "nbformat_minor": 5
}
