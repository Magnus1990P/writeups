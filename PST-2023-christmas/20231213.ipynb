{
 "cells": [
  {
   "cell_type": "markdown",
   "metadata": {},
   "source": [
    "# 20231213 - Geogjetter\n",
    "Ledelsen har fått dilla på GeoGjettr og jeg er med i en konkurranse, men klarer ikke finne ut av hvilken by bildet her er fra.  \n",
    "Kan du hjelpe meg litt fort?  \n",
    "Svar meg med `KRIPOS{navn på by}`.  \n",
    "Mellomleder\n",
    "\n",
    "<img src=\"./data/20231213-geogjetter-bilde.png\" width=400px alt=\"Geogjetter bilde av restaurant\" />\n"
   ]
  },
  {
   "cell_type": "markdown",
   "metadata": {},
   "source": [
    "## Answer\n",
    "The image contains a QR-code which contains the WiFi name \"The State Buildings\".  \n",
    "Using Wigle.net, to search for the SSID of the network, we find that it is located in Perth, Australia.\n",
    "\n",
    "**FLAG:** `KRIPOS{Perth}`\n",
    "\n",
    "<img src=\"./data/20231213-wigle_net.png\" alt=\"Wigle.net search window with solution\" width=700px />"
   ]
  }
 ],
 "metadata": {
  "language_info": {
   "name": "python"
  }
 },
 "nbformat": 4,
 "nbformat_minor": 2
}
