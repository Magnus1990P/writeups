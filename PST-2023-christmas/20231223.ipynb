{
 "cells": [
  {
   "cell_type": "markdown",
   "metadata": {},
   "source": [
    "# 20231223 - KVU-dokumenter\n",
    "Hei ZeroChill,  \n",
    "Taskforce ALV utvides stadig og trenger derfor nye lokaler, og dermed er det satt i gang en Konseptvalgsutredning.  \n",
    "Vi har leid inn arkitektfirmaet Juxx og Fauxtneri for å bistå med forslag til nye bygg.  \n",
    "Men i lys av aktuelle hendelser har vi innsett at vi må gå arbeidet deres litt mer i sømmene.  \n",
    "Vi må forsikre oss om at det ikke skjuler seg noe juks eller fanteri i arbeidet deres.  \n",
    "Vi har fått tilgang til budsjettet deres, og et utkast til et nytt bygg.  \n",
    "\n",
    "Problemet er at budsjettet er kryptert, så vi får ikke lest det.  \n",
    "Har du noen alternative løsninger?\n",
    "\n",
    "[./data/20231223-juxxOgFauxtneri.wim](./data/20231223-juxxOgFauxtneri.wim)\n",
    "\n",
    "# Answer\n",
    "Looking at the file we have a WIM, Windows Image, that contains two files and a \"hidden\" python script which is visible in plaintext under binary view.\n",
    "- Encrypted excel file\n",
    "- Image containing the blueprint as a PNG\n",
    "\n",
    "After examining the image in hex, I viewed the image itself.  After zooming and contemplating hidden data, the background seemed to contain hidden data. Turned out it didn't, but in the process of adjusting levels I discovered the hidden hex-strings.  \n",
    "The hex-string discovered was 32 bytes long after tinkering around assessing the data, which is a specific length required by Fernets algorithm. `e24f52497bcf4c332f1283ec925f77a1`  \n",
    "\n",
    "Then after running the decryption script, I got the plaintext Excel spreadsheet which contained the flag in one of the worksheets.\n",
    "\n",
    "**FLAG:** `PST{alternativ_pengestrøm}`\n",
    "\n",
    "<img src=\"./data/20231223-key.png\" alt=\"Discovered key in the PNG image, after adjusting levels\" width=700px />\n",
    "\n",
    "<img src=\"./data/20231223-xlsx.png\" alt=\"Flag discovered in the Excel spredsheet\" width=700px />"
   ]
  },
  {
   "cell_type": "code",
   "execution_count": null,
   "metadata": {},
   "outputs": [],
   "source": [
    "from cryptography.fernet import Fernet\n",
    "import base64\n",
    "\n",
    "B3 = \"e24f52497bcf4c332f1283ec925f77a1\"\n",
    "source_file = '20231223/Cashflow.xlsx.encrypted'\n",
    "key = base64.urlsafe_b64encode(bytes(B3, encoding='ascii'))\n",
    "\n",
    "def decrypt_file(encrypted_filename, key):\n",
    "    cipher_suite = Fernet(key)\n",
    "    with open(encrypted_filename, 'rb') as encrypted_file:\n",
    "        encrypted_data = encrypted_file.read()\n",
    "    decrypted_data = cipher_suite.decrypt(encrypted_data)\n",
    "    decrypted_filename = encrypted_filename.replace('.encrypted', '')\n",
    "    with open(decrypted_filename, 'wb') as decrypted_file:\n",
    "        decrypted_file.write(decrypted_data)\n",
    "\n",
    "decrypt_file(source_file, key)\n",
    "print(f'{source_file} decrypted.')"
   ]
  }
 ],
 "metadata": {
  "kernelspec": {
   "display_name": "Python 3",
   "language": "python",
   "name": "python3"
  },
  "language_info": {
   "codemirror_mode": {
    "name": "ipython",
    "version": 3
   },
   "file_extension": ".py",
   "mimetype": "text/x-python",
   "name": "python",
   "nbconvert_exporter": "python",
   "pygments_lexer": "ipython3",
   "version": "3.12.1"
  }
 },
 "nbformat": 4,
 "nbformat_minor": 2
}
