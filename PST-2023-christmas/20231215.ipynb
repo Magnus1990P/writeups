{
 "cells": [
  {
   "cell_type": "markdown",
   "metadata": {},
   "source": [
    "# 20231215 - Bit-råte\n",
    "Brukerveiledningen til en av de eldste maskinene på verkstedet har blitt borte.  \n",
    "Heldigvis har Julenissens arkiv 1000 sikkerhetskopier av dokumentet på magnetbånd.  \n",
    "Det viser seg at alle kopiene er kraftig angrepet av bit-råte så dokumentet må gjenoppbygges.  \n",
    "Ifølge arkivalven så er brukerveiledningen skrevet på gammel-nordpolarsk som har samme alfabet som norsk, men inneholder ikke nye tegn som disse: `{}#$[]§¤@`\n",
    "\n",
    "Når du finer ut av det så send meg MD5-sjekksummen til det gjenoppbyggede dokumentet på formen `PST{checksum}`. \n",
    "Svaret er ikke versalfølsomt.  \n",
    "Mellomleder\n",
    "\n",
    "- [./data/20231215-backups.zip](./data/20231215-backups.zip)\n",
    "\n",
    "\n",
    "## Answer\n",
    "After looking at the file it is clear that file size differs between the backups. But, random spot checks seemed to confirm my suspicions of it being a case of it being a a case of choosing the most common value.  Whether this was on a bit-level or just character level was not clear.\n",
    "\n",
    "After reading all the files into separate streams, I started to correlate based on characters without removing the undesired characters.  Which made me rethink and do the task on a bit by bit evaluation.  Bit-by-bit was not correct as it showed to favour 1's and generated many 255, values when reconstructing the text.\n",
    "\n",
    "After implementing the character removal I got the document reassembled, but due to some off-by-one errors which I had to debug I got the correct document and used cyberchef to generate the MD5 hash of the completed file.\n",
    "\n",
    "**FLAG:** `PST{e32ba07d1254bafd1683b109c0fd6d6c}`"
   ]
  },
  {
   "cell_type": "code",
   "execution_count": 151,
   "metadata": {},
   "outputs": [],
   "source": [
    "from os import listdir\n",
    "from collections import Counter\n",
    "\n",
    "bitstreams = []\n",
    "basepath = \"./20231215/\"\n",
    "max_len = 0\n",
    "for filename in listdir(basepath):\n",
    "    if not filename.startswith(\"manual\"):\n",
    "        continue\n",
    "    filename = f\"{basepath}{filename}\"\n",
    "    with open(filename, \"rb\") as handle:\n",
    "        bitstreams.append(handle.read())\n",
    "        if len(bitstreams[-1]) > max_len:\n",
    "            max_len = len(bitstreams[-1])\n",
    "\n",
    "bitstream_clean = []\n",
    "for index in range(max_len):\n",
    "    bitdiff = [bitstream[index] for bitstream in bitstreams if index < len(bitstream) and bitstream[index] not in \"{}#$[]§¤@\".encode(\"utf-8\")]\n",
    "    final = Counter(bitdiff)\n",
    "    bitstream_clean.append(max(final, key=final.get))\n",
    "\n",
    "with open(\"./20231215/aaa.txt\", \"wb\") as handle:\n",
    "    for index in range(max_len):\n",
    "        handle.write(bitstream_clean[index].to_bytes())"
   ]
  }
 ],
 "metadata": {
  "kernelspec": {
   "display_name": "Python 3",
   "language": "python",
   "name": "python3"
  },
  "language_info": {
   "codemirror_mode": {
    "name": "ipython",
    "version": 3
   },
   "file_extension": ".py",
   "mimetype": "text/x-python",
   "name": "python",
   "nbconvert_exporter": "python",
   "pygments_lexer": "ipython3",
   "version": "3.12.1"
  }
 },
 "nbformat": 4,
 "nbformat_minor": 2
}
