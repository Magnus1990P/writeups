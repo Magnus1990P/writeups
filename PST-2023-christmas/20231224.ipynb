{
 "cells": [
  {
   "cell_type": "markdown",
   "metadata": {},
   "source": [
    "# 20231224 - Robot-armada: KRIAPOS\n",
    "## 1st message\n",
    "Hei alle sammen!  \n",
    "Vi har fått utdelt noen filer i forbindelse med Nisse-saken, og jeg har blitt bedt om å dele disse videre til relevant personnel.  \n",
    "Filene ligger vedlagt.\n",
    "\n",
    "Vi fikk også denne beskjeden sammen med filene:  \n",
    "*Vedlagt ligger den ondsinnede fastvaren som er ekstrahert fra julegavemaskinen: “mykepakkervare.bin”, samt databladet for NISSE32-brikken.*  \n",
    "*Vi tror også kanskje at de har bygget videre på vår vanlige fastvare, så alvdelingen for fastepakkervare har ordnet en debug-variant av fastvaren vi vanligvis bruker: “fastepakkervare.elf”.*\n",
    "\n",
    "Jeg fikk noe pakketap da jeg lastet ned filene, men det har sikkert gått fint.  \n",
    "Eventuelt har vel dere teknikere kommunikasjon på tvers av etatene på discord?\n",
    "\n",
    "OBS! Ikke stol blindt på filer du mottar fra andre; dobbeltsjekk hashen i md5sum.txt og bruk gjerne en VM.\n",
    "\n",
    "[./data/20231224-kriapos.zip](./data/20231224-kriapos.zip)\n",
    "\n",
    "\n",
    "## 2nd message\n",
    "Hei ZeroChill,  \n",
    "Julegavemaskinen ved nissens verksted har over en lengre periode ikke produsert annet enn smokingkledde roboter med vaggende gange.  \n",
    "Nå har endelig maskineriet blitt reparert, men det vagger fortsatt et par titalls tusen robot-pingviner rundt i kontorene her som truer vår suverenitet over Nordpolen.\n",
    "\n",
    "Vi har vanligvis et innebygget override passord i alle brikkene våre for slike nødtilfeller, men det ser ut til at **passordet har blitt endret**!\n",
    "\n",
    "Undersøkelsene våre viser at noen har tuklet med maskineriet, og lastet opp ukjent fastvare til mikrokontrollerene som vanligvis styrer lekene.  \n",
    "I tillegg var produksjonssettings-pipelinen kompromittert, hvor vi fant en ukjent enhet koblet til USART-grensesnittet som utfører den endelige konfigurasjon av mikrokontrollerene.  \n",
    "Dessverre gikk denne enheten opp i røyk da vi prøvde å koble den fra, så den er totaldestruert.\n",
    "\n",
    "Etter noen innledende eksperimenter tror vi at disse brikkene kan være sårbare mot *fault injection angrep*, og KRIAPOS har latt oss få remote tilgang til elektronikk-laben deres for å jobbe videre med dette:\n",
    "\n",
    "[https://www.kriapos.no/96abdf8a9e6d2a1cfca9206c8e7e0a97/](https://www.kriapos.no/96abdf8a9e6d2a1cfca9206c8e7e0a97/)\n",
    "\n",
    "Laben er allerede satt opp med en brikke som vi har tatt ut av en robot-pingvin.  \n",
    "Se om du klarer å få tak i dataen fra denne slik at vi kan se hva override passordet har blitt satt til.\n",
    "\n",
    "Vi har delt all dataen dere trenger med de samarbeidende etatene allerede, så du vil motta disse fra din kontaktperson veldig snart.\n",
    "\n",
    "Svar meg på denne eposten når du finner ut av dette!\n",
    "\n",
    "\n",
    "## Answer"
   ]
  },
  {
   "cell_type": "code",
   "execution_count": null,
   "metadata": {},
   "outputs": [],
   "source": [
    "W       Delay\n",
    "26ns            Glitch detected! Skipped instruction at address: 0x8001658\n",
    "26ns    100ns   Glitch detected! Skipped instruction at address: 0x800165a\n",
    "26ns    500ns   Glitch detected! Skipped instruction at address: 0x800304e\n",
    "26ns            Glitch detected! Skipped instruction at address: 0x8001658\n",
    "26ns            Glitch detected! Skipped instruction at address: 0x8001658\n",
    "27ns            Glitch detected! Skipped instruction at address: 0x8001658\n",
    "28ns            Glitch detected! Skipped instruction at address: 0x800165a\n",
    "29ns            Glitch detected! Skipped instruction at address: 0x800092e\n"
   ]
  },
  {
   "cell_type": "code",
   "execution_count": null,
   "metadata": {},
   "outputs": [],
   "source": []
  }
 ],
 "metadata": {
  "language_info": {
   "name": "python"
  }
 },
 "nbformat": 4,
 "nbformat_minor": 2
}
