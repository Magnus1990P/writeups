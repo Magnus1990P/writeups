{
 "cells": [
  {
   "cell_type": "markdown",
   "metadata": {},
   "source": [
    "# 20231222 - Gaveliste-endring\n",
    "Hei ZeroChill,  \n",
    "JULESOC har fått en alarm fra informasjonssystemet tilknyttet NISSENS gavelager på VALøya i Tromsø.  \n",
    "Alarmen handlet om en uautorisert modifikasjon i databasen som styrer inventaret til lageret, og JULESOC har sendt oss databasefilene slik de forekom på tidspunktet alarmen gikk.  \n",
    "Har du mulighet til å sjekke ut filene og finne ut hvilken rad som er blitt modifisert?  \n",
    "\n",
    "Returner `UUID` til den modifiserte raden, f.eks. `PST{6eab374e-735f-416e-bcc6-81b4b8dfc7a9}`\n",
    "\n",
    "- []()\n"
   ]
  },
  {
   "cell_type": "code",
   "execution_count": null,
   "metadata": {},
   "outputs": [],
   "source": [
    "class WAL_header():\n",
    "    magic_number: int\n",
    "    file_format: int\n",
    "    page_size: int\n",
    "    checkpoint_sequence_number: int\n",
    "    salt_1: int\n",
    "    salt_2: int\n",
    "    checksum_1: int\n",
    "    checksum_2: int\n",
    "    \n",
    "    def __str__(self):\n",
    "        return f\"\"\"Magic number:\\t{self.magic_number.to_bytes(4).hex()}\n",
    "File format:\\t{self.file_format.to_bytes(4).hex()}\n",
    "Page size:\\t{self.page_size}\n",
    "Chckpnt seq nr:\\t{self.checkpoint_sequence_number}\n",
    "SALT 1:\\t\\t{self.salt_1.to_bytes(4).hex()}\n",
    "SALT 1:\\t\\t{self.salt_2.to_bytes(4).hex()}\n",
    "Checksum 1:\\t{self.checksum_1.to_bytes(4).hex()}\n",
    "Checksum 2:\\t{self.checksum_2.to_bytes(4).hex()}\"\"\"\n",
    "    \n",
    "    def __init__(self, raw_data):\n",
    "        self.magic_number = int(raw_data[:4].hex(), 16) \n",
    "        self.file_format = int(raw_data[4:8].hex(), 16)\n",
    "        self.page_size = int(raw_data[8:12].hex(), 16)\n",
    "        self.checkpoint_sequence_number = int(raw_data[12:16].hex(), 16)\n",
    "        self.salt_1 = int(raw_data[16:20].hex(), 16)\n",
    "        self.salt_2 = int(raw_data[20:24].hex(), 16)\n",
    "        self.checksum_1 = int(raw_data[24:28].hex(), 16)\n",
    "        self.checksum_2 = int(raw_data[28:32].hex(), 16)\n",
    "\n",
    "class WAL_frame():\n",
    "    page_number: int\n",
    "    page_count: int\n",
    "    salt_1: int\n",
    "    salt_2: int\n",
    "    checksum_1: int\n",
    "    checksum_2: int\n",
    "\n",
    "    def __init__(self, raw_data):\n",
    "        self.page_number = int(raw_data[:4].hex(), 16) \n",
    "        self.page_count = int(raw_data[4:8].hex(), 16)\n",
    "        self.salt_1 = int(raw_data[8:12].hex(), 16)\n",
    "        self.salt_2 = int(raw_data[12:16].hex(), 16)\n",
    "        self.checksum_1 = int(raw_data[16:20].hex(), 16)\n",
    "        self.checksum_2 = int(raw_data[20:24].hex(), 16)\n",
    "    \n",
    "    def __str__(self):\n",
    "        return f\"\"\"Page number:\\t{self.page_number}\n",
    "Page count:\\t{self.page_count}\n",
    "SALT 1:\\t\\t{self.salt_1.to_bytes(4).hex()}\n",
    "SALT 2:\\t\\t{self.salt_2.to_bytes(4).hex()}\n",
    "Checksum 1:\\t{self.checksum_1.to_bytes(4).hex()}\n",
    "Checksum 2:\\t{self.checksum_2.to_bytes(4).hex()}\"\"\""
   ]
  },
  {
   "cell_type": "code",
   "execution_count": null,
   "metadata": {},
   "outputs": [],
   "source": [
    "with open(\"20231222/inventory.db-wal\", \"rb\") as wal_handle:\n",
    "    raw_data = wal_handle.read()"
   ]
  },
  {
   "cell_type": "code",
   "execution_count": null,
   "metadata": {},
   "outputs": [],
   "source": [
    "0xc8"
   ]
  },
  {
   "cell_type": "code",
   "execution_count": null,
   "metadata": {},
   "outputs": [],
   "source": [
    "header = WAL_header(raw_data[:32])\n",
    "#print(header)\n",
    "#print()\n",
    "frame = WAL_frame(raw_data[32:32+24])\n",
    "#print(frame)\n",
    "\n",
    "index=0xBE\n",
    "idx = [0xc6, 0x116, 0x15A, 0x19D, 0x1EC]\n",
    "for index in idx:\n",
    "    data = raw_data[index-8:index+200]\n",
    "    print(\" \".join([f\"{byte.to_bytes().hex()}\" for byte in data[:8]]))\n",
    "    print(\" \".join([f\"{int(byte.to_bytes().hex(), 16)}\" for byte in data[:8]]),\n",
    "          data[8:data[0]])\n",
    "    \n",
    "print(0x10E - 0xBE)"
   ]
  }
 ],
 "metadata": {
  "kernelspec": {
   "display_name": "Python 3",
   "language": "python",
   "name": "python3"
  },
  "language_info": {
   "codemirror_mode": {
    "name": "ipython",
    "version": 3
   },
   "file_extension": ".py",
   "mimetype": "text/x-python",
   "name": "python",
   "nbconvert_exporter": "python",
   "pygments_lexer": "ipython3",
   "version": "3.12.1"
  }
 },
 "nbformat": 4,
 "nbformat_minor": 2
}
