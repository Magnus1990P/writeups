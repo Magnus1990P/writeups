{
 "cells": [
  {
   "cell_type": "markdown",
   "metadata": {},
   "source": [
    "# 20231210 - Alvesortering\n",
    "De strenge alvene har skrevet ned et julekodeord, men i den ivrige sorteringen av pakker har det skjedd en horribel feil og alt er blitt rot!  \n",
    "Ordet har blitt borte i det som ser ut som et virrvarr av tilfeldig tekst!  \n",
    "Nå trenger de hjelp til å gjenfinne ordet. De har null peiling på hvor langt ordet er. Kan du å gjenfinne ordet?  \n",
    "Mellomleder\n",
    "\n",
    "\n",
    "## Answer\n",
    "This task is an example of keeping it stupidly simple.\n",
    "\n",
    "After wasting a bunch of time down the crypto rabbit hole, I saw a discussion forum mentioning solving the task in less than 15min. And another guy replying he solved it in two after reading his message :D\n",
    "\n",
    "So the result is that the text is just hidden in the wall of text.\n",
    "1. Seeing that there are some standardisations in the text after splitting it on `\\x00` I tried converting the string lengths into text, as it is all within the ASCII range.\n",
    "    - Failure\n",
    "1. Reading the excercise text, it seems to be a task of reordering the strings.\n",
    "    - So, I first try to reorder it by string lengths.  Which yielded the flag, with a bunch of nonsense added on at the end.\n",
    "\n",
    "**FLAG:** `PST{julenisseStreng0Alv}`"
   ]
  },
  {
   "cell_type": "code",
   "execution_count": null,
   "metadata": {},
   "outputs": [],
   "source": [
    "with open(\"./data/20231210-random_text.bin\", \"rb\") as data:\n",
    "    text_lines = data.read().strip().split(b\"\\x00\")\n",
    "text_lines2 = sorted(text_lines, key=len)\n",
    "FLAG = [chr(line[0]) for line in text_lines2 if len(line) > 0]\n",
    "print(\"\".join(FLAG))"
   ]
  }
 ],
 "metadata": {
  "kernelspec": {
   "display_name": "Python 3",
   "language": "python",
   "name": "python3"
  },
  "language_info": {
   "codemirror_mode": {
    "name": "ipython",
    "version": 3
   },
   "file_extension": ".py",
   "mimetype": "text/x-python",
   "name": "python",
   "nbconvert_exporter": "python",
   "pygments_lexer": "ipython3",
   "version": "3.12.1"
  }
 },
 "nbformat": 4,
 "nbformat_minor": 2
}
