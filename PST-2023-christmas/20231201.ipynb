{
 "cells": [
  {
   "cell_type": "markdown",
   "metadata": {},
   "source": [
    "# 20231201 - Mobil-detektiven\n",
    "## Task\n",
    "Her får du den første oppgaven!\n",
    "\n",
    "Under etterforskningen av hendelsen på jule-verkstedet har vi oppdaget noe rart. Et av meldingssystemene som sender varslinger til beredskapsvaktene for verkstedet har sendt en SMS til et ukjent nummer. Meldingen er dessverre helt uleselig for oss, så vi trenger dine mobildetektiv-egenskaper. Når du finner ut av det, send meg svar på formatet `PST{ditt svar her}`.\n",
    "\n",
    "```\n",
    "7-4 9-3 7-4 8-1 3-2 6-1 0-1\n",
    "4-3 6-2 3-3 4-3 7-4 3-2 7-3\n",
    "8-1 0-1 4-1 7-3 8-2 6-2 5-2\n",
    "3-2 7-3 0-1 4-3 6-2 2-3 6-3\n",
    "6-1 4-3 6-2 4-1\n",
    "```  \n",
    "\n",
    "Tastefinger\n",
    "\n",
    "\n",
    "## Answer\n",
    "Old cellphone keypad with \"SMS shorthand encoding\", where n-presses of a number yields a character. Eg. 7-4=S and 3.2==E  \n",
    "FLAG: `PST{SYSTEM INFISERT GRUNKER INCOMING}`"
   ]
  }
 ],
 "metadata": {
  "language_info": {
   "name": "python"
  }
 },
 "nbformat": 4,
 "nbformat_minor": 2
}
