{
 "cells": [
  {
   "cell_type": "markdown",
   "metadata": {},
   "source": [
    "# 20231219 - Hide and Seek\n",
    "Som følge av et stadig økende trusselbilde, spesielt ifra sydligere strøk, har Nordpolar sikkerhetstjeneste etablert en intern enhet som skal beskytte tjenestens egne digitale systemer mot angrep.  \n",
    "Enheten består av nøye selekterte tidligere alveteknologer som har god erfaring med bekjempelse av sydpolare aktører.\n",
    "\n",
    "Grunnet tidligere prestasjoner på Nordpolen har NISSEN selv navngitt enheten til Julens Utvalgte Lærde Elektronisk databehandlende Sikkerhets og Operative Center, forkortet JULESOC.  \n",
    "JULESOCen kan blant annet bidra til å finne ondsinnede fugler i datasystemene til Julenissens verksted, grave i sildcoin transaksjoner og analyse av speilglatte kopier.\n",
    "\n",
    "JULESOC har nylig mottatt en speilkopi av en arbeidsstasjon lokalisert på Julenissens verksted.  \n",
    "Det er mistanke om at noen uautoriserte har vært inne på maskinen og tukla.  \n",
    "Vi trenger at du graver frem noen spor.  \n",
    "Mellomleder\n",
    "\n",
    "- [./data/20231219-image.raw.gz](./data/20231219-image.raw.gz)\n",
    "\n",
    "\n",
    "## Answer\n",
    "This task was a two stage approach with a false flags embedded.\n",
    "1. I used autopsy to disect the image and found the following files\n",
    "    - Python source code, [./20231219/nissekodegenerator_mixed_case.py](./20231219/nissekodegenerator_mixed_case.py)\n",
    "    - array of numbers, [./20231219/code_1](./20231219/code_1)\n",
    "    - An image of a QR code (false flag), [./20231219/qr-code.png](./20231219/qr-code.png)\n",
    "        - URL: `https://www.google.com/search?channel=fs&client=ubuntu-sn&q=YmxpbmRzcG9yIGRlc3N2ZXJyZSwgbGV0IHZpZGVyZQ%3D%3D`\n",
    "        - The base64 text in the **q** parameter decodes to: `blindspor dessverre, let videre`\n",
    "2. I wrote a script to extract continuous strings from the image, which additionally found \n",
    "    - a second version of the source code, which was purely lower case, [./20231219/nissekodegenerator_lowercase.py](./20231219/nissekodegenerator_lowercase.py)\n",
    "    - a second, shorter, array of numbers, [./20231219/code_2](./20231219/code_2)\n",
    "    - Two text files which contained a random set of words.  One with mixed case and another with just lower case.\n",
    "        - [./20231219/output_text_mixed_case.txt](./20231219/output_text_mixed_case.txt)\n",
    "        - [./20231219/output_text_lower_case.txt](./20231219/output_text_lower_case.txt)\n",
    "3. Analysed the scripts found, both did the same but one makes all the text lower case\n",
    "    - Generate a map of each characters set of locations in the text\n",
    "    - For each letter in the keyword, select a random location for that character in the text\n",
    "    - Print the indexes of the keyword\n",
    "4. I wrote a tiny script to reverse the code which returned the flag\n",
    "\n",
    "**FLAG:** `PST{TheGrinchWouldHateThis}`\n",
    "\n",
    "\n",
    "<img src=\"./data/20231219-autopsy.png\" alt=\"autopsy file discovery\" width=800px />"
   ]
  },
  {
   "cell_type": "code",
   "execution_count": null,
   "metadata": {},
   "outputs": [],
   "source": [
    "# Read all consecutive non-zero bytes of lencth 30 or more into a list\n",
    "bitstreams = []\n",
    "current_byte = 0\n",
    "with open(\"./20231219/image.raw\", \"rb\") as rawimage:\n",
    "    current_bitstream = []\n",
    "    while bytes_read := rawimage.read(1024):\n",
    "        for byte in bytes_read:\n",
    "            if byte != 0:\n",
    "                current_bitstream.append(byte)\n",
    "            elif current_bitstream != [] and byte == 0:\n",
    "                if len(current_bitstream) >= 30:\n",
    "                    bitstreams.append(current_bitstream)\n",
    "                    print(f\"saving bitstream: {current_byte-len(current_bitstream)}:{current_byte} - {current_bitstream[:30]}\")\n",
    "                current_bitstream = []\n",
    "            current_byte += 1"
   ]
  },
  {
   "cell_type": "code",
   "execution_count": null,
   "metadata": {},
   "outputs": [],
   "source": [
    "# Clean up the array, removing all sublists that starts with [255,255,255]\n",
    "pop_list = []\n",
    "for index,bitstream in enumerate(bitstreams):\n",
    "    if bitstream[0] == 255 and bitstream[1] == 255 and bitstream[3] == 255:\n",
    "        pop_list.append(index)\n",
    "pop_list.sort(reverse=True)\n",
    "pop_list\n",
    "for pop in pop_list:\n",
    "    bitstreams.pop(pop)"
   ]
  },
  {
   "cell_type": "code",
   "execution_count": null,
   "metadata": {},
   "outputs": [],
   "source": [
    "# Save the currently longest bytesequence to file\n",
    "index = bitstreams.index(max(bitstreams, key=len))\n",
    "print(index)\n",
    "print()\n",
    "with open(\"20231219/raw_data.txt\", \"wb\") as output:\n",
    "    print(bitstreams[index][:30])\n",
    "    for byte in bitstreams[index]:\n",
    "        output.write(byte.to_bytes())\n",
    "temp = bitstreams.pop(index)"
   ]
  },
  {
   "cell_type": "code",
   "execution_count": null,
   "metadata": {},
   "outputs": [],
   "source": [
    "# Recover the flag after finding the code files, text files and decoded the scripts\n",
    "indexes = [6793, 539, 4387, 0, 5815, 8316, 7006, 8628, 2750, 9710, 7513, 1344, 4841, 2172, 1949, 6157, 4629, 931, 2765, 6744, 8609, 2853, 3580, 7327, 450, 4323, 9871]\n",
    "with open(\"20231219/output_text_mixed_case.txt\") as stegfile:\n",
    "    raw_text = stegfile.read()\n",
    "flag = [raw_text[index] for index in indexes]\n",
    "print(\"\".join(flag))\n",
    "\n",
    "indexes = [1817, 1004, 2238, 1709, 18, 714, 2499, 3069, 2148, 854, 1480, 831, 2441, 373, 276, 374, 844, 2725, 736, 2204, 1107, 1478]\n",
    "with open(\"20231219/output_text_lower_case.txt\") as stegfile:\n",
    "    raw_text = stegfile.read()\n",
    "flag = [raw_text[index] for index in indexes]\n",
    "print(\"\".join(flag))"
   ]
  }
 ],
 "metadata": {
  "kernelspec": {
   "display_name": "Python 3",
   "language": "python",
   "name": "python3"
  },
  "language_info": {
   "codemirror_mode": {
    "name": "ipython",
    "version": 3
   },
   "file_extension": ".py",
   "mimetype": "text/x-python",
   "name": "python",
   "nbconvert_exporter": "python",
   "pygments_lexer": "ipython3",
   "version": "3.12.1"
  }
 },
 "nbformat": 4,
 "nbformat_minor": 2
}
