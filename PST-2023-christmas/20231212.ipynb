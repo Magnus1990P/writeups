{
 "cells": [
  {
   "cell_type": "markdown",
   "metadata": {},
   "source": [
    "# 20231212 - Pakkestorm\n",
    "Jeg har vært på et temmelig hemmelig oppdrag og fulgt med på en server som har hatt mistenkelig oppførsel tidligere.  \n",
    "Nå tok vi den igjen når den begynte å sende masse pakker, men selv om jeg som alle andre alver liker pakker så ble det litt for mye av det gode.  \n",
    "Kan du finne de onde for meg?\n",
    "\n",
    "[./data/20231212-fangede_pakker.pcap](./data/20231212-fangede_pakker.pcap)"
   ]
  },
  {
   "cell_type": "code",
   "execution_count": 1,
   "metadata": {},
   "outputs": [],
   "source": [
    "import json\n",
    "with open(\"./20231212/pakkestorm.json\") as raw:\n",
    "    packets = json.load(raw)"
   ]
  },
  {
   "cell_type": "code",
   "execution_count": 2,
   "metadata": {},
   "outputs": [],
   "source": [
    "sessions = {}\n",
    "for packet in packets:\n",
    "    src  = int(packet[\"_source\"][\"layers\"][\"ip\"][\"ip.src_raw\"][0], 16)\n",
    "    dest = int(packet[\"_source\"][\"layers\"][\"ip\"][\"ip.dst_raw\"][0], 16)\n",
    "    data = int(packet[\"_source\"][\"layers\"][\"data_raw\"][0], 16)\n",
    "    raw  = int(packet[\"_source\"][\"layers\"][\"frame_raw\"][0], 16)\n",
    "    raw_len = packet[\"_source\"][\"layers\"][\"frame_raw\"][2]\n",
    "    session = {\"src\":src, \"dst\": dest, \"data\": data, \"raw\": raw, \"raw_len\":raw_len}\n",
    "    if f\"{src}->{dest}\" not in sessions:\n",
    "        sessions.update({f\"{src}->{dest}\":[session]})\n",
    "    else:\n",
    "        sessions[f\"{src}->{dest}\"].append(session)"
   ]
  },
  {
   "cell_type": "code",
   "execution_count": 15,
   "metadata": {},
   "outputs": [
    {
     "ename": "UnicodeDecodeError",
     "evalue": "'utf-8' codec can't decode byte 0x9b in position 1: invalid start byte",
     "output_type": "error",
     "traceback": [
      "\u001b[1;31m---------------------------------------------------------------------------\u001b[0m",
      "\u001b[1;31mUnicodeDecodeError\u001b[0m                        Traceback (most recent call last)",
      "Cell \u001b[1;32mIn[15], line 2\u001b[0m\n\u001b[0;32m      1\u001b[0m \u001b[38;5;28;01mfor\u001b[39;00m session \u001b[38;5;129;01min\u001b[39;00m sessions:\n\u001b[1;32m----> 2\u001b[0m     \u001b[38;5;28mprint\u001b[39m(sessions[session][\u001b[38;5;241m0\u001b[39m][\u001b[38;5;124m\"\u001b[39m\u001b[38;5;124msrc\u001b[39m\u001b[38;5;124m\"\u001b[39m], sessions[session][\u001b[38;5;241m0\u001b[39m][\u001b[38;5;124m\"\u001b[39m\u001b[38;5;124mdst\u001b[39m\u001b[38;5;124m\"\u001b[39m], \u001b[43msessions\u001b[49m\u001b[43m[\u001b[49m\u001b[43msession\u001b[49m\u001b[43m]\u001b[49m\u001b[43m[\u001b[49m\u001b[38;5;241;43m0\u001b[39;49m\u001b[43m]\u001b[49m\u001b[43m[\u001b[49m\u001b[38;5;124;43m\"\u001b[39;49m\u001b[38;5;124;43mdst\u001b[39;49m\u001b[38;5;124;43m\"\u001b[39;49m\u001b[43m]\u001b[49m\u001b[38;5;241;43m.\u001b[39;49m\u001b[43mto_bytes\u001b[49m\u001b[43m(\u001b[49m\u001b[38;5;241;43m5\u001b[39;49m\u001b[43m)\u001b[49m\u001b[38;5;241;43m.\u001b[39;49m\u001b[43mdecode\u001b[49m\u001b[43m(\u001b[49m\u001b[38;5;124;43m\"\u001b[39;49m\u001b[38;5;124;43mutf-8\u001b[39;49m\u001b[38;5;124;43m\"\u001b[39;49m\u001b[43m)\u001b[49m)\n",
      "\u001b[1;31mUnicodeDecodeError\u001b[0m: 'utf-8' codec can't decode byte 0x9b in position 1: invalid start byte"
     ]
    }
   ],
   "source": [
    "for session in sessions:\n",
    "    print(sessions[session][0][\"src\"], sessions[session][0][\"dst\"], str(sessions[session][0][\"dst\"]))"
   ]
  },
  {
   "cell_type": "code",
   "execution_count": null,
   "metadata": {},
   "outputs": [],
   "source": [
    "for key, session in sessions.items():\n",
    "    and_val = session[0][\"raw\"]\n",
    "    bn_list = [bin(packet[\"raw\"])[::-1] for packet in session]\n",
    "    mask = []\n",
    "    for index in range(0,len(max(bn_list))):\n",
    "        mask.append(\"1\")\n",
    "        for bn in bn_list[2:]:\n",
    "            if index >= len(bn):\n",
    "                if bn_list[0][index] != \"0\":\n",
    "                    mask.pop()\n",
    "                    mask.append(\"0\")\n",
    "                    break\n",
    "            if index < len(bn) and bn[index] != bn_list[0][index]:\n",
    "                mask.pop()\n",
    "                mask.append(\"0\")\n",
    "                break\n",
    "    print(\"\".join(mask))\n",
    "    for packet in bn_list:\n",
    "        print(\"\".join([packet[index] if index < len(packet) and bitmask==\"0\" else \" \" for index,bitmask in enumerate(mask)]))\n",
    "    #print()"
   ]
  },
  {
   "cell_type": "code",
   "execution_count": null,
   "metadata": {},
   "outputs": [],
   "source": [
    "from string import ascii_lowercase, ascii_uppercase\n",
    "strings = []\n",
    "for key, session in sessions.items():\n",
    "    string = \"\".join([chr(int(packet[\"data\"].to_bytes(9).replace(b\"\\x00\", b\"\")[2:], 2)) for packet in session])\n",
    "    strings.append(string)\n",
    "strings = list(set(strings))\n",
    "strings.sort()\n",
    "for string in strings:\n",
    "    print(string)\n",
    "for string in strings:\n",
    "    if not [val for val in string[4:-2] if val in ascii_uppercase]:\n",
    "        print(string)\n",
    "        #print(string[:4]+\"\".join([val for val in string[4:-2] if val in ascii_uppercase])+\"}\")\n",
    "    elif not [val for val in string[4:-2] if val in ascii_lowercase]:\n",
    "        print(string)\n",
    "        #print(string[4]+\"\".join([val for val in string[4:-2] if val in ascii_lowercase])+\"}\")"
   ]
  }
 ],
 "metadata": {
  "kernelspec": {
   "display_name": "Python 3",
   "language": "python",
   "name": "python3"
  },
  "language_info": {
   "codemirror_mode": {
    "name": "ipython",
    "version": 3
   },
   "file_extension": ".py",
   "mimetype": "text/x-python",
   "name": "python",
   "nbconvert_exporter": "python",
   "pygments_lexer": "ipython3",
   "version": "3.12.1"
  }
 },
 "nbformat": 4,
 "nbformat_minor": 2
}
