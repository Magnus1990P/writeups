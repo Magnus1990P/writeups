{
 "cells": [
  {
   "cell_type": "markdown",
   "metadata": {},
   "source": [
    "# 20231220 - Rudolfs Eventyr\n",
    "Julefreden har begynt å senke seg over Nordpolen, og alvene har blitt hekta på på et retro spill.  \n",
    "I følge noen av alvene er det visstnok mye hemmeligheter her!  \n",
    "Et lite avbrekk i julestria må da være lov?  \n",
    "Tastefinger\n",
    "\n",
    "- [./data/20231220-rudolfs_eventyr.gba](./data/20231220-rudolfs_eventyr.gba)"
   ]
  },
  {
   "cell_type": "code",
   "execution_count": null,
   "metadata": {},
   "outputs": [],
   "source": [
    "\n"
   ]
  }
 ],
 "metadata": {
  "language_info": {
   "name": "python"
  }
 },
 "nbformat": 4,
 "nbformat_minor": 2
}
