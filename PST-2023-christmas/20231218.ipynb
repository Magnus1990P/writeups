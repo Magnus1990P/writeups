{
 "cells": [
  {
   "cell_type": "markdown",
   "metadata": {},
   "source": [
    "# 20231218 - Melding fra antikken\n",
    "I riktig gamle dager hadde NISSEN flere regionskontor spredt rundt i verden.  \n",
    "Disse kontorene fungerte både som mottak for ønskelister og distribusjonssenter for gaver.  \n",
    "Da som nå var det ikke alle som oppførte seg like pent fram mot jul, og ifølge historiebøkene var spesielt organisasjonen PERSIUS (ledet av den onde Dr. Xerxes) stadig vekk på spion- og toktforsøk mot ett av NISSENs regionkontor.  \n",
    "På sitt verste var det angivelig hele 300 alvebetjenter i sving for å forsvare gaver og ønskelister.  \n",
    "De særs tapre alvene til tross, NISSEN var reelt bekymret for at viktig informasjon og gaver skulle havne på avveie.  \n",
    "Siden den gang har derfor all julesensitiv informasjon blitt kryptert.\n",
    "\n",
    "Takket være noen alvorlige logistikkproblemer (og muligens en streik eller to) har plutselig en slik gammel melding dukket opp.  \n",
    "Julelovens paragraf §133-syvende ledd er imidlertid krystallklar  \n",
    "Enhver julesensitiv informasjon må analyseres og vurderes før den avgraderes høytid.  \n",
    "Imidlertid er det ingen av Alvene som aner hvordan denne gamle meldingen skal leses. Kan du hjelpe dem?  \n",
    "- Mellomleder\n",
    "\n",
    "## Answer\n",
    "Looking up ancient greek ciphers, we find three ciphers, one of which was used by Leonidas and the Spartans.  As this fit the text and a few lines of code to implement, I wrote the script below and looked for a message starting with `pst{`. which returned the flag as it as the one with 128 character offsets.\n",
    "\n",
    "**FLAG:** `pst{var_julenissen_kong_leonidas}`"
   ]
  },
  {
   "cell_type": "code",
   "execution_count": null,
   "metadata": {},
   "outputs": [],
   "source": [
    "with open(\"./data/20231218-melding.txt\", encoding=\"utf-8\") as cipher:\n",
    "    ciphertext = cipher.read().strip()\n",
    "\n",
    "for offset in range(1,1000):\n",
    "    line = \"\".join([ciphertext[index] for index in range(0, len(ciphertext), offset)])\n",
    "    if \"pst{\" in line:\n",
    "        print(offset, line)"
   ]
  }
 ],
 "metadata": {
  "kernelspec": {
   "display_name": "Python 3",
   "language": "python",
   "name": "python3"
  },
  "language_info": {
   "codemirror_mode": {
    "name": "ipython",
    "version": 3
   },
   "file_extension": ".py",
   "mimetype": "text/x-python",
   "name": "python",
   "nbconvert_exporter": "python",
   "pygments_lexer": "ipython3",
   "version": "3.12.1"
  }
 },
 "nbformat": 4,
 "nbformat_minor": 2
}
