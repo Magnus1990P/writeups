{
 "cells": [
  {
   "cell_type": "markdown",
   "metadata": {},
   "source": [
    "# 20231207 - Alle gode ting er tre\n",
    "Alveresepsjonen fant en mystisk lapp i postboksen til Nissens verksted i dag tidlig.  \n",
    "Vanligvis er dette noe Ronny, Shahana og Ada fra alvdeling for kryptografi ville tatt seg av.  \n",
    "Dessverre er alle tre bortreist på en viktig konferanse i San Francisco for å høre om den siste utviklingen innen eksponenter og modulær aritmetikk.  \n",
    "Kan du steppe inn for dem og finne ut av hva denne beskjeden egentlig er for noe?\n",
    "\n",
    "- [./data/20231207-msg.txt](./data/20231207-msg.txt)\n",
    "\n",
    "## Answer\n",
    "Given that `e` is extremely low, eg. 3 or 7, the cryptogram is reversible using  \n",
    "    `C = M^e => M = M = cuberoot(C)`  \n",
    "since `e=3` we get $M=\\sqrt[3]{C}$\n",
    "\n",
    "Which as a hex number is `0x4e534d7b61663064626431336365653435393930353933633138326232313366393738647d`  \n",
    "Whih when decoded to text, we get the flag\n",
    "\n",
    "**FLAG:** `NSM{af0dbd13cee45990593c182b213f978d}`"
   ]
  },
  {
   "cell_type": "code",
   "execution_count": null,
   "metadata": {},
   "outputs": [],
   "source": [
    "from gmpy2 import iroot\n",
    "N = 0x5993c05eac819aa17ae7e4e4b9f75b2d6fdbaec913e0b2d6f4ba585a991b62279ed9ac53aeadee3327321e02c0c06ecda184952df5d1cc8b3024643c0afdd9bbd52bf2d830f54d6e59e76844394eb0ffc498995dd270b9b95bf1614984472a3ef12d8c1bad64529be7b638c5d0fccf61c5ac2ab4564e5215748eb2533d4d949afd9486426dbf0c06a07c2c0f6d482e4f8cf3052e6ab9df20878b747936d590c3b8bb0219a378cbec03baee4ea8d0641c57bcc18706bbe92c3f2d7569c424062d9b79464958419b4000e3e31c077bba27ef2fc6ed15b7ebdcdb41d1cbf7708737e200904015d341ef94c537a916f1fec61e0b1bf64762e5a97bafdde290b939c3\n",
    "e = 3\n",
    "C = 0x755040806d1d699c76cf2b3fffc28ad8831a8667e1b064297a43733b89f6272483a5a728b725d02b069f8fc65eb51d89ce9133df8f5f2d5e13f63c5423021eb2b56eeb91b11d78717528dfce169450a08d40f5ab451c8ac1f8c6875cffbd4d70259d436ed70baeae37b9bdafc5965\n",
    "hString = hex(iroot(C, e)[0])\n",
    "print(hString)\n",
    "FLAG = [chr(int(hString[index:index+2],16)) for index in range(2,len(hString),2)]\n",
    "print(\"\".join(FLAG))"
   ]
  }
 ],
 "metadata": {
  "kernelspec": {
   "display_name": "Python 3",
   "language": "python",
   "name": "python3"
  },
  "language_info": {
   "codemirror_mode": {
    "name": "ipython",
    "version": 3
   },
   "file_extension": ".py",
   "mimetype": "text/x-python",
   "name": "python",
   "nbconvert_exporter": "python",
   "pygments_lexer": "ipython3",
   "version": "3.11.6"
  }
 },
 "nbformat": 4,
 "nbformat_minor": 2
}
