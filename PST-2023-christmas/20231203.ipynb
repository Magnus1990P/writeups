{
 "cells": [
  {
   "cell_type": "markdown",
   "metadata": {},
   "source": [
    "# 20231203 - Redacted\n",
    "\n",
    "## Task\n",
    "Det er krise!  \n",
    "Filene på alvemaskinene har blitt kryptert, og vi har ingen backups tilgjengelig!  \n",
    "På nissens skrivebord fant vi det vedlagte brevet, sammen med en kryptert fil.  \n",
    "Det er ubeskrivelig viktig at vi får åpnet denne filen igjen umiddelbart, da Jule NISSEN ikke klarer å huske innholdet!  \n",
    "Mellomleder\n",
    "\n",
    "**Vedlegg:**  \n",
    "- [./data/20231203-Mitt_upressingsbrev.docx](./data/20231203-Mitt_upressingsbrev.docx)\n",
    "- [./data/20231203-huskeliste.txt.enc](./data/20231203-huskeliste.txt.enc)"
   ]
  },
  {
   "cell_type": "markdown",
   "metadata": {},
   "source": [
    "## Solution\n",
    "Opening the docx document in WordPad yields some information and the key due to formatting issues.  \n",
    "1. Encryption key: `dda2846b010a6185b5e76aca4144069f88dc7a6ba49bf128`\n",
    "1. It also states they used AES-CTR for the test file.\n",
    "1. The IV is run through ROT13 for increased security\n",
    "1. The IV appears to be \"`<REDACTED> `\" actually redacted\n",
    "1. The Penguin coin address is `43hxBZLYr1`\n",
    "\n",
    "Then further verify these claims through more rigorous methods, opening the docx with 7z yields a set files\n",
    "1. The encryption key appears to be \n",
    "1. The IV appears to be `UtgangsVektor123`\n",
    "\n",
    "Now with the collected evidence, utilising the AES decrypt function on CyberChef.org, successfully decrypts the encrypted text file revealing the answer.  NB! the IV had to be run through ROT13, giving the IV `HgtnatfIrxgbe123` before successfully decryptingt he flag.\n",
    "\n",
    "**FLAG:** `KRIPOS{Husk å se etter spor i snøen!}`\n",
    "\n",
    "----\n",
    "\n",
    "**Decrypted file contents**\n",
    "```\n",
    "Nissing 101:\n",
    "\n",
    "Snille barn: Morosaker, spenstigheter og snurrepiperier\n",
    "Slemme barn: Ukomprimerte diamanter\n",
    "Nissebetjenter: Flagg\n",
    "\n",
    "Forslag til morosaker, spenstigheter og snurrepiperier:\n",
    "Dukker\n",
    "Lekebiler\n",
    "Sokker\n",
    "\n",
    "Forslag til flagg:\n",
    "Norsk\n",
    "Nordpolsk\n",
    "KRIPOS{Husk å se etter spor i snøen!}\n",
    "```\n",
    "\n",
    "<img src=\"./data/20231203-redacted-aes_decrypt.png\" alt=\"CyberChef ASES CTR decryption\" width=\"800\"/>"
   ]
  }
 ],
 "metadata": {
  "language_info": {
   "name": "python"
  }
 },
 "nbformat": 4,
 "nbformat_minor": 2
}
