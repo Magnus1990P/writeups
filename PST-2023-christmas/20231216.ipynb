{
 "cells": [
  {
   "cell_type": "markdown",
   "metadata": {},
   "source": [
    "# 20231216 - Invasjon\n",
    "Gjennom temmelig hemmelige innhentingsmetoder har vi fått tak i det vedlagte dokumentet som avslører den egentlige hensikten bak løsepengeangrepet: Sydpolare aktører planlegger å invadere Nordpolen for å stoppe julen én gang for alle!  \n",
    "I dokumentet nevnes det at aktørene har plantet deep-cover agenter i blant oss, og at de har hemmelige koder for å etablere kontakt med disse.  \n",
    "Analyser materialet og se om du klarer å avsløre de hemmelige kodene slik at vi kan få disse agentene på kroken!  \n",
    "I mellomtiden iverksetter vi umiddelbare mottiltak for å stanse invasjonen.  \n",
    "Tastefinger\n",
    "\n",
    "- [./data/20231216-aksjon_2023.zip](./data/20231216-aksjon_2023.zip)\n",
    "\n",
    "\n",
    "## Answer\n",
    "Looking at the archive it is clear that it is a git repository, and looking at the branches we find many, but one is particularly interesting. `ikke-merge-før-julaften`.\n",
    "\n",
    "This branch contaisn the file `feltagenter_kontaktmanual.md` which sets forth a set of agent names and placeholder values for later use.  \n",
    "```\n",
    "## Koder\n",
    "- Agent \"Julie BÃ¥nd\": KODE_PLACEHOLDER_1\n",
    "- Agent \"Solid Sankt\": KODE_PLACEHOLDER_2\n",
    "- Agent \"Jollyson BÃ¥l\": KODE_PLACEHOLDER_3\n",
    "```\n",
    "After som digging not finding any new entries or old entries where these were changed, I got an idea that it would be related to commit hooks.  Which is scripts that run as you perform actions before or after uploading to the git repository.\n",
    "\n",
    "We then find the file `pre-merge-commit` which contains a script direted at this file, where one of the placeholders is replace with the decoded value of a base64 encoded string.\n",
    "\n",
    "**FLAG:** `KRIPOS{Flagg i alle kriker og kroker}`"
   ]
  }
 ],
 "metadata": {
  "language_info": {
   "name": "python"
  }
 },
 "nbformat": 4,
 "nbformat_minor": 2
}
