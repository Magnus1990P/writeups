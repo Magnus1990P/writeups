{
 "cells": [
  {
   "cell_type": "markdown",
   "metadata": {},
   "source": [
    "# 20231211 - Mystifistisk pakke\n",
    "\n",
    "Heisann alle sammen!\n",
    "\n",
    "Det kom et bud innom med en pakke som vi ikke klarer å finne ut av.  \n",
    "Budet la igjen en post-it lapp med `754c5f94e18f5c53ad96695a4d7fde783693c291341aa2366e046d08cbec6523` på og pakken er vedlagt i meldingen.\n",
    "\n",
    "- 📞 Sentralbordet\n",
    "\n",
    "[./data/20231211-kriapos.zip](./data/20231211-kriapos.zip)\n",
    "\n",
    "\n",
    "## Solution\n",
    "The kriapos.zip file contains the file, `hemmelighet_3.txt`, but requires a password to be extracted. This is the string on the post-it note.\n",
    "\n",
    "The package contains one text file with the text.\n",
    "```\n",
    "Hemmelighet #3\n",
    "fc78e6fee2138b798e1e51ed15e0a109\n",
    "```"
   ]
  },
  {
   "cell_type": "markdown",
   "metadata": {},
   "source": [
    "# 20231211 - Informasjonsdeling\n",
    "NISSENS verksted har mottatt en mystisk melding og litt kode for å dekryptere meldingen.  \n",
    "Noen alver i førstelinjen har sett på det, og blir ikke helt kloke. De mistenker at kun denne ene hemmeligheten ikke er nok.\n",
    "\n",
    "Kanskje er det andre som sitter på mer info?\n",
    "\n",
    "- Mellomleder\n",
    "\n",
    "[./data/20231211-filer.zip](./data/20231211-filer.zip)\n",
    "\n",
    "## Solution\n",
    "The filer.zip file contains two files, `dekrypter_melding.py` and `melding.enc`.\n",
    "\n",
    "The issue here is that a decryption key is missing, and needs to be discovered and added for a successfull decryption.\n",
    "\n",
    "So, given the received task which prompts for information sharing, and that one secret might not be enough. Along with the question that someone would be sitting on the other secrets, we can summasize that the three organization we could join in the CTF means others have received different secrets.\n",
    "\n",
    "So after contacting people on the Discord server, we get the secrets from NPST and NISM, since I was KRIAPOS.\n",
    "\n",
    "The resulting data was then \n",
    "```\n",
    "hex_str1 = \"a3c5a5a81ebc62c6144a9dc1ae5cce11\"\n",
    "hex_str2 = \"980daad49738f76b80c8fafb0673ff1b\"\n",
    "hex_str3 = \"fc78e6fee2138b798e1e51ed15e0a109\"\n",
    "```\n"
   ]
  },
  {
   "cell_type": "code",
   "execution_count": null,
   "metadata": {},
   "outputs": [],
   "source": [
    "\n",
    "hex_str1 = 0xa3c5a5a81ebc62c6144a9dc1ae5cce11\n",
    "hex_str2 = 0x980daad49738f76b80c8fafb0673ff1b\n",
    "hex_str3 = 0xfc78e6fee2138b798e1e51ed15e0a109\n",
    "\n",
    "hex3 = (hex_str1 | hex_str2) | hex_str3\n",
    "print(hex3.to_bytes(32))\n",
    "hex3 = (hex_str1 & hex_str2) & hex_str3\n",
    "print(hex3.to_bytes(32))\n",
    "hex3 = (hex_str1 ^ hex_str2) ^ hex_str3\n",
    "print(hex3.to_bytes(32))\n",
    "\n",
    "byte_array = hex3.to_bytes(16, byteorder=\"little\")\n",
    "print(hex3, byte_array, byte_array.decode(\"ascii\"))\n",
    "\n",
    "print(hex_str1, byte_array)\n",
    "print(hex_str2)\n",
    "print(hex_str3)\n"
   ]
  },
  {
   "cell_type": "code",
   "execution_count": null,
   "metadata": {},
   "outputs": [],
   "source": [
    "from Crypto.Cipher import AES\n",
    "from base64 import b64decode\n",
    "import json\n",
    "\n",
    "key = b'\\x1b\\xffs\\x06\\xfb\\xfa\\xc8\\x80k\\xf78\\x97\\xd4\\xaa\\r\\x98\\x11\\xce\\\\\\xae\\xc1\\x9dJ\\x14\\xc6b\\xbc\\x1e\\xa8\\xa5\\xc5\\xa3'\n",
    "\n",
    "with open(\"./ida/filer/melding.enc\", \"rb\") as f:\n",
    "    try:\n",
    "        data = json.loads(f.read())\n",
    "        nonce = b64decode(data[\"nonce\"])\n",
    "        ciphertext = b64decode(data[\"ciphertext\"])\n",
    "        tag = b64decode(data[\"tag\"])\n",
    "\n",
    "        cipher = AES.new(key, AES.MODE_GCM, nonce=nonce)\n",
    "        plaintext = cipher.decrypt_and_verify(ciphertext, tag)\n",
    "        print(\"Dekryptert melding: \" + plaintext.decode('utf-8'))\n",
    "    except (ValueError, KeyError):\n",
    "        print(\"Oisann, noe gikk galt!\")"
   ]
  },
  {
   "cell_type": "code",
   "execution_count": null,
   "metadata": {},
   "outputs": [],
   "source": [
    "import hashlib\n",
    "\n",
    "password = \"qwerty123\"\n",
    "key = hashlib.sha256(password.encode()).digest()\n",
    "\n",
    "key"
   ]
  },
  {
   "cell_type": "code",
   "execution_count": null,
   "metadata": {},
   "outputs": [],
   "source": [
    "hex_str1 = 0xa3c5a5a81ebc62c6144a9dc1ae5cce11\n",
    "hex_str2 = 0x980daad49738f76b80c8fafb0673ff1b\n",
    "hex_str3 = 0xfc78e6fee2138b798e1e51ed15e0a109\n",
    "\n",
    "#c = 0xa3c5a5a81ebc62c6144a9dc1ae5cce11980daad49738f76b80c8fafb0673ff1bfc78e6fee2138b798e1e51ed15e0a109\n",
    "c = 0xa3c5a5a81ebc62c6144a9dc1ae5cce11980daad49738f76b80c8fafb0673ff1b\n",
    "print(c)\n",
    "\n",
    "byte_array = c.to_bytes(32, byteorder=\"little\")\n",
    "print(c.to_bytes(32))\n",
    "print(byte_array)\n",
    "print(256/8)"
   ]
  }
 ],
 "metadata": {
  "kernelspec": {
   "display_name": "Python 3",
   "language": "python",
   "name": "python3"
  },
  "language_info": {
   "codemirror_mode": {
    "name": "ipython",
    "version": 3
   },
   "file_extension": ".py",
   "mimetype": "text/x-python",
   "name": "python",
   "nbconvert_exporter": "python",
   "pygments_lexer": "ipython3",
   "version": "3.11.6"
  }
 },
 "nbformat": 4,
 "nbformat_minor": 2
}
