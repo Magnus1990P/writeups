{
 "cells": [
  {
   "cell_type": "markdown",
   "metadata": {},
   "source": [
    "# 20231204 - Pinneved\n",
    "## Task\n",
    "Alvebetjentene på Jule NISSEN sitt verksted våknet i dag til et fryktelig syn; Julenissens slede er sprengt i fillebiter.  \n",
    "Vi har satt folk på saken for å finne ut av hvem som er ansvarlig for ødeleggelsen, men det er kritisk at sleden blir reparert slik at vi får testet den før Jule NISSEN skal levere pakkene.  \n",
    "Alvebetjentene har samlet vrakrestene, samt verktøyet de mistenker at sabotørene har brukt.  \n",
    "Vi trenger at du rekonstruerer sleden så fort som mulig!  \n",
    "Tastefinger\n",
    "\n",
    "**Vedlegg:**  \n",
    "- [./data/20231204-pinneved.py](./data/20231204-pinneved.py)\n",
    "- [./data/20231204-pinneved.txt](./data/20231204-pinneved.txt)"
   ]
  },
  {
   "cell_type": "markdown",
   "metadata": {},
   "source": [
    "## Information gathering\n",
    "1. Data exploderes i 24 fragmenter\n",
    "1. Data krypteres med ROT2\n",
    "1. Data reorganiseres iht statisk liste (otp)\n",
    "1. Data skrives til fil"
   ]
  },
  {
   "cell_type": "markdown",
   "metadata": {},
   "source": [
    "## Answer\n",
    "1. Kopier otp-liste\n",
    "1. les fil, og splitt i 24 deler\n",
    "1. reverser, otp-liste\n",
    "1. reorganiser lista iht index fra otp-liste\n",
    "1. Kjør text gjennom inverse ROT2 (transpose -2 characters)\n",
    "1. Skriv data til fil\n",
    "1. Les svaret i filen som inneholder ASCI art\n",
    "\n",
    "**FLAG:** `PST{ASCII_art_er_kult}`\n",
    "\n",
    "<img src=\"./data/20231204-pinneved_answer.png\" alt=\"Pinneved løsning\" width=\"600\"/>"
   ]
  },
  {
   "cell_type": "code",
   "execution_count": null,
   "metadata": {},
   "outputs": [],
   "source": [
    "otp = [23, 2, 0, 5, 13, 16, 22, 7, 9, 4, 19, 21, 18, 10, 20, 11, 12, 14, 6, 1, 3, 8, 17, 15]\n",
    "#Les fil, finn lengde og del filen opp i len(otp) deler\n",
    "with open(\"./data/pinneved.txt\") as vedhaug:\n",
    "    ved = vedhaug.read()\n",
    "    size = len(ved) // 24\n",
    "    data = [ved[i:i+size] for i in range(0, len(ved), size)]\n",
    "#Reverser OTP og lag en string array\n",
    "otp_rev = otp[::-1] \n",
    "data_ordered = [\"\" for i in otp]\n",
    "#Fix organiser fragmentene\n",
    "for i in range(24):\n",
    "    data_ordered[otp_rev[i]] = data[i]\n",
    "#Roter ROT2 text tilbake til korrekt verdi og skriv svar til fil\n",
    "assembled = [''.join([chr(ord(c)-2) for c in fragment]) for fragment in data_ordered]\n",
    "with open(\"test.txt\", \"w\") as file:\n",
    "    file.write(''.join(assembled))"
   ]
  }
 ],
 "metadata": {
  "language_info": {
   "name": "python"
  }
 },
 "nbformat": 4,
 "nbformat_minor": 2
}
