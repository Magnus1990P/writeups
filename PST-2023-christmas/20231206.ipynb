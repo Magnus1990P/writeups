{
 "cells": [
  {
   "cell_type": "markdown",
   "metadata": {},
   "source": [
    "# 20231206 - KAKER-kontroll\n",
    "I en standard KAKER-kontroll (Kontroll Av Kommuniké med Eksport-Restriksjoner) har det blitt tatt en kopi av dette dokumentet.  \n",
    "Vi syns det er snodig at akkurat denne personen har hatt med seg dokumentet siden personen har hatt anti-jul-holdninger tidligere, og vi vil derfor at du tar en nærmere kikk for å se etter uhumskheter.  \n",
    "Tastefinger\n",
    "\n",
    "- [./data/20231206-KAKER-kontroll.txt](./data/20231206-KAKER-kontroll.txt)"
   ]
  },
  {
   "cell_type": "markdown",
   "metadata": {},
   "source": [
    "## Answer\n",
    "Looking at the recipe, nothing seems off as it is the correct recipies, except some of the ingredients are in a different order.  The recipe appeared to be lifted off MatPrat.no, https://www.matprat.no/oppskrifter/tradisjon/pepperkaker/, given the steps are exactly the same.\n",
    "\n",
    "But somehow the text is not equal as a \"find in text\" search does not find the stego message. So something is off.\n",
    "\n",
    "Viewing it in a different editor, we see that it has hidden items, zero-width whitespace, which has the ord value of `8205`.\n",
    "\n",
    "Using this I extracted the characters before and after the whitespace-character with ord value `8205`. Which yielded the flag in plaintext as the character following the whitespace.\n",
    "\n",
    "**Flag:** `PST{PepperkakerErMotbydelige}`"
   ]
  },
  {
   "cell_type": "code",
   "execution_count": null,
   "metadata": {},
   "outputs": [],
   "source": [
    "# Script for decoding the hidden message\n",
    "with open(\"./data/20231206-KAKER-kontroll.txt\", encoding=\"utf-8\") as stego_file:\n",
    "    encrypted = stego_file.read().strip()\n",
    "print(\"\".join([encrypted[index+1] for index in range(len(encrypted)) if ord(encrypted[index]) == 8205]))"
   ]
  }
 ],
 "metadata": {
  "kernelspec": {
   "display_name": "Python 3",
   "language": "python",
   "name": "python3"
  },
  "language_info": {
   "codemirror_mode": {
    "name": "ipython",
    "version": 3
   },
   "file_extension": ".py",
   "mimetype": "text/x-python",
   "name": "python",
   "nbconvert_exporter": "python",
   "pygments_lexer": "ipython3",
   "version": "3.12.1"
  }
 },
 "nbformat": 4,
 "nbformat_minor": 2
}
