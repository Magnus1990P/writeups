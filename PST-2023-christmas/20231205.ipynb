{
 "cells": [
  {
   "cell_type": "markdown",
   "metadata": {},
   "source": [
    "# 20231205 - Muldvarpjakt\n",
    "## Task\n",
    "Gjennom temmelig hemmelige innhentingsmetoder har vi fanget opp en melding om et nært forestående møte på Fastlands-Norge mellom en mistenkt kildefører som jobber for sydpolare tjenester og et ukjent objekt vi mistenker kan være en muldvarp.\n",
    "\n",
    "For at våre spaningsalver skal settes i stand til å observere møtet og identifisere det ukjente objektet må vi vite hvor vi skal sende våre alver.\n",
    "\n",
    "Vi prøvde å spørre OSINT-alvene våre, men de var travelt opptatt med å saumfare sosiale medier etter snille og slemme barn. De mumlet noe om at vi kunne fikse det selv med “turbo overgang”.\n",
    "\n",
    "Kan du ut fra meldingen finne ut hvor de skal møtes?\n",
    "  - Ta bussen og gå av på holdeplassen rett ved begravelsesbyrået som ligger inntil en sjømatbutikk.\n",
    "  - Jeg vil stå klar ved fontenen noen titalls meter fra bussholdeplassen.\n",
    "  - Når du har kommet frem til fontenen,\n",
    "    - vil vi sammen gå til det nærliggende biblioteket som ligger under 50 meter fra fontenen og gjennomfører overføringen.\n",
    "\n",
    "Svar meg med navnet på møtestedet og på formen `PST{BERGEN LUFTHAVN}`\n",
    "\n",
    "- Tastefinger"
   ]
  },
  {
   "cell_type": "markdown",
   "metadata": {},
   "source": [
    "## Answer:\n",
    "Googling \"Turbo overgang\" turned up the service \"Overpass Turbo\", https://overpass-turbo.eu, which allows for nested search of things in geospatial datasets. Eg. bus stops, libraries and fountains.  All of which is needed for this query.\n",
    "\n",
    "The hard part is figuring out of the custom query language, but the final query below returned a set of libraries within in 50m of a fountain which is also in a \"few tens of meters\" of a bus stop. Which I set to \"<=50m\".\n",
    "\n",
    "Limiting the resulting set to Norways geospatial area It is a manageable set to search manually. And by sheer luck the first test was a node in Drøbak. Which by manual check also lay in the vicinity of two neighbouring businesses, a Funeral home and seafood shop.  The two additional clauses to look for, yielding the flag.\n",
    "\n",
    "**Flag:** `PST{FROGN BIBLIOTEK}`\n",
    "\n",
    "<img src=\"./data/20231205-overpass_turbo_find.png\" alt=\"Overpass Turbo map\" width=\"800\"/>\n",
    "\n",
    "## Overpass  query:\n",
    "```\n",
    "[out:json][timeout:25];\n",
    "node({{bbox}})[amenity=fountain]->.fountains;\n",
    "(\n",
    "  node(around.fountains:50)[highway=bus_stop]->.bus_stops;\n",
    "  (\n",
    "  \tnode(around.fountains:50)[amenity=library]->.libraries;\n",
    "  );\n",
    ");\n",
    "(.libraries;>;);\n",
    "out meta;\n",
    "```"
   ]
  }
 ],
 "metadata": {
  "language_info": {
   "name": "python"
  }
 },
 "nbformat": 4,
 "nbformat_minor": 2
}
