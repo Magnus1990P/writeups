{
 "cells": [
  {
   "cell_type": "markdown",
   "metadata": {},
   "source": [
    "# 20231209 - Kronolokalisering\n",
    "Gjennom et beslag har vi fått tak i et papirark.  \n",
    "På den ene siden står det “Oppmøtested for den topphemmelige sydpolinfiltrasjonen 2023, rekognosering 23. november”.  \n",
    "På den andre siden av arket er det et bilde.  \n",
    "For å kunne hente inn overvåkingsbilder og identifisere hvem som har planlagt arrangementet trenger vi det nøyaktige tidspunktet bildet er tatt.  \n",
    "Send meg svar på denne eposten som KRIPOS{tidspunkt}, f.eks. KRIPOS{23:35}, rundet av til nærmeste fem minutter.  \n",
    "Mellomleder\n",
    "\n",
    "<img src=\"./data/20231209-kronolokalisering_bilde.jpeg\" alt=\"Europol Headquarter\" width=\"400\"/>"
   ]
  },
  {
   "cell_type": "markdown",
   "metadata": {},
   "source": [
    "## Answer\n",
    "This was quite simple, but do to rate limiting I missed it a couple of times, since I was submitting answers around the 13:30 mark.\n",
    "\n",
    "The first thing I attempted was using Google Bard to solve it using generic AI, but no dice.  Allthough it gave med the building and location which was step one.\n",
    "\n",
    "After viewing the image I was guessing it either be hidden metadata, stego or OSINT.  Stego i disregarded and metadata turned up nothing after some light testing.\n",
    "\n",
    "**Initial failed solution**  \n",
    "I tried using the shadow to assess the time using shadowmap.org, https://app.shadowmap.org, which only gives you the current day if you don't pay 100NOK for a months subscription.  Which is why this method failed I believe, since the image was known to be taken on the 23rd of November.\n",
    "\n",
    "After assessing the building and the min to max shadow area I reasoned it would be between 13:30 and 14:20, in which I tried a few. Also before this improved estimation I believed it was taken between 13 and 14, but nothing hit due to rate limits I believe.\n",
    "\n",
    "**Successful solution**  \n",
    "Using a wee bit of trigonometry and Google earth for estimating lengths I calculated the angle of the building, which is rotated ~25 degrees North-East.  And the thrown shadow was calculated to be at an angle of ~12.5 degrees north-east.  Meaning the sun is a wee bit to the south-west.\n",
    "\n",
    "The coordinates of the location, is 52.092769 N and 4.282158 E.\n",
    "\n",
    "With this information (coordinates, date and time zone) we found the answer on the first attempt using omni calculator, https://www.omnicalculator.com/physics/sun-angle.  By ploting the graph using the suns azimuth, we get the time being when the azimuth is $180+12=192$ given that the sun is located in the south.\n",
    "\n",
    "So the clock at Azimuth=192 is `13:20`, which was the correct answer.\n",
    "\n",
    "**FLAG:** `KRIPOS{13:20}`"
   ]
  }
 ],
 "metadata": {
  "language_info": {
   "name": "python"
  }
 },
 "nbformat": 4,
 "nbformat_minor": 2
}
