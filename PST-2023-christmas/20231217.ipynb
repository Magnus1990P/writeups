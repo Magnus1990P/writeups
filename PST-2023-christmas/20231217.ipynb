{
 "cells": [
  {
   "cell_type": "markdown",
   "metadata": {},
   "source": [
    "# 20231217 - Innebygde ord\n",
    "Vi har snappet opp to meldinger som ble sendt til hovedobjektet i J-SAK EMBED.  \n",
    "Vi mistenker at meldingene ikke er hva det ser ut til å være.\n",
    "\n",
    "Den første meldingen som ble sendt var en merkelig tekst om å telle, mens melding nummer to bare ser ut til å være en rekke med tall.  \n",
    "Vi tror det er en betydning i disse tallene, kan du se på det og gi oss tilbakemelding hvis du finner noe meningsfylt?  \n",
    "Tastefinger\n",
    "\n",
    "- [./data/20231217-melding1.txt](./data/20231217-melding1.txt)\n",
    "- [./data/20231217-melding2.txt](./data/20231217-melding2.txt)\n",
    "\n",
    "\n",
    "## Answer\n",
    "Looking at the index list, I tried directly accessing the indexes of the text in different ways.  Unsuccessfully.  \n",
    "After another look, i generated a set of unique characters using `list(set(text))`, which failed since the characters were out of order.  \n",
    "Fixing the order, as they appear in the text we get the flag.\n",
    "\n",
    "**FLAG:** `pst{nede for telling}`"
   ]
  },
  {
   "cell_type": "code",
   "execution_count": null,
   "metadata": {},
   "outputs": [],
   "source": [
    "indexes = [26, 6, 3, 0, 16, 4, 8, 4, 7, 21, 19, 14, 7, 3, 4, 5, 5, 25, 16, 11, 1]\n",
    "with open(\"./data/20231217-melding1.txt\", encoding=\"utf-8\") as stego_file:\n",
    "    data = stego_file.read()\n",
    "\n",
    "uni = []\n",
    "for char in data:\n",
    "    if char not in uni:\n",
    "        uni.append(char)\n",
    "\n",
    "flag = [uni[index] for index in indexes]\n",
    "print(\"\".join(flag))"
   ]
  }
 ],
 "metadata": {
  "kernelspec": {
   "display_name": "Python 3",
   "language": "python",
   "name": "python3"
  },
  "language_info": {
   "codemirror_mode": {
    "name": "ipython",
    "version": 3
   },
   "file_extension": ".py",
   "mimetype": "text/x-python",
   "name": "python",
   "nbconvert_exporter": "python",
   "pygments_lexer": "ipython3",
   "version": "3.12.1"
  }
 },
 "nbformat": 4,
 "nbformat_minor": 2
}
