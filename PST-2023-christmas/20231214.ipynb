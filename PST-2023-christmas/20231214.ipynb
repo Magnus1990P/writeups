{
 "cells": [
  {
   "cell_type": "markdown",
   "metadata": {},
   "source": [
    "# 20231214 - Bokorm\n",
    "En snok vi mistenker å stå i ledetog med Pen GWYN har blitt arrestert etter å ha brutt seg inn i NordPolarBiblioteket og stjålet noen bøker.  \n",
    "Vi mistenker at de har vært ute etter noe spesifikt, men vi blir ikke helt kloke på hva det er.  \n",
    "Snoken ble tatt med en stabel bøker og et notat.\n",
    "\n",
    "Bøkene har vi gitt tilbake til biblioteket, men her er en liste av dem som ble stjålet:\n",
    "- X Norrøn arverett og samfunnsstruktur\n",
    "- X Radium og radioaktive stoffer, samt nyere opdagelser angaaende straaler\n",
    "- X Undertrykking av objekter med høy luminans ved hjelp av en romlig lysmodulator under avbildning med CCD- og lysforsterkningskamera\n",
    "- Om den yngre Jernalder i Norge: 1. afdeling\n",
    "- Storlogens Konstitution og Tillægslove\n",
    "- Sild- og saltfiskretter\n",
    "\n",
    "Notatet inneholdt dette her:\n",
    "```\n",
    "(55, 1, 2, 1), (65, 17, 6, 3), (19, 3, 8, 1),   (13, 5, 6, 2),  (14, 11, 4, 8),  (27, 32, 12, 2), \n",
    "(9, 7, 12, 3), (82, 5, 2, 8),  (78, 3, 11, 1),  (71, 5, 1, 8),  (76, 1, 6, 2),   (92, 1, 1, 1), \n",
    "(50, 2, 1, 5), (15, 1, 1, 1),  (82, 16, 10, 4), (23, 6, 1, 1),  (34, 16, 7, 1),  (92, 11, 3, 2), \n",
    "(50, 5, 6, 1), (1, 3, 5, 12),  (42, 2, 1, 1),   (15, 3, 1, 3),  (23, 8, 1, 2),   (90, 2, 5, 1), \n",
    "(83, 1, 1, 2), (59, 29, 9, 4), (93, 4, 1, 16),  (82, 8, 3, 5),  (39, 1, 1, 8),   (77, 7, 9, 1), \n",
    "(93, 8, 6, 8), (1, 1, 3, 6),   (83, 10, 8, 1),  (23, 1, 1, 1),  (69, 2, 9, 2),   (76, 12, 3, 4), \n",
    "(7, 1, 3, 1),  (3, 9, 9, 2),   (19, 1, 6, 10),  (93, 14, 7, 5), (13, 31, 7, 10), (3, 1, 9, 2), \n",
    "(7, 2, 6, 1),  (23, 19, 4, 3), (50, 6, 5, 11)\n",
    "```\n",
    "Send svar til meg om du finner ut av det.\n",
    "\n",
    "- Tastefinger\n",
    "\n",
    "# Solution\n",
    "\n",
    "**FLAG:** `PST{boKstavJakt}`\n",
    "\n",
    "First I tried finding an online version of the books listed, some returned a public copy.  One of which was a fit, but during som sampling, one of the pages was just images.\n",
    "\n",
    "After partially solving the book cipher using the book [\"Om den yngre jernalder i Norge\"](https://www.nb.no/items/ca795dec965d2fb7abb5dffa71a7f81c?page=83), I got the following. Allthough it contains a few errors it was possible to interpret the flag.  \n",
    "`p s t k r ø l l P a r e n T l S b o K s t a v J a k t k r Ø d l a a r e v t e s s l U t t`"
   ]
  }
 ],
 "metadata": {
  "language_info": {
   "name": "python"
  }
 },
 "nbformat": 4,
 "nbformat_minor": 2
}
