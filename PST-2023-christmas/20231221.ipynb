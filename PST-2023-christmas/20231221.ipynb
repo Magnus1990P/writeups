{
 "cells": [
  {
   "cell_type": "markdown",
   "metadata": {},
   "source": [
    "# 20231221 - Rudolf \"The Stag\"'s Pepperkaker\n",
    "Nasjonens sikkerhetsalver leter febrilsk etter sin temmelig hemmelige pepperkakeoppskrift, men det peker til at Rudolf \"The Stag\" kanskje har spist opp denne.  \n",
    "Klarer du skanne \"The Stag\"'s kropp og lese av denne før den går sin naturlige gang og blir borte for alltid?  \n",
    "Mellomleder\n",
    "\n",
    "## Answer\n",
    "\n",
    "**FLAG:** ``"
   ]
  },
  {
   "cell_type": "code",
   "execution_count": null,
   "metadata": {},
   "outputs": [],
   "source": []
  },
  {
   "cell_type": "code",
   "execution_count": null,
   "metadata": {},
   "outputs": [],
   "source": [
    "from PIL import Image, ImageShow\n",
    "import numpy as np\n",
    "img_org = Image.open(\"20231221/rudolph.png\")\n",
    "X,Y = img_org.size\n",
    "\n",
    "img_R = img_org.getchannel(\"R\")\n",
    "img_G = img_org.getchannel(\"G\")\n",
    "img_B = img_org.getchannel(\"B\")\n",
    "\n",
    "bit_list = []\n",
    "for y in range(10):\n",
    "    for x in range(X):\n",
    "        val = img_R.getpixel(xy=[x,y]) ^ img_B.getpixel(xy=[x,y])\n",
    "        bit_list.append(val)\n",
    "\n",
    "data = []\n",
    "for index in range(0, len(bit_list), X):\n",
    "    data.append(\"\".join([f\"{val}\" for val in bit_list[index:index+X]]))\n",
    "\n",
    "str_lines=[]\n",
    "for line in data:\n",
    "    str_val = \"\"\n",
    "    print(l)\n",
    "    for index in range(0,len(line),2):\n",
    "        val = int(line[index:index+1], 10)\n",
    "        str_val += chr(val)\n",
    "    print(str_val)\n"
   ]
  }
 ],
 "metadata": {
  "kernelspec": {
   "display_name": "Python 3",
   "language": "python",
   "name": "python3"
  },
  "language_info": {
   "codemirror_mode": {
    "name": "ipython",
    "version": 3
   },
   "file_extension": ".py",
   "mimetype": "text/x-python",
   "name": "python",
   "nbconvert_exporter": "python",
   "pygments_lexer": "ipython3",
   "version": "3.12.1"
  }
 },
 "nbformat": 4,
 "nbformat_minor": 2
}
