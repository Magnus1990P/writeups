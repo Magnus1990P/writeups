{
 "cells": [
  {
   "cell_type": "code",
   "execution_count": null,
   "metadata": {},
   "outputs": [],
   "source": [
    "from pwn import *\n",
    "\n",
    "ticket = b\"ticket{ZipcodeTransit772n23:FhkAoRZncvmDEQmwyqe56J4jd9BYbc5YJmlsvulr-BcVhRj2}\"\n",
    "host = \"rest-and-attest-tbjffclmcnxkq.shellweplayaga.me\"\n",
    "port = 10001\n",
    "\n",
    "con = remote(host,port)\n",
    "print(\"Connected\")\n",
    "con.sendline(ticket)\n",
    "print(ticket)\n",
    "\n",
    "print(con.recvline(timeout=1).decode())\n",
    "print(con.recvline(timeout=1).decode())\n",
    "\n",
    "con.sendline(b\"download\")\n",
    "print(\"download\")\n",
    "\n",
    "recv = con.recvline(timeout=1)\n",
    "source = bytearray.fromhex(recv[2:-1].decode())\n",
    "print(source)\n",
    "\n",
    "with open(\"rest-and-attest.bin\", \"wb\") as fw:\n",
    "    fw.write(source)"
   ]
  }
 ],
 "metadata": {
  "kernelspec": {
   "display_name": "Python 3",
   "language": "python",
   "name": "python3"
  },
  "language_info": {
   "codemirror_mode": {
    "name": "ipython",
    "version": 3
   },
   "file_extension": ".py",
   "mimetype": "text/x-python",
   "name": "python",
   "nbconvert_exporter": "python",
   "pygments_lexer": "ipython3",
   "version": "3.11.3"
  },
  "orig_nbformat": 4
 },
 "nbformat": 4,
 "nbformat_minor": 2
}
