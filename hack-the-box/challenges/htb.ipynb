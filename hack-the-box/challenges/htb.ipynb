{
 "cells": [
  {
   "cell_type": "code",
   "execution_count": null,
   "metadata": {},
   "outputs": [],
   "source": [
    "from zipfile import ZipFile\n",
    "from PIL import Image, ImageOps\n",
    "import numpy as np\n",
    "import json\n",
    "\n",
    "with open(\"morse.json\", \"r\" ) as m:\n",
    "    morsecode = json.load(m)"
   ]
  },
  {
   "cell_type": "code",
   "execution_count": null,
   "metadata": {},
   "outputs": [],
   "source": [
    "def decode_password( image ):\n",
    "    img         = ImageOps.grayscale( ImageOps.autocontrast( Image.open( image, mode=\"r\") ) )\n",
    "    img.save( image+\"gray.png\"  )\n",
    "    sizeX,sizeY = img.size\n",
    "    ndImg       = np.asarray(img)\n",
    "    ndImg       -= ndImg[0][0]\n",
    "    morseLines  = [\"\",]*int((sizeY-1)/2)\n",
    "    \n",
    "    print( ndImg )\n",
    "\n",
    "    yCount = 0\n",
    "    for imgLine in ndImg[1::2]:\n",
    "        morseLine = \"\"\n",
    "        count = 0\n",
    "        for i in imgLine[1:-1]:\n",
    "            if i != 0:\n",
    "                count += 1\n",
    "            elif i == 0 and count > 0:\n",
    "                morseLine += \".\" if count == 1 else \"-\"\n",
    "                count = 0\n",
    "        morseLines[yCount] = morseLine\n",
    "        yCount += 1\n",
    "    \n",
    "    pwd = \"\"\n",
    "    for morseLine in morseLines:\n",
    "        if morseLine in morsecode:\n",
    "            pwd += morsecode[morseLine]\n",
    "    return bytes(pwd.lower(), 'utf-8')"
   ]
  },
  {
   "cell_type": "code",
   "execution_count": null,
   "metadata": {},
   "outputs": [],
   "source": [
    "def parseArchive( fname:str=\"\", passwd=\"\", dest=\"\" ):\n",
    "    newZip = False\n",
    "    cFiles = []\n",
    "    with ZipFile( fname, \"r\" ) as zf:\n",
    "        cFiles = zf.namelist()\n",
    "        for cFile in cFiles:\n",
    "            if cFile.replace(\"flag/\",\"\").startswith(\"flag_\"):\n",
    "                newZip = True\n",
    "            zf.extractall( path=dest, pwd=passwd)\n",
    "    return newZip, cFiles\n",
    "\n",
    "cont        = True\n",
    "archCount   = 2000\n",
    "fname = \"M0rsarchive.zip\"\n",
    "passwd = b\"hackthebox\"\n",
    "\n",
    "fname = \"unzipped_1121/flag/flag_878.zip\"\n",
    "passwd = b'ggimk7poj29vtckcud5qyy365v'\n",
    "\n",
    "while cont:\n",
    "    cont, files = parseArchive( fname, passwd, \"unzipped_{}\".format(archCount) )\n",
    "    if not cont:\n",
    "        print(\"MATCH\")\n",
    "        print(files)\n",
    "        print(  \"unzipped_{}\".format(archCount)  )\n",
    "        break\n",
    "    for fn in files:\n",
    "        if \".zip\" in fn:\n",
    "            fname = \"unzipped_{}/{}\".format(archCount, fn)\n",
    "        elif \".png\" in fn:\n",
    "            passwd = decode_password( \"unzipped_{}/{}\".format(archCount, fn) )\n",
    "    print( fname, passwd )\n",
    "    archCount += 1\n",
    "    print( \"-\"*20 )"
   ]
  }
 ],
 "metadata": {
  "interpreter": {
   "hash": "2be5faf79681da6f2a61fdfdd5405d65d042280f7fba6178067603e3a2925119"
  },
  "kernelspec": {
   "display_name": "Python 3.10.4 64-bit",
   "language": "python",
   "name": "python3"
  },
  "language_info": {
   "codemirror_mode": {
    "name": "ipython",
    "version": 3
   },
   "file_extension": ".py",
   "mimetype": "text/x-python",
   "name": "python",
   "nbconvert_exporter": "python",
   "pygments_lexer": "ipython3",
   "version": "3.10.4"
  },
  "orig_nbformat": 4
 },
 "nbformat": 4,
 "nbformat_minor": 2
}
