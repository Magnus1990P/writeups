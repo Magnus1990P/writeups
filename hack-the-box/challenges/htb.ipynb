{
 "cells": [
  {
   "cell_type": "code",
   "execution_count": 1,
   "metadata": {},
   "outputs": [],
   "source": [
    "from zipfile import ZipFile\n",
    "from PIL import Image, ImageOps\n",
    "import numpy as np\n",
    "import json\n",
    "\n",
    "with open(\"morse.json\", \"r\" ) as m:\n",
    "    morsecode = json.load(m)\n"
   ]
  },
  {
   "cell_type": "code",
   "execution_count": 4,
   "metadata": {},
   "outputs": [],
   "source": [
    "\n"
   ]
  },
  {
   "cell_type": "code",
   "execution_count": 42,
   "metadata": {},
   "outputs": [],
   "source": [
    "def decode_password( image ):\n",
    "    img         = ImageOps.grayscale( ImageOps.autocontrast( Image.open( image, mode=\"r\") ) )\n",
    "    img.save( image+\"gray.png\"  )\n",
    "    sizeX,sizeY = img.size\n",
    "    ndImg       = np.asarray(img)\n",
    "    ndImg       -= ndImg[0][0]\n",
    "    morseLines  = [\"\",]*int((sizeY-1)/2)\n",
    "    \n",
    "    print( ndImg )\n",
    "\n",
    "    yCount = 0\n",
    "    for imgLine in ndImg[1::2]:\n",
    "        morseLine = \"\"\n",
    "        count = 0\n",
    "        for i in imgLine[1:-1]:\n",
    "            if i != 0:\n",
    "                count += 1\n",
    "            elif i == 0 and count > 0:\n",
    "                morseLine += \".\" if count == 1 else \"-\"\n",
    "                count = 0\n",
    "        morseLines[yCount] = morseLine\n",
    "        yCount += 1\n",
    "    \n",
    "    pwd = \"\"\n",
    "    for morseLine in morseLines:\n",
    "        if morseLine in morsecode:\n",
    "            pwd += morsecode[morseLine]\n",
    "    return bytes(pwd.lower(), 'utf-8')\n"
   ]
  },
  {
   "cell_type": "code",
   "execution_count": 41,
   "metadata": {},
   "outputs": [
    {
     "name": "stdout",
     "output_type": "stream",
     "text": [
      "[ 77 124 124 124  77 124  77 124 124 124  77 124  77  77  77  77  77  77\n",
      "  77  77  77  77  77  77  77]\n",
      "[ 0 47 47 47  0 47  0 47 47 47  0 47  0  0  0  0  0  0  0  0  0  0  0  0\n",
      "  0]\n",
      "[[ 0  0  0 ...  0  0  0]\n",
      " [ 0 47 47 ...  0  0  0]\n",
      " [ 0  0  0 ...  0  0  0]\n",
      " ...\n",
      " [ 0  0  0 ...  0  0  0]\n",
      " [ 0 47 47 ...  0  0  0]\n",
      " [ 0  0  0 ...  0  0  0]]\n",
      "cgxb4loftxnsvcr4y6b0ars7dn\n",
      "unzipped_2000/flag/flag_877.zip b'cgxb4loftxnsvcr4y6b0ars7dn'\n",
      "--------------------\n",
      "[ 57 104 104 104  57 104 104 104  57 104  57 104 104 104  57  57  57  57\n",
      "  57  57  57  57  57  57  57]\n",
      "[ 0 47 47 47  0 47 47 47  0 47  0 47 47 47  0  0  0  0  0  0  0  0  0  0\n",
      "  0]\n",
      "[[ 0  0  0 ...  0  0  0]\n",
      " [ 0 47 47 ...  0  0  0]\n",
      " [ 0  0  0 ...  0  0  0]\n",
      " ...\n",
      " [ 0  0  0 ...  0  0  0]\n",
      " [ 0 47 47 ...  0  0  0]\n",
      " [ 0  0  0 ...  0  0  0]]\n",
      "qrturgfscur2lmr49suso4itf6\n",
      "unzipped_2001/flag/flag_876.zip b'qrturgfscur2lmr49suso4itf6'\n",
      "--------------------\n"
     ]
    },
    {
     "ename": "KeyboardInterrupt",
     "evalue": "",
     "output_type": "error",
     "traceback": [
      "\u001b[1;31m---------------------------------------------------------------------------\u001b[0m",
      "\u001b[1;31mKeyboardInterrupt\u001b[0m                         Traceback (most recent call last)",
      "\u001b[1;32mc:\\git\\htb\\htb.ipynb Cell 4'\u001b[0m in \u001b[0;36m<cell line: 20>\u001b[1;34m()\u001b[0m\n\u001b[0;32m     <a href='vscode-notebook-cell:/c%3A/git/htb/htb.ipynb#ch0000003?line=28'>29</a>\u001b[0m         fname \u001b[39m=\u001b[39m \u001b[39m\"\u001b[39m\u001b[39munzipped_\u001b[39m\u001b[39m{}\u001b[39;00m\u001b[39m/\u001b[39m\u001b[39m{}\u001b[39;00m\u001b[39m\"\u001b[39m\u001b[39m.\u001b[39mformat(archCount, fn)\n\u001b[0;32m     <a href='vscode-notebook-cell:/c%3A/git/htb/htb.ipynb#ch0000003?line=29'>30</a>\u001b[0m     \u001b[39melif\u001b[39;00m \u001b[39m\"\u001b[39m\u001b[39m.png\u001b[39m\u001b[39m\"\u001b[39m \u001b[39min\u001b[39;00m fn:\n\u001b[1;32m---> <a href='vscode-notebook-cell:/c%3A/git/htb/htb.ipynb#ch0000003?line=30'>31</a>\u001b[0m         passwd \u001b[39m=\u001b[39m decode_password( \u001b[39m\"\u001b[39;49m\u001b[39munzipped_\u001b[39;49m\u001b[39m{}\u001b[39;49;00m\u001b[39m/\u001b[39;49m\u001b[39m{}\u001b[39;49;00m\u001b[39m\"\u001b[39;49m\u001b[39m.\u001b[39;49mformat(archCount, fn) )\n\u001b[0;32m     <a href='vscode-notebook-cell:/c%3A/git/htb/htb.ipynb#ch0000003?line=31'>32</a>\u001b[0m \u001b[39mprint\u001b[39m( fname, passwd )\n\u001b[0;32m     <a href='vscode-notebook-cell:/c%3A/git/htb/htb.ipynb#ch0000003?line=32'>33</a>\u001b[0m archCount \u001b[39m+\u001b[39m\u001b[39m=\u001b[39m \u001b[39m1\u001b[39m\n",
      "\u001b[1;32mc:\\git\\htb\\htb.ipynb Cell 3'\u001b[0m in \u001b[0;36mdecode_password\u001b[1;34m(image)\u001b[0m\n\u001b[0;32m      <a href='vscode-notebook-cell:/c%3A/git/htb/htb.ipynb#ch0000002?line=0'>1</a>\u001b[0m \u001b[39mdef\u001b[39;00m \u001b[39mdecode_password\u001b[39m( image ):\n\u001b[0;32m      <a href='vscode-notebook-cell:/c%3A/git/htb/htb.ipynb#ch0000002?line=1'>2</a>\u001b[0m     img         \u001b[39m=\u001b[39m ImageOps\u001b[39m.\u001b[39mgrayscale( ImageOps\u001b[39m.\u001b[39mautocontrast( Image\u001b[39m.\u001b[39mopen( image, mode\u001b[39m=\u001b[39m\u001b[39m\"\u001b[39m\u001b[39mr\u001b[39m\u001b[39m\"\u001b[39m) ) )\n\u001b[1;32m----> <a href='vscode-notebook-cell:/c%3A/git/htb/htb.ipynb#ch0000002?line=2'>3</a>\u001b[0m     img\u001b[39m.\u001b[39;49mshow()\n\u001b[0;32m      <a href='vscode-notebook-cell:/c%3A/git/htb/htb.ipynb#ch0000002?line=3'>4</a>\u001b[0m     img\u001b[39m.\u001b[39msave( image\u001b[39m+\u001b[39m\u001b[39m\"\u001b[39m\u001b[39mgray.png\u001b[39m\u001b[39m\"\u001b[39m  )\n\u001b[0;32m      <a href='vscode-notebook-cell:/c%3A/git/htb/htb.ipynb#ch0000002?line=4'>5</a>\u001b[0m     sizeX,sizeY \u001b[39m=\u001b[39m img\u001b[39m.\u001b[39msize\n",
      "File \u001b[1;32m~\\AppData\\Roaming\\Python\\Python310\\site-packages\\PIL\\Image.py:2354\u001b[0m, in \u001b[0;36mImage.show\u001b[1;34m(self, title)\u001b[0m\n\u001b[0;32m   <a href='file:///c%3A/Users/localadmin/AppData/Roaming/Python/Python310/site-packages/PIL/Image.py?line=2333'>2334</a>\u001b[0m \u001b[39mdef\u001b[39;00m \u001b[39mshow\u001b[39m(\u001b[39mself\u001b[39m, title\u001b[39m=\u001b[39m\u001b[39mNone\u001b[39;00m):\n\u001b[0;32m   <a href='file:///c%3A/Users/localadmin/AppData/Roaming/Python/Python310/site-packages/PIL/Image.py?line=2334'>2335</a>\u001b[0m     \u001b[39m\"\"\"\u001b[39;00m\n\u001b[0;32m   <a href='file:///c%3A/Users/localadmin/AppData/Roaming/Python/Python310/site-packages/PIL/Image.py?line=2335'>2336</a>\u001b[0m \u001b[39m    Displays this image. This method is mainly intended for debugging purposes.\u001b[39;00m\n\u001b[0;32m   <a href='file:///c%3A/Users/localadmin/AppData/Roaming/Python/Python310/site-packages/PIL/Image.py?line=2336'>2337</a>\u001b[0m \n\u001b[1;32m   (...)\u001b[0m\n\u001b[0;32m   <a href='file:///c%3A/Users/localadmin/AppData/Roaming/Python/Python310/site-packages/PIL/Image.py?line=2350'>2351</a>\u001b[0m \u001b[39m    :param title: Optional title to use for the image window, where possible.\u001b[39;00m\n\u001b[0;32m   <a href='file:///c%3A/Users/localadmin/AppData/Roaming/Python/Python310/site-packages/PIL/Image.py?line=2351'>2352</a>\u001b[0m \u001b[39m    \"\"\"\u001b[39;00m\n\u001b[1;32m-> <a href='file:///c%3A/Users/localadmin/AppData/Roaming/Python/Python310/site-packages/PIL/Image.py?line=2353'>2354</a>\u001b[0m     _show(\u001b[39mself\u001b[39;49m, title\u001b[39m=\u001b[39;49mtitle)\n",
      "File \u001b[1;32m~\\AppData\\Roaming\\Python\\Python310\\site-packages\\PIL\\Image.py:3348\u001b[0m, in \u001b[0;36m_show\u001b[1;34m(image, **options)\u001b[0m\n\u001b[0;32m   <a href='file:///c%3A/Users/localadmin/AppData/Roaming/Python/Python310/site-packages/PIL/Image.py?line=3344'>3345</a>\u001b[0m \u001b[39mdef\u001b[39;00m \u001b[39m_show\u001b[39m(image, \u001b[39m*\u001b[39m\u001b[39m*\u001b[39moptions):\n\u001b[0;32m   <a href='file:///c%3A/Users/localadmin/AppData/Roaming/Python/Python310/site-packages/PIL/Image.py?line=3345'>3346</a>\u001b[0m     \u001b[39mfrom\u001b[39;00m \u001b[39m.\u001b[39;00m \u001b[39mimport\u001b[39;00m ImageShow\n\u001b[1;32m-> <a href='file:///c%3A/Users/localadmin/AppData/Roaming/Python/Python310/site-packages/PIL/Image.py?line=3347'>3348</a>\u001b[0m     ImageShow\u001b[39m.\u001b[39mshow(image, \u001b[39m*\u001b[39m\u001b[39m*\u001b[39moptions)\n",
      "File \u001b[1;32m~\\AppData\\Roaming\\Python\\Python310\\site-packages\\PIL\\ImageShow.py:61\u001b[0m, in \u001b[0;36mshow\u001b[1;34m(image, title, **options)\u001b[0m\n\u001b[0;32m     <a href='file:///c%3A/Users/localadmin/AppData/Roaming/Python/Python310/site-packages/PIL/ImageShow.py?line=51'>52</a>\u001b[0m \u001b[39mr\u001b[39m\u001b[39m\"\"\"\u001b[39;00m\n\u001b[0;32m     <a href='file:///c%3A/Users/localadmin/AppData/Roaming/Python/Python310/site-packages/PIL/ImageShow.py?line=52'>53</a>\u001b[0m \u001b[39mDisplay a given image.\u001b[39;00m\n\u001b[0;32m     <a href='file:///c%3A/Users/localadmin/AppData/Roaming/Python/Python310/site-packages/PIL/ImageShow.py?line=53'>54</a>\u001b[0m \n\u001b[1;32m   (...)\u001b[0m\n\u001b[0;32m     <a href='file:///c%3A/Users/localadmin/AppData/Roaming/Python/Python310/site-packages/PIL/ImageShow.py?line=57'>58</a>\u001b[0m \u001b[39m:returns: ``True`` if a suitable viewer was found, ``False`` otherwise.\u001b[39;00m\n\u001b[0;32m     <a href='file:///c%3A/Users/localadmin/AppData/Roaming/Python/Python310/site-packages/PIL/ImageShow.py?line=58'>59</a>\u001b[0m \u001b[39m\"\"\"\u001b[39;00m\n\u001b[0;32m     <a href='file:///c%3A/Users/localadmin/AppData/Roaming/Python/Python310/site-packages/PIL/ImageShow.py?line=59'>60</a>\u001b[0m \u001b[39mfor\u001b[39;00m viewer \u001b[39min\u001b[39;00m _viewers:\n\u001b[1;32m---> <a href='file:///c%3A/Users/localadmin/AppData/Roaming/Python/Python310/site-packages/PIL/ImageShow.py?line=60'>61</a>\u001b[0m     \u001b[39mif\u001b[39;00m viewer\u001b[39m.\u001b[39mshow(image, title\u001b[39m=\u001b[39mtitle, \u001b[39m*\u001b[39m\u001b[39m*\u001b[39moptions):\n\u001b[0;32m     <a href='file:///c%3A/Users/localadmin/AppData/Roaming/Python/Python310/site-packages/PIL/ImageShow.py?line=61'>62</a>\u001b[0m         \u001b[39mreturn\u001b[39;00m \u001b[39mTrue\u001b[39;00m\n\u001b[0;32m     <a href='file:///c%3A/Users/localadmin/AppData/Roaming/Python/Python310/site-packages/PIL/ImageShow.py?line=62'>63</a>\u001b[0m \u001b[39mreturn\u001b[39;00m \u001b[39mFalse\u001b[39;00m\n",
      "File \u001b[1;32m~\\AppData\\Roaming\\Python\\Python310\\site-packages\\PIL\\ImageShow.py:85\u001b[0m, in \u001b[0;36mViewer.show\u001b[1;34m(self, image, **options)\u001b[0m\n\u001b[0;32m     <a href='file:///c%3A/Users/localadmin/AppData/Roaming/Python/Python310/site-packages/PIL/ImageShow.py?line=81'>82</a>\u001b[0m     \u001b[39mif\u001b[39;00m image\u001b[39m.\u001b[39mmode \u001b[39m!=\u001b[39m base:\n\u001b[0;32m     <a href='file:///c%3A/Users/localadmin/AppData/Roaming/Python/Python310/site-packages/PIL/ImageShow.py?line=82'>83</a>\u001b[0m         image \u001b[39m=\u001b[39m image\u001b[39m.\u001b[39mconvert(base)\n\u001b[1;32m---> <a href='file:///c%3A/Users/localadmin/AppData/Roaming/Python/Python310/site-packages/PIL/ImageShow.py?line=84'>85</a>\u001b[0m \u001b[39mreturn\u001b[39;00m \u001b[39mself\u001b[39m\u001b[39m.\u001b[39mshow_image(image, \u001b[39m*\u001b[39m\u001b[39m*\u001b[39moptions)\n",
      "File \u001b[1;32m~\\AppData\\Roaming\\Python\\Python310\\site-packages\\PIL\\ImageShow.py:111\u001b[0m, in \u001b[0;36mViewer.show_image\u001b[1;34m(self, image, **options)\u001b[0m\n\u001b[0;32m    <a href='file:///c%3A/Users/localadmin/AppData/Roaming/Python/Python310/site-packages/PIL/ImageShow.py?line=108'>109</a>\u001b[0m \u001b[39mdef\u001b[39;00m \u001b[39mshow_image\u001b[39m(\u001b[39mself\u001b[39m, image, \u001b[39m*\u001b[39m\u001b[39m*\u001b[39moptions):\n\u001b[0;32m    <a href='file:///c%3A/Users/localadmin/AppData/Roaming/Python/Python310/site-packages/PIL/ImageShow.py?line=109'>110</a>\u001b[0m     \u001b[39m\"\"\"Display the given image.\"\"\"\u001b[39;00m\n\u001b[1;32m--> <a href='file:///c%3A/Users/localadmin/AppData/Roaming/Python/Python310/site-packages/PIL/ImageShow.py?line=110'>111</a>\u001b[0m     \u001b[39mreturn\u001b[39;00m \u001b[39mself\u001b[39m\u001b[39m.\u001b[39mshow_file(\u001b[39mself\u001b[39m\u001b[39m.\u001b[39msave_image(image), \u001b[39m*\u001b[39m\u001b[39m*\u001b[39moptions)\n",
      "File \u001b[1;32m~\\AppData\\Roaming\\Python\\Python310\\site-packages\\PIL\\ImageShow.py:131\u001b[0m, in \u001b[0;36mViewer.show_file\u001b[1;34m(self, path, **options)\u001b[0m\n\u001b[0;32m    <a href='file:///c%3A/Users/localadmin/AppData/Roaming/Python/Python310/site-packages/PIL/ImageShow.py?line=128'>129</a>\u001b[0m     \u001b[39melse\u001b[39;00m:\n\u001b[0;32m    <a href='file:///c%3A/Users/localadmin/AppData/Roaming/Python/Python310/site-packages/PIL/ImageShow.py?line=129'>130</a>\u001b[0m         \u001b[39mraise\u001b[39;00m \u001b[39mTypeError\u001b[39;00m(\u001b[39m\"\u001b[39m\u001b[39mMissing required argument: \u001b[39m\u001b[39m'\u001b[39m\u001b[39mpath\u001b[39m\u001b[39m'\u001b[39m\u001b[39m\"\u001b[39m)\n\u001b[1;32m--> <a href='file:///c%3A/Users/localadmin/AppData/Roaming/Python/Python310/site-packages/PIL/ImageShow.py?line=130'>131</a>\u001b[0m os\u001b[39m.\u001b[39;49msystem(\u001b[39mself\u001b[39;49m\u001b[39m.\u001b[39;49mget_command(path, \u001b[39m*\u001b[39;49m\u001b[39m*\u001b[39;49moptions))\n\u001b[0;32m    <a href='file:///c%3A/Users/localadmin/AppData/Roaming/Python/Python310/site-packages/PIL/ImageShow.py?line=131'>132</a>\u001b[0m \u001b[39mreturn\u001b[39;00m \u001b[39m1\u001b[39m\n",
      "\u001b[1;31mKeyboardInterrupt\u001b[0m: "
     ]
    }
   ],
   "source": [
    "def parseArchive( fname:str=\"\", passwd=\"\", dest=\"\" ):\n",
    "    newZip = False\n",
    "    cFiles = []\n",
    "    with ZipFile( fname, \"r\" ) as zf:\n",
    "        cFiles = zf.namelist()\n",
    "        for cFile in cFiles:\n",
    "            if cFile.replace(\"flag/\",\"\").startswith(\"flag_\"):\n",
    "                newZip = True\n",
    "            zf.extractall( path=dest, pwd=passwd)\n",
    "    return newZip, cFiles\n",
    "\n",
    "cont        = True\n",
    "archCount   = 2000\n",
    "fname = \"M0rsarchive.zip\"\n",
    "passwd = b\"hackthebox\"\n",
    "\n",
    "fname = \"unzipped_1121/flag/flag_878.zip\"\n",
    "passwd = b'ggimk7poj29vtckcud5qyy365v'\n",
    "\n",
    "while cont:\n",
    "    cont, files = parseArchive( fname, passwd, \"unzipped_{}\".format(archCount) )\n",
    "    if not cont:\n",
    "        print(\"MATCH\")\n",
    "        print(files)\n",
    "        print(  \"unzipped_{}\".format(archCount)  )\n",
    "        break\n",
    "    for fn in files:\n",
    "        if \".zip\" in fn:\n",
    "            fname = \"unzipped_{}/{}\".format(archCount, fn)\n",
    "        elif \".png\" in fn:\n",
    "            passwd = decode_password( \"unzipped_{}/{}\".format(archCount, fn) )\n",
    "    print( fname, passwd )\n",
    "    archCount += 1\n",
    "    print( \"-\"*20 )\n"
   ]
  }
 ],
 "metadata": {
  "interpreter": {
   "hash": "2be5faf79681da6f2a61fdfdd5405d65d042280f7fba6178067603e3a2925119"
  },
  "kernelspec": {
   "display_name": "Python 3.10.4 64-bit",
   "language": "python",
   "name": "python3"
  },
  "language_info": {
   "codemirror_mode": {
    "name": "ipython",
    "version": 3
   },
   "file_extension": ".py",
   "mimetype": "text/x-python",
   "name": "python",
   "nbconvert_exporter": "python",
   "pygments_lexer": "ipython3",
   "version": "3.10.4"
  },
  "orig_nbformat": 4
 },
 "nbformat": 4,
 "nbformat_minor": 2
}
