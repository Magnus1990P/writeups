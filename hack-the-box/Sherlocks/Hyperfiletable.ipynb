{
 "cells": [
  {
   "cell_type": "markdown",
   "metadata": {},
   "source": [
    "# Hyperfiletable\n",
    "Easy\n",
    "\n",
    "**Scenario:**  \n",
    "There has been a new joiner in Forela, they have downloaded their onboarding documentation, however someone has managed to phish the user with a malicious attachment. We have only managed to pull the MFT record for the new user, are you able to triage this information?"
   ]
  },
  {
   "cell_type": "markdown",
   "metadata": {},
   "source": [
    "RecordOffset|Signature|IntegrityCheck|Style|HEADER_MFTREcordNumber|HEADER_SequenceNo|Header_HardLinkCount|FN_ParentReferenceNo|FN_ParentSequenceNo|FN_FileName|FilePath|HEADER_Flags|RecordActive|FileSizeBytes|\n",
    "SI_FilePermission|FN_Flags|FN_NameType|ADS|SI_CTime|SI_ATime|SI_MTime|SI_RTime|MSecTest|FN_CTime|FN_ATime|FN_MTime|FN_RTime|CTimeTest|FN_AllocSize|FN_RealSize|FN_EaSize|SI_USN|DATA_Name|DATA_Flags|DATA_LengthOfAttribute|DATA_IndexedFlag|DATA_VCNs|DATA_NonResidentFlag|DATA_CompressionUnitSize|HEADER_LSN|HEADER_RecordRealSize|HEADER_RecordAllocSize|HEADER_BaseRecord|HEADER_BaseRecSeqNo|HEADER_NextAttribID|DATA_AllocatedSize|DATA_RealSize|DATA_InitializedStreamSize|SI_HEADER_Flags|SI_MaxVersions|SI_VersionNumber|SI_ClassID|SI_OwnerID|SI_SecurityID|SI_Quota|FN_CTime_2|FN_ATime_2|FN_MTime_2|FN_RTime_2|FN_AllocSize_2|FN_RealSize_2|FN_EaSize_2|FN_Flags_2|FN_NameLength_2|FN_NameType_2|FN_FileName_2|GUID_ObjectID|GUID_BirthVolumeID|GUID_BirthObjectID|GUID_DomainID|VOLUME_NAME_NAME|VOL_INFO_NTFS_VERSION|VOL_INFO_FLAGS|FN_CTime_3|FN_ATime_3|FN_MTime_3|FN_RTime_3|FN_AllocSize_3|FN_RealSize_3|FN_EaSize_3|FN_Flags_3|FN_NameLength_3|FN_NameType_3|FN_FileName_3|DATA_Name_2|DATA_NonResidentFlag_2|DATA_Flags_2|DATA_LengthOfAttribute_2|DATA_IndexedFlag_2|DATA_StartVCN_2|DATA_LastVCN_2|DATA_VCNs_2|DATA_CompressionUnitSize_2|DATA_AllocatedSize_2|DATA_RealSize_2|DATA_InitializedStreamSize_2|DATA_Name_3|DATA_NonResidentFlag_3|DATA_Flags_3|DATA_LengthOfAttribute_3|DATA_IndexedFlag_3|DATA_StartVCN_3|DATA_LastVCN_3|DATA_VCNs_3|DATA_CompressionUnitSize_3|DATA_AllocatedSize_3|DATA_RealSize_3|DATA_InitializedStreamSize_3|STANDARD_INFORMATION_ON|ATTRIBUTE_LIST_ON|FILE_NAME_ON|OBJECT_ID_ON|SECURITY_DESCRIPTOR_ON|VOLUME_NAME_ON|VOLUME_INFORMATION_ON|DATA_ON|INDEX_ROOT_ON|INDEX_ALLOCATION_ON|BITMAP_ON|REPARSE_POINT_ON|EA_INFORMATION_ON|EA_ON|PROPERTY_SET_ON|LOGGED_UTILITY_STREAM_ON|DT_DataRun\n",
    "\n",
    "HEADER_MFTREcordNumber 103820\n",
    "FN_ParentReferenceNo 105011\n",
    "FilePath :\\Users\\Randy Savage\\Downloads\\Onboarding.hta\n",
    "0x06563000|GOOD|OK||103820|7|2|105011|2|ONBOAR~1.HTA|:\\Users\\Randy Savage\\Downloads\\Onboarding.hta|FILE|ALLOCATED|1144|archive|archive|DOS|1|2023-04-05 13:21:40.0706726|2023-04-05 13:21:45.6478863|2023-04-05 13:21:45.6478863|2023-04-05 13:22:00.9916344|0|2023-04-05 13:21:40.0706726|2023-04-05 13:21:40.0732403|2023-04-05 13:21:40.2279587|2023-04-05 13:21:40.0732403|0|4096|1144|0|27166224|||||0|01|0|375731114|920|1024|0|0|0x000A|4096|1144|1144||0|0|0|0|1793|0|2023-04-05 13:21:40.0706726|2023-04-05 13:21:40.0732403|2023-04-05 13:21:40.2279587|2023-04-05 13:21:40.0732403|4096|1144|0|archive|14|WIN32|Onboarding.hta|||||||||||||||||||Zone.Identifier|00||389|0||||||||||||||||||||1|0|1|0|0|0|0|1|0|0|0|0|0|0|0|0|3101F6B114000000\n",
    "\n",
    "105552\n",
    "105011\n",
    ":\\Users\\Randy Savage\\Downloads\\desktop.ini\n",
    "0x06714000|GOOD|OK||105552|2|1|105011|2|desktop.ini|:\\Users\\Randy Savage\\Downloads\\desktop.ini|FILE|ALLOCATED|282|hidden+system+archive|hidden+system+archive|DOS+WIN32|0|2023-04-05 12:55:10.8457150|2023-04-05 12:55:10.8612752|2023-04-05 12:55:10.8612752|2023-04-05 13:21:53.2070335|0|2023-04-05 12:55:10.8457150|2023-04-05 12:55:10.8457150|2023-04-05 12:55:10.8457150|2023-04-05 12:55:10.8457150|0|0|0|0|22422664|||282|0||00||375736509|584|1024|0|0|0x0003|||||0|0|0|0|1793|0||||||||||||||||||||||||||||||||||||||||||||||||||||||1|0|1|0|0|0|0|1|0|0|0|0|0|0|0|0|\n",
    "\n",
    "105011\n",
    "105003\n",
    ":\\Users\\Randy Savage\\Downloads\n",
    "0x0668CC00|GOOD|OK||105011|2|2|105003|2|DOWNLO~1|:\\Users\\Randy Savage\\Downloads|FOLDER|ALLOCATED||read_only|directory|DOS||2023-04-05 12:54:38.4315689|2023-04-05 13:21:44.8247099|2023-04-05 13:21:44.8247099|2023-04-05 13:21:51.8046023|0|2023-04-05 12:54:38.4315689|2023-04-05 12:54:38.4315689|2023-04-05 12:54:38.4315689|2023-04-05 12:54:38.4315689|0|0|0|0|22445584||||||||375734348|632|1024|0|0|0x0008|||||0|0|0|0|1792|0|2023-04-05 12:54:38.4315689|2023-04-05 12:54:38.4315689|2023-04-05 12:54:38.4315689|2023-04-05 12:54:38.4315689|0|0|0|directory|9|WIN32|Downloads|{1E55D6F5-D3B0-11ED-B576-080027054E68}|NOT PRESENT|NOT PRESENT|NOT PRESENT|||||||||||||||||||||||||||||||||||||||1|0|1|1|0|0|0|0|1|1|1|0|0|0|0|0|31011D9E09000000\n",
    "\n",
    "\n",
    "\n",
    "2023-04-05 13:11:49.7425214\n",
    "05/04/2023 13:11:49\n",
    "0x06725800|GOOD|OK||105622|4|2|107430|3|PROPOS~1.PPT|:\\Users\\Randy Savage\\Documents\\Work\\Proposal.pptx|FILE|DELETED|16552989|archive|archive|DOS|1|2023-04-05 13:11:49.7425214|2023-04-05 13:11:53.9605745|2023-04-05 13:12:14.5858420|2023-04-05 13:11:53.9605745|0|2023-04-05 13:11:49.7425214|2023-04-05 13:11:53.9605745|2023-04-05 13:11:53.9605745|2023-04-05 13:11:53.9605745|0|16556032|16552989|0|26143496|||||4041|01|0|375276644|1000|1024|0|0|0x000C|16556032|16552989|16552989||0|0|0|0|1793|0|2023-04-05 13:11:49.7425214|2023-04-05 13:11:53.9605745|2023-04-05 13:11:53.9605745|2023-04-05 13:11:53.9605745|16556032|16552989|0|archive|13|WIN32|Proposal.pptx|||||||||||||||||||Zone.Identifier|00||253|0||||||||||||||||||||1|0|1|0|0|0|0|1|0|0|0|0|0|0|0|0|310354CD0D3109FE7717310370C6E1311E470F26312A8175F9312D2796E8313F72760831671437ED3167C6E4023139E4B1053286003E3AFC214551FD32AB00A0580D31100FA9F631300BFDFB2146812D317ABC06FE31216E8901316797970D329800C4071631363BD5DC317A67D80332A00073F1183167BCDCF6328A00D2DAFA3139FC4BF1329C00DE9D03316ACA470A3281003050F931585FB6FE32A7005116FA3158912E1C329C008394F1329D00C680F032B000EEB91E22C000548C31492C89F132A600F409F6328100595406316903EF183290009467E000000000000000\n"
   ]
  },
  {
   "cell_type": "code",
   "execution_count": 10,
   "metadata": {},
   "outputs": [],
   "source": [
    "a = r\"\"\"RecordOffset|Signature|IntegrityCheck|Style|HEADER_MFTREcordNumber|HEADER_SequenceNo|Header_HardLinkCount|FN_ParentReferenceNo|FN_ParentSequenceNo|FN_FileName|FilePath|HEADER_Flags|RecordActive|FileSizeBytes|SI_FilePermission|FN_Flags|FN_NameType|ADS|SI_CTime|SI_ATime|SI_MTime|SI_RTime|MSecTest|FN_CTime|FN_ATime|FN_MTime|FN_RTime|CTimeTest|FN_AllocSize|FN_RealSize|FN_EaSize|SI_USN|DATA_Name|DATA_Flags|DATA_LengthOfAttribute|DATA_IndexedFlag|DATA_VCNs|DATA_NonResidentFlag|DATA_CompressionUnitSize|HEADER_LSN|HEADER_RecordRealSize|HEADER_RecordAllocSize|HEADER_BaseRecord|HEADER_BaseRecSeqNo|HEADER_NextAttribID|DATA_AllocatedSize|DATA_RealSize|DATA_InitializedStreamSize|SI_HEADER_Flags|SI_MaxVersions|SI_VersionNumber|SI_ClassID|SI_OwnerID|SI_SecurityID|SI_Quota|FN_CTime_2|FN_ATime_2|FN_MTime_2|FN_RTime_2|FN_AllocSize_2|FN_RealSize_2|FN_EaSize_2|FN_Flags_2|FN_NameLength_2|FN_NameType_2|FN_FileName_2|GUID_ObjectID|GUID_BirthVolumeID|GUID_BirthObjectID|GUID_DomainID|VOLUME_NAME_NAME|VOL_INFO_NTFS_VERSION|VOL_INFO_FLAGS|FN_CTime_3|FN_ATime_3|FN_MTime_3|FN_RTime_3|FN_AllocSize_3|FN_RealSize_3|FN_EaSize_3|FN_Flags_3|FN_NameLength_3|FN_NameType_3|FN_FileName_3|DATA_Name_2|DATA_NonResidentFlag_2|DATA_Flags_2|DATA_LengthOfAttribute_2|DATA_IndexedFlag_2|DATA_StartVCN_2|DATA_LastVCN_2|DATA_VCNs_2|DATA_CompressionUnitSize_2|DATA_AllocatedSize_2|DATA_RealSize_2|DATA_InitializedStreamSize_2|DATA_Name_3|DATA_NonResidentFlag_3|DATA_Flags_3|DATA_LengthOfAttribute_3|DATA_IndexedFlag_3|DATA_StartVCN_3|DATA_LastVCN_3|DATA_VCNs_3|DATA_CompressionUnitSize_3|DATA_AllocatedSize_3|DATA_RealSize_3|DATA_InitializedStreamSize_3|STANDARD_INFORMATION_ON|ATTRIBUTE_LIST_ON|FILE_NAME_ON|OBJECT_ID_ON|SECURITY_DESCRIPTOR_ON|VOLUME_NAME_ON|VOLUME_INFORMATION_ON|DATA_ON|INDEX_ROOT_ON|INDEX_ALLOCATION_ON|BITMAP_ON|REPARSE_POINT_ON|EA_INFORMATION_ON|EA_ON|PROPERTY_SET_ON|LOGGED_UTILITY_STREAM_ON|DT_DataRun\n",
    "0x06563000|GOOD|OK||103820|7|2|105011|2|ONBOAR~1.HTA|:\\Users\\Randy Savage\\Downloads\\Onboarding.hta|FILE|ALLOCATED|1144|archive|archive|DOS|1|2023-04-05 13:21:40.0706726|2023-04-05 13:21:45.6478863|2023-04-05 13:21:45.6478863|2023-04-05 13:22:00.9916344|0|2023-04-05 13:21:40.0706726|2023-04-05 13:21:40.0732403|2023-04-05 13:21:40.2279587|2023-04-05 13:21:40.0732403|0|4096|1144|0|27166224|||||0|01|0|375731114|920|1024|0|0|0x000A|4096|1144|1144||0|0|0|0|1793|0|2023-04-05 13:21:40.0706726|2023-04-05 13:21:40.0732403|2023-04-05 13:21:40.2279587|2023-04-05 13:21:40.0732403|4096|1144|0|archive|14|WIN32|Onboarding.hta|||||||||||||||||||Zone.Identifier|00||389|0||||||||||||||||||||1|0|1|0|0|0|0|1|0|0|0|0|0|0|0|0|3101F6B114000000\"\"\".split(\"\\n\")\n",
    "\n",
    "columns = a[0].lower().split(\"|\")\n",
    "data = a[1].split(\"|\")\n",
    "\n",
    "csv = zip(columns, data)\n",
    "for line in csv:\n",
    "    if \"zone\" in line[0]:\n",
    "        print(f\"{line[0]} {line[1]}\")"
   ]
  }
 ],
 "metadata": {
  "kernelspec": {
   "display_name": "Python 3",
   "language": "python",
   "name": "python3"
  },
  "language_info": {
   "codemirror_mode": {
    "name": "ipython",
    "version": 3
   },
   "file_extension": ".py",
   "mimetype": "text/x-python",
   "name": "python",
   "nbconvert_exporter": "python",
   "pygments_lexer": "ipython3",
   "version": "3.12.0"
  }
 },
 "nbformat": 4,
 "nbformat_minor": 2
}
