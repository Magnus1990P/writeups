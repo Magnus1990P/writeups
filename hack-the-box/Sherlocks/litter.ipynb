{
 "cells": [
  {
   "cell_type": "markdown",
   "metadata": {},
   "source": [
    "# Litter\n",
    "\n",
    "Khalid has just logged onto a host that he and his team use as a testing host for many different purposes, it’s off their corporate network but has access to lots of resources in network.  \n",
    "The host is used as a dumping ground for a lot of people at the company but it’s very useful, so no one has raised any issues.  \n",
    "Little does Khalid know; the machine has been compromised and company information that should not have been on there has now been stolen – it’s up to you to figure out what has happened and what data has been taken."
   ]
  },
  {
   "cell_type": "code",
   "execution_count": null,
   "metadata": {},
   "outputs": [],
   "source": [
    "import csv\n",
    "DNS_records = []\n",
    "with open(\"litter/data.csv\") as csvfile:\n",
    "    data = csv.reader(csvfile)\n",
    "    for index,row in enumerate(data):\n",
    "        if index == 0:\n",
    "            continue\n",
    "        text = row[6]\n",
    "        if not text.endswith(\"microsofto365.com\"):\n",
    "            continue\n",
    "        records = text[text.rfind(\" \")+1:text.rfind(\".microsoft\")].split(\".\")\n",
    "        for record in records:\n",
    "            for r in record.split(\"00\"):\n",
    "                print(f\"{r}\")\n",
    "        #print(index, row[6], records, ascii)"
   ]
  }
 ],
 "metadata": {
  "kernelspec": {
   "display_name": "Python 3",
   "language": "python",
   "name": "python3"
  },
  "language_info": {
   "codemirror_mode": {
    "name": "ipython",
    "version": 3
   },
   "file_extension": ".py",
   "mimetype": "text/x-python",
   "name": "python",
   "nbconvert_exporter": "python",
   "pygments_lexer": "ipython3",
   "version": "3.12.1"
  }
 },
 "nbformat": 4,
 "nbformat_minor": 2
}
