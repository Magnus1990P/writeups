{
 "cells": [
  {
   "cell_type": "markdown",
   "metadata": {},
   "source": [
    "# Bumblebee\n",
    "Easy\n",
    "\n",
    "**Scenario**  \n",
    "An external contractor has accessed the internal forum here at Forela via the Guest WiFi and they appear to have stolen credentials for the administrative user! We have attached some logs from the forum and a full database dump in sqlite3 format to help you in your investigation."
   ]
  },
  {
   "cell_type": "markdown",
   "metadata": {},
   "source": [
    "## Evidence\n",
    "1. Log file\n",
    "1. PHPBB SQLITE3 database"
   ]
  },
  {
   "cell_type": "markdown",
   "metadata": {},
   "source": [
    "## Solutions\n",
    "- Task 1: What was the username of the external contractor?\n",
    "    - Shown in db table `phpbb_users`, which lists two users as contractors\n",
    "    - Either  `apoole` or `apoole1`\n",
    "    - Answer: `apoole1`\n",
    "- Task 2: What IP address did the contractor use to create their account?\n",
    "    - Shown in th db same table as above, in column `user_ip`\n",
    "    - Answer: `10.10.0.78`\n",
    "- Task 3: What is the post_id of the malicious post that the contractor made?\n",
    "    - Shown in db table `phpbb_posts`, which lists three posts\n",
    "    - The malicious post is the one, in which column `post_text` contains a large HTML formatted text\n",
    "    - Answer: `9`\n",
    "- Task 4: What is the full URI that the credential stealer sends its data to?\n",
    "    - Copying the HTML from previous answer into a HTML beautyfier online, we get a more readable HTML text\n",
    "    - This shows a form, which submits data to `http://10.10.0.78/update.php`\n",
    "    - Answer: `http://10.10.0.78/update.php`\n",
    "- Task 5: When did the contractor log into the forum as the administrator? (UTC)\n",
    "    - The answer resides in the database table `phpbb_log`, and the login events of interest are `log_id` 52 and 61\n",
    "    - The timestamp for these events are found in column `log_time` and must be converted to UTC timestamps, see code below\n",
    "    - The correct `log_id` is 61, with `log_time` = `1682506392`\n",
    "    - Answer: `26/04/2023 10:53:12`\n",
    "- Task 6: In the forum there are plaintext credentials for the LDAP connection, what is the password?\n",
    "    - This is stored in the database, table `phpbb_config`, under the `config_name` `ldap_password`\n",
    "    - Answer: `Passw0rd1`\n",
    "- Task 7: What is the user agent of the Administrator user?\n",
    "    - Parsing the access logs gave three User agents, of which this matched\n",
    "    - Answer: `Mozilla/5.0 (Macintosh; Intel Mac OS X 10_15_7) AppleWebKit/537.36 (KHTML, like Gecko) Chrome/112.0.0.0 Safari/537.36`\n",
    "- Task 8: What time did the contractor add themselves to the Administrator group? (UTC)\n",
    "    - The answer resides in the database table `phpbb_log`, and the login events of interest are `log_id` 62, with `log_time` = `1682506431`\n",
    "    - Answer: `26/04/2023 10:53:51`\n",
    "- Task 9: What time did the contractor download the database backup? (UTC)\n",
    "    - Looking at the access log file, we see the initialization of two downloads\n",
    "    - The \"end\" log entry is the one without a URL, and a large size field\n",
    "    - Answer: `26/04/2023 11:01:38`\n",
    "- Task 10: What was the size in bytes of the database backup as stated by access.log?\n",
    "    - Using the same entry in the access log we get the `size`\n",
    "    - Answer: `34707`"
   ]
  },
  {
   "cell_type": "code",
   "execution_count": null,
   "metadata": {},
   "outputs": [],
   "source": [
    "#Code for converting UNIX timestamps to correct format for answers\n",
    "from datetime import datetime, timezone\n",
    "print(datetime.strftime(datetime.fromtimestamp(1682506431, tz=timezone.utc), \"%d/%m/%Y %H:%M:%S\"))"
   ]
  },
  {
   "cell_type": "code",
   "execution_count": null,
   "metadata": {},
   "outputs": [],
   "source": [
    "import csv\n",
    "from datetime import datetime, timezone\n",
    "import pandas as pd\n",
    "data = []\n",
    "with open(r\"C:\\Users\\magnu\\Downloads\\access.log\") as log_fh:\n",
    "    lines = csv.reader(log_fh, delimiter=\" \", quotechar='\"', )\n",
    "    for line in lines:\n",
    "        for index,val in enumerate(line):\n",
    "            if val == \"-\":\n",
    "                line[index] = None\n",
    "        ts_zone = line.pop(4)\n",
    "        ts_time = line.pop(3)\n",
    "        ts_datetime = datetime.strptime(f\"{ts_time[1:]}{ts_zone[:-1]}\", \"%d/%b/%Y:%H:%M:%S%z\")\n",
    "        line.insert(3, ts_datetime.astimezone(timezone.utc))\n",
    "        request = line.pop(4).split(\" \")\n",
    "        line.insert(4, request[0])\n",
    "        line.insert(5, request[1])\n",
    "        line.insert(6, request[2])\n",
    "        line.pop(1)\n",
    "        line.pop(1)\n",
    "        data.append(line)\n",
    "df = pd.DataFrame(data, columns=[\"ip\", \"ts\", \"HTTP_method\", \"request\", \"HTTP_version\", \"response_code\", \"size\", \"URL\", \"user_agent\"])\n",
    "show_case = [\"ip\", \"ts\", \"HTTP_method\", \"response_code\", \"size\", \"URL\"]\n",
    "for data in df.itertuples():\n",
    "    print(f\"{datetime.strftime(data.ts, \"%d/%m/%Y %H:%M:%S\")}  {data.HTTP_method:>10} {data.response_code:>6} {data.size:>6}   {data.URL}\")"
   ]
  }
 ],
 "metadata": {
  "kernelspec": {
   "display_name": "Python 3",
   "language": "python",
   "name": "python3"
  },
  "language_info": {
   "codemirror_mode": {
    "name": "ipython",
    "version": 3
   },
   "file_extension": ".py",
   "mimetype": "text/x-python",
   "name": "python",
   "nbconvert_exporter": "python",
   "pygments_lexer": "ipython3",
   "version": "3.12.0"
  }
 },
 "nbformat": 4,
 "nbformat_minor": 2
}
