{
 "cells": [
  {
   "cell_type": "code",
   "execution_count": null,
   "metadata": {},
   "outputs": [],
   "source": [
    "import string\n",
    "cipher = \"f8f3c9ddefd1f5c8feeef1c7dec8f8edcbefc3ccfdc1f6fdf5d3f0f8f1c7cbcef5c1fafddcc5e3c1f6fdf5ccf4fffffdce81b0bfb5e5\"\n",
    "cipher_list = []\n",
    "for i in range(0,len(cipher),2):\n",
    "    cipher_list.append(int(cipher[i:i+2],16))\n",
    "\n",
    "key = [170,160,145,158,148]\n",
    "\n",
    "alpha = string.ascii_uppercase+\"-_{}\"\n",
    "\n",
    "for i,k in enumerate(key):\n",
    "    p = cipher_list[i] ^ k\n",
    "    print(f\"{k}: {cipher_list[i]}^{k}={p} => {chr(p)} == key: {hex(k)}\")\n",
    "\n",
    "for k in range(0x100):\n",
    "    p = cipher_list[len(key)] ^ k\n",
    "    if chr(p) in alpha:\n",
    "        print(f\"{k}: {cipher_list[i]}^{k}={p} => {chr(p)} == key: {hex(k)}\")"
   ]
  }
 ],
 "metadata": {
  "kernelspec": {
   "display_name": "Python 3",
   "language": "python",
   "name": "python3"
  },
  "language_info": {
   "codemirror_mode": {
    "name": "ipython",
    "version": 3
   },
   "file_extension": ".py",
   "mimetype": "text/x-python",
   "name": "python",
   "nbconvert_exporter": "python",
   "pygments_lexer": "ipython3",
   "version": "3.11.2"
  },
  "orig_nbformat": 4
 },
 "nbformat": 4,
 "nbformat_minor": 2
}
