{
 "cells": [
  {
   "cell_type": "markdown",
   "metadata": {},
   "source": [
    "# ncsc.cyberforce.no\n",
    "## Nasjonalt cybersikkerhetssenter (NCSC)\n",
    "### DatEng\n",
    "- [101] Statistikk UserAgents #1\n",
    "- [102] Statistikk UserAgents #2\n",
    "- [103] Prosentfordeling - netflow #1\n",
    "- [104] parsing error\n",
    "- [105] Visualisering #1\n",
    "\n",
    "### THHH\n",
    "- [121] Trusseljakt på Windows\n",
    "- [122] Kodeknekkeren\n",
    "- [123] Trusseljakt i Linux\n",
    "- [124] Domain dominance\n",
    "- [125] Beep Beeeeep Beep Beeeeeep\n",
    "\n",
    "### TakAna\n",
    "- [151] Trusseletterretning i det digitale rom\n",
    "- [152] Sårbarhetsoversikt #1\n",
    "- [153] Sårbarhetsoversikt #2\n",
    "- [154] Rammeverk\n",
    "- [155] Viktig faktor i en cyberopasjon"
   ]
  },
  {
   "cell_type": "code",
   "execution_count": null,
   "metadata": {},
   "outputs": [],
   "source": [
    "import hashlib\n",
    "def gen_resp(string:str=\"\"):\n",
    "    en=string.encode()\n",
    "    hex_result = hashlib.md5(en)\n",
    "    print(\"SNIFF{\" + hex_result.hexdigest() + \"}\")"
   ]
  },
  {
   "cell_type": "markdown",
   "metadata": {},
   "source": [
    "### 101 - Statistikk UserAgents #1\n",
    "- file: \"uaiai.txt\"\n",
    "\n",
    "Kan du bidra med å finne antall unike UserAgents i dette datasettet, i perioden fra og med søndag, 29. august, 2021 7:27:03 PM (UTC) og til og med fredag, 29. oktober, 2021 9:48:39 AM (UTC)?"
   ]
  },
  {
   "cell_type": "code",
   "execution_count": null,
   "metadata": {},
   "outputs": [],
   "source": [
    "from datetime import datetime\n",
    "import time\n",
    "\n",
    "ts_start    = time.mktime( datetime(2021,8,29,17,27,3).timetuple() )\n",
    "ts_end      = time.mktime( datetime(2021,10,29,7,48,39).timetuple() )\n",
    "\n",
    "\n",
    "with open(\"files/uaiai.txt\", \"r\") as datafile:\n",
    "    content = datafile.read().strip().split(\"\\n\")\n",
    "    data = []\n",
    "    for line in content:\n",
    "        line_data = line.split(\"|\")\n",
    "        ts = int(line_data[0])\n",
    "        if line_data[2] == \"\":  #Skip blanks\n",
    "            continue\n",
    "        if ts_start <=  ts and ts_end >= ts:\n",
    "            data.append( {\"ts\": datetime.fromtimestamp(ts), \"md5\": line_data[1], \"ua\": line_data[2]} )\n",
    "\n",
    "unique = [el[\"ua\"] for el in data]\n",
    "\n",
    "unique = set(unique)\n",
    "print( len(unique))\n",
    "gen_resp( str(len(unique)) )"
   ]
  },
  {
   "cell_type": "markdown",
   "metadata": {},
   "source": [
    "### 102 - Statistikk UserAgents #2\n",
    "- file: \"uaiai.txt\"\n",
    "\n",
    "Kan du finne ut hva som er den mest bruke UserAgenten i hele datasettet (- samme datasett som i oppgave #1)?"
   ]
  },
  {
   "cell_type": "code",
   "execution_count": null,
   "metadata": {},
   "outputs": [],
   "source": [
    "uas = {}\n",
    "\n",
    "with open(\"files/uaiai.txt\", \"r\") as datafile:\n",
    "    content = datafile.read().strip().split(\"\\n\")\n",
    "    data = []\n",
    "    for line in content:\n",
    "        line_data = line.split(\"|\")\n",
    "        if line_data[2] == \"\":  #Skip blanks\n",
    "            continue\n",
    "        ua = line_data[2]\n",
    "        if ua not in uas:\n",
    "            uas.update({ua:1})\n",
    "        else:\n",
    "            uas[ua] += 1\n",
    "\n",
    "cur = 0\n",
    "winner = None\n",
    "for ua, el in uas.items():\n",
    "    if cur <  el:\n",
    "        print( el, ua )\n",
    "        winner = ua\n",
    "        cur = el\n",
    "\n",
    "gen_resp( winner )"
   ]
  },
  {
   "cell_type": "markdown",
   "metadata": {},
   "source": [
    "### 103 - Prosentfordeling - netflow #1\n",
    "- file: \"theflow.csv\"\n",
    "\n",
    "1. Basert på følgende datasett, kan du finne hvor mange unike IP-adresser som eksisterer?\n",
    "2. Datamodellen er bygget opp med følgende struktur: STARTTIME;SOURCE;DEST;PROTO;PACKETS;BYTES;DURATION\n",
    "3. Eksempel på en linje: 2019-09-03T05:00:03;8.8.8.8:53;10.23.35.133:64352;udp;1;78;00:00:00"
   ]
  },
  {
   "cell_type": "code",
   "execution_count": null,
   "metadata": {},
   "outputs": [],
   "source": [
    "IPS = []\n",
    "\n",
    "with open(\"files/theflow.csv\", \"r\") as datafile:\n",
    "    content = datafile.read().strip().split(\"\\n\")\n",
    "    for line in content[1:]:\n",
    "        data = line.split(\";\")\n",
    "        \n",
    "        src_ip = data[1][ : data[1].find(\":\") ] if \":\" in data[1] else data[1]\n",
    "        if src_ip not in IPS:\n",
    "            IPS.append( src_ip )\n",
    "        \n",
    "        dst_ip = data[2][ : data[2].find(\":\") ] if \":\" in data[2] else data[2]\n",
    "        if dst_ip not in IPS:\n",
    "            IPS.append( dst_ip )\n",
    "\n",
    "print( len(IPS) )"
   ]
  },
  {
   "cell_type": "markdown",
   "metadata": {},
   "source": [
    "### 104 - parsing error\n",
    "- files: \"error-on-lines.csv\"\n",
    "\n",
    "1. Hvilke linjer har en feil som gjør at det ville vært problematisk å parse disse dataene? Headeren telles som linje 1.\n",
    "\n",
    "    Avgi svaret som en kolonseparert liste uten mellomrom i stigende rekkefølge,\n",
    "     eksempelvis: \\\"13:37\\\" - uten fnutter.\""
   ]
  },
  {
   "cell_type": "code",
   "execution_count": null,
   "metadata": {},
   "outputs": [],
   "source": [
    "from datetime import datetime\n",
    "\n",
    "error_lines = []\n",
    "\n",
    "def line_2_csv( line_str, sep=\",\", textmarker='\"' ):\n",
    "    columns = []\n",
    "\n",
    "    text_index = 0\n",
    "    while text_index < len(line_str):\n",
    "        scan_2_marker = False\n",
    "        if line_str[text_index] == textmarker:\n",
    "            scan_2_marker = True\n",
    "            count = line_str[text_index+1:].find(textmarker)\n",
    "        else:\n",
    "            count = line_str[text_index:].find(sep)\n",
    "        if count == -1:\n",
    "            count = len(line_str) - text_index\n",
    "        \n",
    "        if scan_2_marker:\n",
    "            columns.append( line_str[text_index+1:text_index + count + 1] )\n",
    "            text_index += count + 2\n",
    "        else:\n",
    "            columns.append( line_str[text_index:text_index+count] )\n",
    "            text_index += count\n",
    "        \n",
    "        count = line_str[text_index:].find( sep )\n",
    "        if count != -1:\n",
    "            text_index += 1 + count #Skip separator\n",
    "    return columns\n",
    "\n",
    "\n",
    "csv = []\n",
    "with open(\"files/error-on-lines.csv\", \"r\") as datafile:\n",
    "    content = datafile.read().strip().split(\"\\n\")\n",
    "    for line_number, line_str in enumerate(content):\n",
    "        line_str = line_str.strip()\n",
    "        \n",
    "        csv_line = line_2_csv( line_str )\n",
    "\n",
    "        if len( csv_line ) != 4:\n",
    "            error_lines.append( str(line_number+1) )\n",
    "            continue\n",
    "        if line_number == 0:\n",
    "            continue\n",
    "\n",
    "        csv_line[0] = datetime.strptime( csv_line[0], \"%Y-%m-%dT%H:%M:%S.%f%z\" )\n",
    "        csv.append( csv_line )\n",
    "\n",
    "print( \":\".join(error_lines) )"
   ]
  },
  {
   "cell_type": "markdown",
   "metadata": {},
   "source": [
    "### 105 - Visualisering #1\n",
    "- file: \"cyber.numbers\"\n",
    "1. Hva skal følgende tallrepresentasjon trolig fremstille?"
   ]
  },
  {
   "cell_type": "code",
   "execution_count": null,
   "metadata": {},
   "outputs": [],
   "source": [
    "from matplotlib.pyplot import plot\n",
    "\n",
    "content = [\n",
    "    [[[50,61], [41,65], [30,65], [19,62], [12,57], [7,51], [6,43], [6,34], [5,27], [7,18], [10,13], [16,6], [20,2], [28,0], [38,1], [49,3], [49,14], [45,12], [38,10], [33,10], [25,13], [21,18], [18,24], [18,35], [20,46], [23,50], [29,54], [38,55], [44,53], [50,51], [50,61]]],\n",
    "    [[[99,64], [88,64], [88,41], [67,1], [80,1], [93,30], [108,1], [120,1], [99,41], [99,64]]],\n",
    "    [\n",
    "        [[137,65], [137,1], [160,1], [168,2], [173,4], [175,6], [177,10], [178,14], [178,18], [177,22], [176,25], [174,27], [172,30], [169,31], [174,32], [176,34], [178,36], [180,38], [181,42], [181,48], [180,52], [178,56], [174,60], [168,63], [161,65], [137,65]],\n",
    "        [[149,28], [149,11], [158,11], [163,13], [165,16], [165,20], [164,24], [161,26], [159,28], [149,28]],\n",
    "        [[149,53], [149,36], [158,36], [163,38], [165,41], [165,45], [164,49], [161,51], [159,53], [149,53]]\n",
    "    ],\n",
    "    [[[205,64], [205,1], [244,1], [244,10], [217,10], [217,27], [243,27], [243,36], [217,36], [217,55], [244,55], [244,64], [205,64]]],\n",
    "    [\n",
    "        [[266,64], [266,1], [288,1], [296,2], [302,4], [305,7], [307,11], [309,18], [308,23], [307,26], [305,29], [303,31], [299,32], [295,34], [299,37], [301,39], [313,64], [299,64], [291,44], [288,40], [284,38], [278,37], [278,64], [266,64]],\n",
    "        [[280,34], [280,11], [288,11], [294,12], [296,14], [298,16], [299,19], [299,23], [297,27], [296,30], [294,32], [290,33], [287,34], [280,34]]\n",
    "    ],\n",
    "    [[[330,62], [330,51], [343,54], [353,54], [360,52], [362,50], [363,46], [362,43], [358,40], [345,35], [338,32], [334,29], [331,23], [331,14], [333,9], [337,5], [343,1], [348,0], [353,0], [360,1], [370,2], [370,12], [365,10], [360,9], [351,9], [347,11], [344,14], [343,19], [346,21], [351,24], [363,29], [369,32], [373,36], [375,42], [375,48], [373,55], [370,59], [367,61], [364,63], [356,65], [347,65], [339,65], [330,62]]],\n",
    "    [[[395,65], [395,1], [407,1], [407,26], [430,26], [430,1], [441,1], [441,65], [430,65], [430,36], [407,36], [407,65], [395,65]]],\n",
    "    [[[465,64], [465,1], [504,1], [504,10], [477,10], [477,27], [503,27], [503,36], [477,36], [477,55], [504,55], [504,64], [465,64]]],\n",
    "    [[[570,65], [530,65], [530,1], [542,1], [542,54], [570,54], [570,65]]],\n",
    "    [[[635,65], [595,65], [595,1], [607,1], [607,54], [635,54], [635,65]]]\n",
    "]\n",
    "\n",
    "for line in content:\n",
    "    for dataset in line:\n",
    "        x_arr = [x for x,y in dataset]\n",
    "        y_arr = [y for x,y in dataset]\n",
    "        plot(x_arr, y_arr)"
   ]
  }
 ],
 "metadata": {
  "kernelspec": {
   "display_name": "Python 3.10.5 64-bit",
   "language": "python",
   "name": "python3"
  },
  "language_info": {
   "codemirror_mode": {
    "name": "ipython",
    "version": 3
   },
   "file_extension": ".py",
   "mimetype": "text/x-python",
   "name": "python",
   "nbconvert_exporter": "python",
   "pygments_lexer": "ipython3",
   "version": "3.10.6"
  },
  "orig_nbformat": 4,
  "vscode": {
   "interpreter": {
    "hash": "369f2c481f4da34e4445cda3fffd2e751bd1c4d706f27375911949ba6bb62e1c"
   }
  }
 },
 "nbformat": 4,
 "nbformat_minor": 2
}
