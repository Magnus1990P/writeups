{
 "cells": [
  {
   "cell_type": "markdown",
   "metadata": {},
   "source": [
    "--- Day 2: Cube Conundrum ---\n",
    "You're launched high into the atmosphere! The apex of your trajectory just barely reaches the surface of a large island floating in the sky. You gently land in a fluffy pile of leaves. It's quite cold, but you don't see much snow. An Elf runs over to greet you.\n",
    "\n",
    "The Elf explains that you've arrived at Snow Island and apologizes for the lack of snow. He'll be happy to explain the situation, but it's a bit of a walk, so you have some time. They don't get many visitors up here; would you like to play a game in the meantime?\n",
    "\n",
    "As you walk, the Elf shows you a small bag and some cubes which are either red, green, or blue. Each time you play this game, he will hide a secret number of cubes of each color in the bag, and your goal is to figure out information about the number of cubes.\n",
    "\n",
    "To get information, once a bag has been loaded with cubes, the Elf will reach into the bag, grab a handful of random cubes, show them to you, and then put them back in the bag. He'll do this a few times per game.\n",
    "\n",
    "You play several games and record the information from each game (your puzzle input). Each game is listed with its ID number (like the 11 in Game 11: ...) followed by a semicolon-separated list of subsets of cubes that were revealed from the bag (like 3 red, 5 green, 4 blue).\n",
    "\n",
    "For example, the record of a few games might look like this:\n",
    "\n",
    "Game 1: 3 blue, 4 red; 1 red, 2 green, 6 blue; 2 green\n",
    "Game 2: 1 blue, 2 green; 3 green, 4 blue, 1 red; 1 green, 1 blue\n",
    "Game 3: 8 green, 6 blue, 20 red; 5 blue, 4 red, 13 green; 5 green, 1 red\n",
    "Game 4: 1 green, 3 red, 6 blue; 3 green, 6 red; 3 green, 15 blue, 14 red\n",
    "Game 5: 6 red, 1 blue, 3 green; 2 blue, 1 red, 2 green\n",
    "In game 1, three sets of cubes are revealed from the bag (and then put back again). The first set is 3 blue cubes and 4 red cubes; the second set is 1 red cube, 2 green cubes, and 6 blue cubes; the third set is only 2 green cubes.\n",
    "\n",
    "The Elf would first like to know which games would have been possible if the bag contained only 12 red cubes, 13 green cubes, and 14 blue cubes?\n",
    "\n",
    "In the example above, games 1, 2, and 5 would have been possible if the bag had been loaded with that configuration. However, game 3 would have been impossible because at one point the Elf showed you 20 red cubes at once; similarly, game 4 would also have been impossible because the Elf showed you 15 blue cubes at once. If you add up the IDs of the games that would have been possible, you get 8.\n",
    "\n",
    "Determine which games would have been possible if the bag had been loaded with only 12 red cubes, 13 green cubes, and 14 blue cubes. What is the sum of the IDs of those games?"
   ]
  },
  {
   "cell_type": "code",
   "execution_count": null,
   "metadata": {},
   "outputs": [],
   "source": [
    "cube_max = [12, 13, 14]\n",
    "        #   R    G   B\n",
    "game_sum = 0\n",
    "game_count = 1\n",
    "with open(\"files/day_02.txt\") as input_file:\n",
    "    for line in input_file.readlines():\n",
    "        for set_line in line[line.find(\":\")+1:].strip().split(\"; \"):\n",
    "            valid_game = True\n",
    "            for item in set_line.split(\", \"):\n",
    "                val,colour = item.split(\" \")\n",
    "                val = int(val)\n",
    "                if colour == \"red\" and val > cube_max[0]:\n",
    "                    valid_game = False\n",
    "                    break\n",
    "                elif colour == \"green\" and val > cube_max[1]:\n",
    "                    valid_game = False\n",
    "                    break\n",
    "                elif colour == \"blue\" and val > cube_max[2]:\n",
    "                    valid_game = False\n",
    "                    break\n",
    "            if not valid_game:\n",
    "                break\n",
    "        if valid_game:\n",
    "            game_sum += game_count\n",
    "        game_count += 1\n",
    "print(game_sum)\n"
   ]
  },
  {
   "cell_type": "markdown",
   "metadata": {},
   "source": [
    "--- Part Two ---\n",
    "The Elf says they've stopped producing snow because they aren't getting any water! He isn't sure why the water stopped; however, he can show you how to get to the water source to check it out for yourself. It's just up ahead!\n",
    "\n",
    "As you continue your walk, the Elf poses a second question: in each game you played, what is the fewest number of cubes of each color that could have been in the bag to make the game possible?\n",
    "\n",
    "Again consider the example games from earlier:\n",
    "```\n",
    "Game 1: 3 blue, 4 red; 1 red, 2 green, 6 blue; 2 green\n",
    "Game 2: 1 blue, 2 green; 3 green, 4 blue, 1 red; 1 green, 1 blue\n",
    "Game 3: 8 green, 6 blue, 20 red; 5 blue, 4 red, 13 green; 5 green, 1 red\n",
    "Game 4: 1 green, 3 red, 6 blue; 3 green, 6 red; 3 green, 15 blue, 14 red\n",
    "Game 5: 6 red, 1 blue, 3 green; 2 blue, 1 red, 2 green\n",
    "```\n",
    "In:\n",
    "- Game 1, the game could have been played with as few as 4 red, 2 green, and 6 blue cubes. If any color had even one fewer cube, the game would have been impossible.\n",
    "- Game 2 could have been played with a minimum of 1 red, 3 green, and 4 blue cubes.\n",
    "- Game 3 must have been played with at least 20 red, 13 green, and 6 blue cubes.\n",
    "- Game 4 required at least 14 red, 3 green, and 15 blue cubes.\n",
    "- Game 5 needed no fewer than 6 red, 3 green, and 2 blue cubes in the bag.\n",
    "\n",
    "1. The power of a set of cubes is equal to the numbers of red, green, and blue cubes multiplied together.\n",
    "1. The power of the minimum set of cubes in game 1 is 48.\n",
    "    - In games 2-5 it was 12, 1560, 630, and 36, respectively.\n",
    "    - Adding up these five powers produces the sum 2286.\n",
    "\n",
    "For each game, find the minimum set of cubes that must have been present. What is the sum of the power of these sets?"
   ]
  },
  {
   "cell_type": "code",
   "execution_count": null,
   "metadata": {},
   "outputs": [],
   "source": [
    "from math import prod\n",
    "game_products = []\n",
    "with open(\"files/day_02.txt\") as input_file:\n",
    "    for line in input_file.readlines():\n",
    "        cube_max = [0,0,0]\n",
    "        for set_line in line[line.find(\":\")+1:].strip().split(\"; \"):\n",
    "            for item in set_line.split(\", \"):\n",
    "                val,colour = item.split(\" \")\n",
    "                val = int(val)\n",
    "                if colour == \"red\" and val > cube_max[0]:\n",
    "                    cube_max[0] = val\n",
    "                elif colour == \"green\" and val > cube_max[1]:\n",
    "                    cube_max[1] = val\n",
    "                elif colour == \"blue\" and val > cube_max[2]:\n",
    "                    cube_max[2] = val\n",
    "        game_products.append( prod([val for val in cube_max if val > 0]) )\n",
    "print(sum(game_products))"
   ]
  }
 ],
 "metadata": {
  "kernelspec": {
   "display_name": "Python 3",
   "language": "python",
   "name": "python3"
  },
  "language_info": {
   "codemirror_mode": {
    "name": "ipython",
    "version": 3
   },
   "file_extension": ".py",
   "mimetype": "text/x-python",
   "name": "python",
   "nbconvert_exporter": "python",
   "pygments_lexer": "ipython3",
   "version": "3.12.0"
  }
 },
 "nbformat": 4,
 "nbformat_minor": 2
}
