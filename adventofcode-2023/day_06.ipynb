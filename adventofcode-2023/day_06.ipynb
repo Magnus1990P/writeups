{
 "cells": [
  {
   "cell_type": "markdown",
   "metadata": {},
   "source": [
    "--- Day 6: Wait For It ---\n",
    "The ferry quickly brings you across Island Island. After asking around, you discover that there is indeed normally a large pile of sand somewhere near here, but you don't see anything besides lots of water and the small island where the ferry has docked.\n",
    "\n",
    "As you try to figure out what to do next, you notice a poster on a wall near the ferry dock. \"Boat races! Open to the public! Grand prize is an all-expenses-paid trip to Desert Island!\" That must be where the sand comes from! Best of all, the boat races are starting in just a few minutes.\n",
    "\n",
    "You manage to sign up as a competitor in the boat races just in time. The organizer explains that it's not really a traditional race - instead, you will get a fixed amount of time during which your boat has to travel as far as it can, and you win if your boat goes the farthest.\n",
    "\n",
    "As part of signing up, you get a sheet of paper (your puzzle input) that lists the time allowed for each race and also the best distance ever recorded in that race. To guarantee you win the grand prize, you need to make sure you go farther in each race than the current record holder.\n",
    "\n",
    "The organizer brings you over to the area where the boat races are held. The boats are much smaller than you expected - they're actually toy boats, each with a big button on top. Holding down the button charges the boat, and releasing the button allows the boat to move. Boats move faster if their button was held longer, but time spent holding the button counts against the total race time. You can only hold the button at the start of the race, and boats don't move until the button is released.\n",
    "\n",
    "For example:\n",
    "```\n",
    "Time:      7  15   30\n",
    "Distance:  9  40  200\n",
    "```\n",
    "This document describes three races:\n",
    "- The first race lasts 7 milliseconds.\n",
    "    - The record distance in this race is 9 millimeters.\n",
    "- The second race lasts 15 milliseconds.\n",
    "    - The record distance in this race is 40 millimeters.\n",
    "- The third race lasts 30 milliseconds.\n",
    "    - The record distance in this race is 200 millimeters.\n",
    "\n",
    "Your toy boat has \n",
    "    - a starting speed of zero millimeters per millisecond.\n",
    "    - For each whole millisecond you spend at the beginning of the race holding down the button, the boat's speed increases by one millimeter per millisecond.\n",
    "\n",
    "So, because the first race lasts 7 milliseconds, you only have a few options:\n",
    "1. Don't hold the button at all (that is, hold it for 0 milliseconds) at the start of the race.\n",
    "    - The boat won't move;\n",
    "    - it will have traveled 0 millimeters by the end of the race.\n",
    "1. Hold the button for 1 millisecond at the start of the race.\n",
    "    - Then, the boat will travel at a speed of 1 millimeter per millisecond for 6 milliseconds, \n",
    "    - reaching a total distance traveled of 6 millimeters.\n",
    "1. Hold the button for 2 milliseconds, giving the boat a speed of 2 millimeters per millisecond. \n",
    "    - It will then get 5 milliseconds to move, reaching a total distance of 10 millimeters.\n",
    "1. Hold the button for 3 milliseconds. \n",
    "    - After its remaining 4 milliseconds of travel time, \n",
    "    - the boat will have gone 12 millimeters.\n",
    "1. Hold the button for 4 milliseconds. \n",
    "    - After its remaining 3 milliseconds of travel time, \n",
    "    - the boat will have gone 12 millimeters.\n",
    "1. Hold the button for 5 milliseconds, \n",
    "    - causing the boat to travel a total of 10 millimeters.\n",
    "1. Hold the button for 6 milliseconds, \n",
    "    - causing the boat to travel a total of 6 millimeters.\n",
    "1. Hold the button for 7 milliseconds. \n",
    "    - That's the entire duration of the race. \n",
    "    - You never let go of the button. \n",
    "    - The boat can't move until you let go of the button. \n",
    "    - Please make sure you let go of the button so the boat gets to move. \n",
    "    - 0 millimeters.\n",
    "\n",
    "Since the current record for this race is 9 millimeters, there are actually 4 different ways you could win: you could hold the button for 2, 3, 4, or 5 milliseconds at the start of the race.\n",
    "\n",
    "In the second race, you could hold the button for at least 4 milliseconds and at most 11 milliseconds and beat the record, a total of 8 different ways to win.\n",
    "\n",
    "In the third race, you could hold the button for at least 11 milliseconds and no more than 19 milliseconds and still beat the record, a total of 9 ways you could win.\n",
    "\n",
    "To see how much margin of error you have, determine the number of ways you can beat the record in each race; in this example, if you multiply these values together, you get 288 (4 * 8 * 9).\n",
    "\n",
    "Determine the number of ways you could beat the record in each race. What do you get if you multiply these numbers together?\n",
    "\n",
    "To begin, get your puzzle input."
   ]
  },
  {
   "cell_type": "code",
   "execution_count": 29,
   "metadata": {},
   "outputs": [
    {
     "name": "stdout",
     "output_type": "stream",
     "text": [
      "Answer: 345015\n"
     ]
    }
   ],
   "source": [
    "from math import prod\n",
    "with open(\"./files/day_06.txt\") as result_file:\n",
    "    race_times = [int(race_time) for race_time in result_file.readline().strip()[10:].split(\" \") if race_time.isnumeric()]\n",
    "    distances = [int(distance) for distance in result_file.readline().strip()[10:].split(\" \") if distance.isnumeric()]\n",
    "wins = []\n",
    "dataset = zip(race_times, distances)\n",
    "for time,win_distance in dataset:\n",
    "    a = [(time-ms_hold)*ms_hold > win_distance for ms_hold in range(time+1)]\n",
    "    if sum(a) > 0:\n",
    "        wins.append(sum(a))\n",
    "print(f\"Answer: {prod(wins)}\")"
   ]
  },
  {
   "cell_type": "markdown",
   "metadata": {},
   "source": [
    "--- Part Two ---\n",
    "As the race is about to start, you realize the piece of paper with race times and record distances you got earlier actually just has very bad kerning. There's really only one race - ignore the spaces between the numbers on each line.\n",
    "\n",
    "So, the example from before:\n",
    "```\n",
    "Time:      7  15   30\n",
    "Distance:  9  40  200\n",
    "```\n",
    "...now instead means this:\n",
    "```\n",
    "Time:      71530\n",
    "Distance:  940200\n",
    "```\n",
    "\n",
    "Now, you have to figure out how many ways there are to win this single race. In this example, the race lasts for 71530 milliseconds and the record distance you need to beat is 940200 millimeters. You could hold the button anywhere from 14 to 71516 milliseconds and beat the record, a total of 71503 ways!\n",
    "\n",
    "How many ways can you beat the record in this one much longer race?"
   ]
  },
  {
   "cell_type": "code",
   "execution_count": 38,
   "metadata": {},
   "outputs": [
    {
     "name": "stdout",
     "output_type": "stream",
     "text": [
      "60947882 475213810151650\n",
      "Answer: 42588603\n"
     ]
    }
   ],
   "source": [
    "with open(\"./files/day_06.txt\") as result_file:\n",
    "    race_time = int(result_file.readline().strip()[10:].replace(\" \", \"\"))\n",
    "    win_distance = int(result_file.readline().strip()[10:].replace(\" \", \"\"))\n",
    "wins = []\n",
    "a =[(race_time-ms_hold)*ms_hold>win_distance for ms_hold in range(race_time+1)]\n",
    "print(f\"Answer: {sum(a)}\")"
   ]
  }
 ],
 "metadata": {
  "kernelspec": {
   "display_name": "Python 3",
   "language": "python",
   "name": "python3"
  },
  "language_info": {
   "codemirror_mode": {
    "name": "ipython",
    "version": 3
   },
   "file_extension": ".py",
   "mimetype": "text/x-python",
   "name": "python",
   "nbconvert_exporter": "python",
   "pygments_lexer": "ipython3",
   "version": "3.12.0"
  }
 },
 "nbformat": 4,
 "nbformat_minor": 2
}
