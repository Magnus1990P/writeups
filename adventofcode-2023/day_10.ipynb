{
 "cells": [
  {
   "cell_type": "code",
   "execution_count": 49,
   "metadata": {},
   "outputs": [],
   "source": [
    "from dataclasses import dataclass\n",
    "\n",
    "class map_node():\n",
    "    visited = False\n",
    "    neighbors = []\n",
    "    \n",
    "    def visit(self):\n",
    "        if self.visited:\n",
    "            return False\n",
    "        self.visited = True\n",
    "        return True\n",
    "\n",
    "    def add_neighbor(self, y, x):\n",
    "        self.neighbors.append((y,x))"
   ]
  },
  {
   "cell_type": "code",
   "execution_count": 53,
   "metadata": {},
   "outputs": [
    {
     "ename": "TypeError",
     "evalue": "map_node.add_neighbor() missing 1 required positional argument: 'x'",
     "output_type": "error",
     "traceback": [
      "\u001b[1;31m---------------------------------------------------------------------------\u001b[0m",
      "\u001b[1;31mTypeError\u001b[0m                                 Traceback (most recent call last)",
      "\u001b[1;32mc:\\git\\writeups\\adventofcode-2023\\day_10.ipynb Cell 2\u001b[0m line \u001b[0;36m4\n\u001b[0;32m     <a href='vscode-notebook-cell:/c%3A/git/writeups/adventofcode-2023/day_10.ipynb#W0sZmlsZQ%3D%3D?line=46'>47</a>\u001b[0m \u001b[39m#W\u001b[39;00m\n\u001b[0;32m     <a href='vscode-notebook-cell:/c%3A/git/writeups/adventofcode-2023/day_10.ipynb#W0sZmlsZQ%3D%3D?line=47'>48</a>\u001b[0m \u001b[39mif\u001b[39;00m links[\u001b[39m2\u001b[39m] \u001b[39mand\u001b[39;00m (x\u001b[39m+\u001b[39m\u001b[39m1\u001b[39m) \u001b[39m<\u001b[39m X:\n\u001b[1;32m---> <a href='vscode-notebook-cell:/c%3A/git/writeups/adventofcode-2023/day_10.ipynb#W0sZmlsZQ%3D%3D?line=48'>49</a>\u001b[0m     graph[y][x]\u001b[39m.\u001b[39;49madd_neighbor(y,x\u001b[39m+\u001b[39;49m\u001b[39m1\u001b[39;49m)\n\u001b[0;32m     <a href='vscode-notebook-cell:/c%3A/git/writeups/adventofcode-2023/day_10.ipynb#W0sZmlsZQ%3D%3D?line=49'>50</a>\u001b[0m     graph[y][x\u001b[39m+\u001b[39m\u001b[39m1\u001b[39m]\u001b[39m.\u001b[39madd_neighbor(y,x)\n\u001b[0;32m     <a href='vscode-notebook-cell:/c%3A/git/writeups/adventofcode-2023/day_10.ipynb#W0sZmlsZQ%3D%3D?line=50'>51</a>\u001b[0m \u001b[39m#S\u001b[39;00m\n",
      "\u001b[1;31mTypeError\u001b[0m: map_node.add_neighbor() missing 1 required positional argument: 'x'"
     ]
    }
   ],
   "source": [
    "import numpy as np\n",
    "map = []\n",
    "with open(\"./files/day_10.txt\") as raw_map:\n",
    "    for line in raw_map.readlines():\n",
    "        map.append(list(line.strip()))\n",
    "Y,X = len(map),len(map[0])\n",
    "\n",
    "graph = []\n",
    "for y in range(Y):\n",
    "    col = []\n",
    "    for x in range(X):\n",
    "        node = map_node\n",
    "        col.append(node)\n",
    "    graph.append(col)\n",
    "\n",
    "for y in range(Y):\n",
    "    for x in range(X):\n",
    "        val = map[y][x]\n",
    "                #N W E S\n",
    "        links = [0,0,0,0]\n",
    "        if val == \"S\":\n",
    "            start_node = (y,x)\n",
    "\n",
    "        if val == \".\":\n",
    "            continue\n",
    "        if val == \"L\":\n",
    "            links = [1,0,1,0]\n",
    "        elif val == \"-\":\n",
    "            links = [0,1,1,0]\n",
    "        elif val == \"|\":\n",
    "            links= [1,0,0,1]\n",
    "        elif val == \"J\":\n",
    "            links = [1,1,0,0]\n",
    "        elif val == \"7\":\n",
    "            links = [0,1,0,1]\n",
    "        elif val == \"F\":\n",
    "            links = [0,0,1,1]\n",
    "        \n",
    "        #N\n",
    "        if links[0] and (y-1) > 0:\n",
    "            graph[y][x].add_neighbor(y-1,x)\n",
    "            graph[y-1][x].add_neighbor(y,x)\n",
    "        #E\n",
    "        if links[1] and (x-1) > 0:\n",
    "            graph[y][x].add_neighbor(y,x-1)\n",
    "            graph[y][x-1].add_neighbor(y,x)\n",
    "        #W\n",
    "        if links[2] and (x+1) < X:\n",
    "            graph[y][x].add_neighbor(y,x+1)\n",
    "            graph[y][x+1].add_neighbor(y,x)\n",
    "        #S\n",
    "        if links[3] and (y+1) < Y:\n",
    "            graph[y][x].add_neighbor(y+1,x)\n",
    "            graph[y+1][x].add_neighbor(y,x)"
   ]
  },
  {
   "cell_type": "code",
   "execution_count": null,
   "metadata": {},
   "outputs": [],
   "source": []
  }
 ],
 "metadata": {
  "kernelspec": {
   "display_name": "Python 3",
   "language": "python",
   "name": "python3"
  },
  "language_info": {
   "codemirror_mode": {
    "name": "ipython",
    "version": 3
   },
   "file_extension": ".py",
   "mimetype": "text/x-python",
   "name": "python",
   "nbconvert_exporter": "python",
   "pygments_lexer": "ipython3",
   "version": "3.12.0"
  }
 },
 "nbformat": 4,
 "nbformat_minor": 2
}
