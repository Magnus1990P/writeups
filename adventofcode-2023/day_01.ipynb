{
 "cells": [
  {
   "cell_type": "markdown",
   "metadata": {},
   "source": [
    "--- Day 1: Trebuchet?! ---\n",
    "\n",
    "Something is wrong with global snow production, and you've been selected to take a look.\n",
    "\n",
    "You try to ask why they can't just use a weather machine (\"not powerful enough\") and where they're even sending you (\"the sky\") and why your map looks mostly blank (\"you sure ask a lot of questions\") and hang on did you just say the sky (\"of course, where do you think snow comes from\") when you realize that the Elves are already loading you into a trebuchet (\"please hold still, we need to strap you in\").\n",
    "\n",
    "As they're making the final adjustments, they discover that their calibration document (your puzzle input) has been amended by a very young Elf who was apparently just excited to show off her art skills. Consequently, the Elves are having trouble reading the values on the document.\n",
    "\n",
    "The newly-improved calibration document consists of \n",
    "- lines of text\n",
    "- each line originally contained a specific calibration value that the Elves now need to recover.\n",
    "- On each line, the calibration value can be found by combining the first digit and the last digit (in that order) to form a single two-digit number.\n",
    "\n",
    "For example:\n",
    "```\n",
    "1abc2\n",
    "pqr3stu8vwx\n",
    "a1b2c3d4e5f\n",
    "treb7uchet\n",
    "```\n",
    "In this example, the calibration values of these four lines are 12, 38, 15, and 77. Adding these together produces 142.\n",
    "\n",
    "Consider your entire calibration document. What is the sum of all of the calibration values?\n",
    "\n",
    "To begin, get your puzzle input."
   ]
  },
  {
   "cell_type": "code",
   "execution_count": null,
   "metadata": {},
   "outputs": [],
   "source": [
    "with open(\"files/day_01.txt\") as input_file:\n",
    "    alphabet = \"0123456789\"\n",
    "    data = []\n",
    "    for line in input_file.readlines():\n",
    "        numbers = [val for val in line.strip() if val in alphabet]\n",
    "        number = int(numbers[0]+numbers[-1])\n",
    "        data.append(number)\n",
    "print(f\"answer: {sum(data)}\")"
   ]
  },
  {
   "cell_type": "markdown",
   "metadata": {},
   "source": [
    "--- Part Two ---\n",
    "Your calculation isn't quite right. It looks like some of the digits are actually spelled out with letters: one, two, three, four, five, six, seven, eight, and nine also count as valid \"digits\".\n",
    "\n",
    "Equipped with this new information, you now need to find the real first and last digit on each line. For example:\n",
    "\n",
    "two1nine\n",
    "eightwothree\n",
    "abcone2threexyz\n",
    "xtwone3four\n",
    "4nineeightseven2\n",
    "zoneight234\n",
    "7pqrstsixteen\n",
    "In this example, the calibration values are 29, 83, 13, 24, 42, 14, and 76. Adding these together produces 281.\n",
    "\n",
    "What is the sum of all of the calibration values?"
   ]
  },
  {
   "cell_type": "code",
   "execution_count": null,
   "metadata": {},
   "outputs": [],
   "source": [
    "alphabet = {\"one\":\"1\", \"two\":\"2\", \"three\":\"3\", \n",
    "            \"four\":\"4\", \"five\":\"5\", \"six\":\"6\", \"seven\":\"7\",\n",
    "            \"eight\":\"8\", \"nine\":\"9\"}\n",
    "data = []\n",
    "with open(\"files/day_01.txt\") as input_file:\n",
    "    for line in input_file.readlines():\n",
    "        new_line = line.strip()\n",
    "        match_start = [len(new_line)]\n",
    "        match_end = [-1]\n",
    "        for key in alphabet:\n",
    "            index_s = line.find(key)\n",
    "            if index_s == -1:\n",
    "                continue\n",
    "            if index_s < match_start[0]:\n",
    "                match_start = [index_s, key]\n",
    "            index_e = line.rfind(key)\n",
    "            if index_e > match_end[0]:\n",
    "                match_end = [index_e, key]\n",
    "        if match_start[0] == -1:\n",
    "            data.append(new_line)\n",
    "            continue\n",
    "        if match_start[0] == 0:\n",
    "            new_line = alphabet[match_start[1]] + new_line\n",
    "        elif match_start[0] != len(new_line):\n",
    "            new_line = new_line[:match_start[0]] + alphabet[match_start[1]] + new_line[match_start[0]:]\n",
    "\n",
    "        if match_end[0] != match_start[0] and match_end[0] != -1:\n",
    "            new_line = new_line[:match_end[0]+1] + alphabet[match_end[1]] + new_line[match_end[0]+1:]\n",
    "        data.append(new_line)\n",
    "\n",
    "alphabet = \"0123456789\"\n",
    "numbers = []\n",
    "for line in data:\n",
    "    number_string = [val for val in line if val in alphabet]\n",
    "    numbers.append(int(f\"{number_string[0]}{number_string[-1]}\"))\n",
    "print(f\"answer: {sum(numbers)}\")"
   ]
  }
 ],
 "metadata": {
  "kernelspec": {
   "display_name": "Python 3",
   "language": "python",
   "name": "python3"
  },
  "language_info": {
   "codemirror_mode": {
    "name": "ipython",
    "version": 3
   },
   "file_extension": ".py",
   "mimetype": "text/x-python",
   "name": "python",
   "nbconvert_exporter": "python",
   "pygments_lexer": "ipython3",
   "version": "3.12.0"
  }
 },
 "nbformat": 4,
 "nbformat_minor": 2
}
